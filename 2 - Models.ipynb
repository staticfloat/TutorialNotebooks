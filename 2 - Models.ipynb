{
 "cells": [
  {
   "cell_type": "code",
   "execution_count": 1,
   "metadata": {},
   "outputs": [
    {
     "name": "stdout",
     "output_type": "stream",
     "text": [
      "\u001b[32m\u001b[1m  Updating\u001b[22m\u001b[39m registry at `~/.julia/registries/General`\n",
      "\u001b[32m\u001b[1m  Updating\u001b[22m\u001b[39m git-repo `https://github.com/JuliaRegistries/General.git`\n",
      "\u001b[2K\u001b[?25h[1mFetching:\u001b[22m\u001b[39m [========================================>]  100.0 %.0 %\u001b[36m\u001b[1mFetching:\u001b[22m\u001b[39m [=====>                                   ]  10.2 %\u001b[36m\u001b[1mFetching:\u001b[22m\u001b[39m [=====>                                   ]  12.0 %\u001b[36m\u001b[1mFetching:\u001b[22m\u001b[39m [======>                                  ]  13.5 %\u001b[36m\u001b[1mFetching:\u001b[22m\u001b[39m [======>                                  ]  14.6 %\u001b[36m\u001b[1mFetching:\u001b[22m\u001b[39m [=======>                                 ]  16.5 %\u001b[36m\u001b[1mFetching:\u001b[22m\u001b[39m [========>                                ]  18.4 %\u001b[36m\u001b[1mFetching:\u001b[22m\u001b[39m [=========>                               ]  20.2 %\u001b[36m\u001b[1mFetching:\u001b[22m\u001b[39m [=========>                               ]  22.1 %\u001b[36m\u001b[1mFetching:\u001b[22m\u001b[39m [==========>                              ]  23.0 %\u001b[36m\u001b[1mFetching:\u001b[22m\u001b[39m [==========>                              ]  24.6 %\u001b[36m\u001b[1mFetching:\u001b[22m\u001b[39m [===========>                             ]  26.3 %\u001b[36m\u001b[1mFetching:\u001b[22m\u001b[39m [============>                            ]  28.0 %\u001b[36m\u001b[1mFetching:\u001b[22m\u001b[39m [============>                            ]  29.3 %\u001b[36m\u001b[1mFetching:\u001b[22m\u001b[39m [=============>                           ]  31.3 %\u001b[36m\u001b[1mFetching:\u001b[22m\u001b[39m [==============>                          ]  32.7 %\u001b[36m\u001b[1mFetching:\u001b[22m\u001b[39m [==============>                          ]  34.7 %\u001b[36m\u001b[1mFetching:\u001b[22m\u001b[39m [===============>                         ]  36.6 %\u001b[36m\u001b[1mFetching:\u001b[22m\u001b[39m [===============>                         ]  37.5 %\u001b[36m\u001b[1mFetching:\u001b[22m\u001b[39m [================>                        ]  39.1 %\u001b[36m\u001b[1mFetching:\u001b[22m\u001b[39m [=====================>                   ]  50.1 %\u001b[36m\u001b[1mFetching:\u001b[22m\u001b[39m [=====================>                   ]  51.6 %\u001b[36m\u001b[1mFetching:\u001b[22m\u001b[39m [======================>                  ]  53.3 %\u001b[36m\u001b[1mFetching:\u001b[22m\u001b[39m [=======================>                 ]  55.1 %\u001b[36m\u001b[1mFetching:\u001b[22m\u001b[39m [=======================>                 ]  56.1 %\u001b[36m\u001b[1mFetching:\u001b[22m\u001b[39m [========================>                ]  57.7 %\u001b[36m\u001b[1mFetching:\u001b[22m\u001b[39m [========================>                ]  59.5 %\u001b[36m\u001b[1mFetching:\u001b[22m\u001b[39m [=====================================>   ]  92.0 %\u001b[36m\u001b[1mFetching:\u001b[22m\u001b[39m [=======================================> ]  95.6 %"
     ]
    },
    {
     "data": {
      "text/html": [
       "    <script class='js-collapse-script'>\n",
       "        var curMatch =\n",
       "            window.location.href\n",
       "            .match(/(.*?)\\/notebooks\\/.*\\.ipynb/);\n",
       "\n",
       "        curMatch = curMatch ||\n",
       "            window.location.href\n",
       "            .match(/(.*?)\\/apps\\/.*\\.ipynb/);\n",
       "\n",
       "        if ( curMatch ) {\n",
       "            $('head').append('<base href=\"' + curMatch[1] + '/\">');\n",
       "        }\n",
       "    </script>\n"
      ],
      "text/plain": [
       "HTML{String}(\"    <script class='js-collapse-script'>\\n        var curMatch =\\n            window.location.href\\n            .match(/(.*?)\\\\/notebooks\\\\/.*\\\\.ipynb/);\\n\\n        curMatch = curMatch ||\\n            window.location.href\\n            .match(/(.*?)\\\\/apps\\\\/.*\\\\.ipynb/);\\n\\n        if ( curMatch ) {\\n            \\$('head').append('<base href=\\\"' + curMatch[1] + '/\\\">');\\n        }\\n    </script>\\n\")"
      ]
     },
     "metadata": {},
     "output_type": "display_data"
    },
    {
     "data": {
      "text/html": [
       "<script class='js-collapse-script' src='/assetserver/51a259f5332d28582ebdae3acf84872b5676ad5d-assets/webio/dist/bundle.js'></script>"
      ],
      "text/plain": [
       "HTML{String}(\"<script class='js-collapse-script' src='/assetserver/51a259f5332d28582ebdae3acf84872b5676ad5d-assets/webio/dist/bundle.js'></script>\")"
      ]
     },
     "metadata": {},
     "output_type": "display_data"
    },
    {
     "data": {
      "text/html": [
       "<script class='js-collapse-script' src='/assetserver/51a259f5332d28582ebdae3acf84872b5676ad5d-assets/providers/ijulia_setup.js'></script>"
      ],
      "text/plain": [
       "HTML{String}(\"<script class='js-collapse-script' src='/assetserver/51a259f5332d28582ebdae3acf84872b5676ad5d-assets/providers/ijulia_setup.js'></script>\")"
      ]
     },
     "metadata": {},
     "output_type": "display_data"
    },
    {
     "data": {
      "text/html": [
       "  <script class='js-collapse-script'>\n",
       "    $('.js-collapse-script').parent('.output_subarea').css('padding', '0');\n",
       "  </script>\n"
      ],
      "text/plain": [
       "HTML{String}(\"  <script class='js-collapse-script'>\\n    \\$('.js-collapse-script').parent('.output_subarea').css('padding', '0');\\n  </script>\\n\")"
      ]
     },
     "metadata": {},
     "output_type": "display_data"
    }
   ],
   "source": [
    "# Use package versions builtin to this repository.\n",
    "import Pkg, Random\n",
    "Pkg.activate(@__DIR__)\n",
    "Pkg.instantiate()\n",
    "\n",
    "# Load Flux and PlotlyJS for sweet interactive graphics (well, once it's fixed.  :()\n",
    "using Flux, PlotlyJS"
   ]
  },
  {
   "cell_type": "markdown",
   "metadata": {},
   "source": [
    "# Flux by Example: Models\n",
    "\n",
    "Let's continue our example from earlier, doing polynomial approximation of arbitrary functions.  We are now going to structure things a bit more, making use of Julia syntax and operations.  We'll start by grouping our state and functionality together, building a custom type that we can use as a fundamental building block from here on out:"
   ]
  },
  {
   "cell_type": "code",
   "execution_count": 2,
   "metadata": {},
   "outputs": [],
   "source": [
    "# Define a simple custom type that contains a single field; coeffs\n",
    "struct Polynomial\n",
    "    coeffs\n",
    "end\n",
    "\n",
    "# This tells Flux that Polynomial has children; e.g. fields that might\n",
    "# have parameters inside of them, etc... It enables introspection.\n",
    "Flux.@treelike Polynomial\n",
    "\n",
    "# Function to evaluate a polynomial at a certain point\n",
    "function (p::Polynomial)(x)\n",
    "    return sum([p.coeffs[idx] .* x^(idx-1) for idx in 1:length(p.coeffs)])\n",
    "end"
   ]
  },
  {
   "cell_type": "code",
   "execution_count": 3,
   "metadata": {},
   "outputs": [
    {
     "name": "stdout",
     "output_type": "stream",
     "text": [
      "Polynomial-calculated: 15.25\n",
      "Manually-calculated:   15.25\n"
     ]
    }
   ],
   "source": [
    "# Quick sanity check; create polynomial\n",
    "P = Polynomial([1,5,3])\n",
    "\n",
    "# Ensure that it calculates properly:\n",
    "println(\"Polynomial-calculated: $(P(1.5))\")\n",
    "println(\"Manually-calculated:   $(1 * 1.5^0 + 5 * 1.5 + 3 * 1.5^2)\")"
   ]
  },
  {
   "cell_type": "markdown",
   "metadata": {},
   "source": [
    "## The Training Loop\n",
    "\n",
    "Great; now let's write ourselves a training loop.  A training loop, at its heart, does the following:\n",
    "\n",
    "* Accept a batch of inputs (`x`) and outputs (`y`).\n",
    "\n",
    "* Push the inputs (`x`) through the model to generate estimated outputs (`y_hat`)\n",
    "\n",
    "* Calculate the difference between the estimated outputs (`y_hat`) and true outputs (`y`), typically called the \"loss\" of the model.\n",
    "\n",
    "* Propagate the loss back through the model and use that to update the weights of the model to be more correct.\n",
    "\n",
    "This is quite easy with Flux, here we go:"
   ]
  },
  {
   "cell_type": "code",
   "execution_count": 4,
   "metadata": {},
   "outputs": [
    {
     "data": {
      "text/plain": [
       "train (generic function with 1 method)"
      ]
     },
     "execution_count": 4,
     "metadata": {},
     "output_type": "execute_result"
    }
   ],
   "source": [
    "# Define training loop function; takes in a model to train, an\n",
    "# optimizer and a list of tuples mapping input (`x`) to output (`y`).\n",
    "function train(model, opt, training_data::Vector{T}) where {T <: Tuple}\n",
    "    for (x, y) in training_data\n",
    "        # Push `x` through the model\n",
    "        y_hat = model(x)\n",
    "        \n",
    "        # Calculate the loss and backpropagate it\n",
    "        loss = sum((y_hat .- y).^2)/length(y)\n",
    "        Flux.back!(loss)\n",
    "        \n",
    "        # Update the weights by taking an optimizer step\n",
    "        opt()\n",
    "    end\n",
    "end"
   ]
  },
  {
   "cell_type": "markdown",
   "metadata": {},
   "source": [
    "In order to use this `train()` method we need three things; a model (`model`), an optimizer (`opt`) and training data (`training_data`).  Let's start with the model: in order for our model to \"learn\", we need to tell `Flux` that it can modify certain numbers within our model.  We do that using the `param()` function:"
   ]
  },
  {
   "cell_type": "code",
   "execution_count": 5,
   "metadata": {},
   "outputs": [
    {
     "data": {
      "text/plain": [
       "15.25 (tracked)"
      ]
     },
     "execution_count": 5,
     "metadata": {},
     "output_type": "execute_result"
    }
   ],
   "source": [
    "model = Polynomial(param([1,5,3]))\n",
    "\n",
    "model(1.5)"
   ]
  },
  {
   "cell_type": "markdown",
   "metadata": {},
   "source": [
    "Note that the model is functionally identical to the definition of `P` above, the only difference is that we have wrapped our coefficients in a `param()` call and that the result now says `(tracked)` after it, which is a hint that the data `model` is generating is tracking operations performed upon it so that backpropagation and properly update the parameters within the model.\n",
    "\n",
    "Next up, the optimizer.  An optimizer is an object that knows which parameters should be tweaked within a model, and has a simple algorithm for nudging weights toward the optimal value whenever loss has been backpropagated, indicating which direction a weight should be nudged.  We will use the `Momentum` optimizer as it is a good default for many situations, and feed it the parameters of our model:"
   ]
  },
  {
   "cell_type": "code",
   "execution_count": 6,
   "metadata": {},
   "outputs": [
    {
     "data": {
      "text/plain": [
       "#43 (generic function with 1 method)"
      ]
     },
     "execution_count": 6,
     "metadata": {},
     "output_type": "execute_result"
    }
   ],
   "source": [
    "opt = Flux.Optimise.Momentum(params(model))"
   ]
  },
  {
   "cell_type": "markdown",
   "metadata": {},
   "source": [
    "Note that here we use the `params()` method on our `model` to extract all parameters from it, and pass it to the `Momentum` constructor.  At this point we are finally ready to create our training dataset.  We'll evaluate ourselves on a variety of nonlinear functions, but let's start with the step function:"
   ]
  },
  {
   "cell_type": "code",
   "execution_count": 8,
   "metadata": {},
   "outputs": [
    {
     "data": {
      "text/html": [
       "<div class='display:none'></div><unsafe-script style='display:none'>\n",
       "WebIO.mount(this.previousSibling,{&quot;props&quot;:{},&quot;nodeType&quot;:&quot;Scope&quot;,&quot;type&quot;:&quot;node&quot;,&quot;instanceArgs&quot;:{&quot;imports&quot;:{&quot;data&quot;:[{&quot;name&quot;:&quot;Plotly&quot;,&quot;type&quot;:&quot;js&quot;,&quot;url&quot;:&quot;/assetserver/ca0d1d661ba20f29c3bcdb3136fc5e131d9ae531-plotly-latest.min.js&quot;},{&quot;name&quot;:null,&quot;type&quot;:&quot;js&quot;,&quot;url&quot;:&quot;/assetserver/df76365695a2e6ab133a286a764f9caca195cb05-plotly_webio.bundle.js&quot;}],&quot;type&quot;:&quot;async_block&quot;},&quot;id&quot;:&quot;scope-8533354b-777c-4c74-983c-4d9324effbe5&quot;,&quot;handlers&quot;:{&quot;_toImage&quot;:[(function (options){return this.Plotly.toImage(this.plotElem,options).then((function (data){return WebIO.setval({&quot;name&quot;:&quot;image&quot;,&quot;scope&quot;:&quot;scope-8533354b-777c-4c74-983c-4d9324effbe5&quot;,&quot;id&quot;:&quot;ob_15&quot;,&quot;type&quot;:&quot;observable&quot;},data)}))})],&quot;__get_gd_contents&quot;:[(function (prop){prop==&quot;data&quot; ? (WebIO.setval({&quot;name&quot;:&quot;__gd_contents&quot;,&quot;scope&quot;:&quot;scope-8533354b-777c-4c74-983c-4d9324effbe5&quot;,&quot;id&quot;:&quot;ob_16&quot;,&quot;type&quot;:&quot;observable&quot;},this.plotElem.data)) : undefined; return prop==&quot;layout&quot; ? (WebIO.setval({&quot;name&quot;:&quot;__gd_contents&quot;,&quot;scope&quot;:&quot;scope-8533354b-777c-4c74-983c-4d9324effbe5&quot;,&quot;id&quot;:&quot;ob_16&quot;,&quot;type&quot;:&quot;observable&quot;},this.plotElem.layout)) : undefined})],&quot;_promises&quot;:{&quot;importsLoaded&quot;:[(function (Plotly){var gd=this.dom.querySelector(&quot;#plot-afa18f0f-7df0-4c53-a651-b617e008a1e3&quot;); this.plotElem=gd; this.Plotly=Plotly; (window.Blink!==undefined) ? (gd.style.width=&quot;100%&quot;, gd.style.height=&quot;100vh&quot;, gd.style.marginLeft=&quot;0%&quot;, gd.style.marginTop=&quot;0vh&quot;) : undefined; window.onresize=(function (){return Plotly.Plots.resize(gd)}); Plotly.newPlot(gd,[{&quot;mode&quot;:&quot;markers&quot;,&quot;y&quot;:[0.0,1.0,1.0,1.0,1.0,0.0,1.0,1.0,1.0,1.0,1.0,1.0,0.0,0.0,1.0,0.0,1.0,1.0,1.0,1.0,0.0,1.0,1.0,1.0,0.0,0.0,0.0,1.0,1.0,1.0,1.0,1.0,0.0,1.0,0.0,0.0,1.0,1.0,0.0,0.0,0.0,1.0,0.0,1.0,1.0,0.0,0.0,0.0,0.0,0.0,0.0,0.0,0.0,0.0,1.0,0.0,0.0,1.0,0.0,0.0,1.0,1.0,0.0,1.0,0.0,1.0,0.0,0.0,0.0,0.0,1.0,0.0,0.0,1.0,0.0,1.0,1.0,0.0,0.0,0.0,0.0,1.0,1.0,1.0,1.0,1.0,0.0,0.0,0.0,1.0,1.0,0.0,1.0,0.0,0.0,1.0,1.0,0.0,0.0,0.0,1.0,0.0,0.0,1.0,1.0,0.0,0.0,0.0,1.0,0.0,1.0,0.0,1.0,0.0,1.0,1.0,0.0,0.0,0.0,1.0,1.0,0.0,1.0,0.0,1.0,1.0,1.0,1.0,0.0,1.0,1.0,0.0,1.0,1.0,1.0,0.0,1.0,1.0,1.0,0.0,1.0,0.0,1.0,1.0,0.0,1.0,0.0,0.0,0.0,0.0,1.0,1.0,0.0,0.0,0.0,1.0,1.0,0.0,1.0,1.0,1.0,1.0,0.0,1.0,1.0,0.0,0.0,0.0,0.0,0.0,0.0,1.0,1.0,0.0,0.0,0.0,1.0,0.0,1.0,1.0,0.0,1.0,0.0,0.0,1.0,1.0,1.0,1.0,0.0,0.0,1.0,0.0,0.0,0.0,0.0,0.0,0.0,0.0,0.0,0.0,0.0,0.0,0.0,1.0,0.0,1.0,0.0,0.0,1.0,1.0,0.0,1.0,1.0,1.0,1.0,1.0,1.0,1.0,1.0,1.0,0.0,0.0,1.0,1.0,0.0,0.0,1.0,1.0,0.0,0.0,1.0,0.0,0.0,0.0,1.0,1.0,0.0,0.0,1.0,0.0,1.0,0.0,1.0,1.0,0.0,1.0,1.0,1.0,1.0,1.0,1.0,0.0,1.0,0.0,0.0,1.0,0.0,1.0,1.0,1.0,1.0,0.0,0.0,0.0,1.0,1.0,1.0,0.0,0.0,0.0,1.0,1.0,0.0,1.0,1.0,0.0,1.0,0.0,1.0,1.0,0.0,0.0,0.0,0.0,0.0,0.0,0.0,0.0,1.0,1.0,0.0,0.0,1.0,1.0,0.0,0.0,0.0,0.0,0.0,0.0],&quot;type&quot;:&quot;scatter&quot;,&quot;name&quot;:&quot;step(x)&quot;,&quot;x&quot;:[-1.262754590011189,0.20015234591193032,2.4423868978609846,2.170015722049701,0.5465779780725808,-2.388609857998216,0.7083338945236624,1.8613904779071309,1.735353589937561,2.1510035046985667,1.2957946072629936,2.2309613181234926,-1.4298403941723494,-0.9729482802510199,1.883923013532888,-1.4576119520636674,1.6489980770465387,2.197477756002268,0.9704837304919316,0.3934128190405577,-1.1326163327087553,0.7169806906345344,0.5197401470546388,2.550636938003432,-0.9875555811174523,-2.9533015400895883,-0.6730017785085396,2.9526121337998905,1.2645306330191008,2.823874774079936,2.6558938693176195,0.9413965385907184,-2.8791974384777603,0.6430645138817819,-1.8944253432705986,-2.976875588927424,2.8538018871421134,1.4905034915235138,-0.5229418357325333,-1.0133640197220193,-2.6783324910015374,0.5018462684472556,-2.9307602319876684,1.807730052177484,2.4500358505454782,-0.9364321648034015,-0.8998098120026419,-2.6497162596408836,-0.0739332862494626,-1.3365997664616494,-1.6296874595702464,-0.1925700035700788,-1.291784735331483,-2.4733198741821973,0.1875429911434705,-0.5635802112921695,-2.4208401757499014,2.3651423890116128,-2.0908183923876345,-0.23470886873301477,0.4130616995473244,2.5744761661607134,-1.5486887536190235,0.8712122458379756,-2.6868083126923277,2.6099597253783084,-2.522632862094133,-0.6779654632264056,-1.1701179344448116,-1.126335647127553,2.4969848771357235,-2.597679787526393,-2.4576997255727355,0.8455609954213972,-1.932787191465719,0.9640259900594477,2.978402276630707,-0.7757254230792663,-1.8956668265015395,-1.5830996037144618,-1.7747077124584383,1.1577012520332248,1.3343947933370774,1.4462591544696792,1.5057572511928363,1.9350295702591493,-1.899270414657361,-1.0517514494255527,-0.25179458919924613,2.1861995581146614,1.2433741356062509,-2.9895380606142274,0.08787951866608346,-1.8604779214197182,-0.5736246034605283,0.757029883564301,0.38210164185527695,-1.1499556421390462,-1.7211695643477705,-1.5727757003603262,0.780905939665995,-1.7187454417282275,-0.8970647384564074,1.834996459241646,0.08188100497423534,-1.4396460464923977,-1.7770571671895943,-2.897905378879796,0.23535633991805094,-0.5888412384380515,0.6743063922784982,-1.7615214935485808,0.29612649118016954,-2.433499712359986,1.2924194249043577,0.023987512648103504,-1.4142063528594067,-2.134438252894834,-1.3746075566723883,1.0542672575654937,2.1229267594763446,-2.539185629322928,1.4418582745920503,-1.401798828618174,0.7743343402364524,0.05002869661550369,0.7576124828708282,0.5743801316988617,-0.7065323849842917,1.5872451804066046,2.0884915273688343,-1.1127805247119618,0.19176005044207978,0.684039943381952,0.28817043212995985,-0.06840129751402868,0.22940361506027784,1.0296653567648857,0.6870886570108956,-2.6568778468217573,0.9123192642463636,-0.15369386029564414,1.2341591932786322,1.9800794609945118,-0.9405953800583178,0.5231197502505034,-0.5605939980491739,-2.4321069631821888,-1.3471366874968673,-2.419259157758348,2.2717035231291094,1.3371288763815503,-0.743212934633982,-2.942318354555412,-0.03617690120189776,2.4168997579254583,2.0479624253055846,-2.112729965871716,0.6407951772139135,0.8073211568243148,1.2829003209838863,2.6843049953848084,-2.2757371137680207,2.0115515922954685,2.0542873233138694,-2.11926695398897,-1.706212801358276,-1.9006255831270393,-2.1765005439273293,-1.702003009755236,-1.1871773307305835,2.0928589828175808,0.45030620884308403,-2.0726422931391837,-0.6962580958930156,-0.4304292867799897,2.9440146441097577,-0.2493310987877515,2.864826879022443,1.659510739719492,-0.72931546966415,0.14556641766148193,-0.900741663628065,-2.8460518606558614,2.30648714985037,0.6736179050274571,1.0333365316297645,2.3462384560441185,-0.6945986918583524,-0.1589504466954521,1.4798886326526013,-2.4618159823858994,-0.6286598805620076,-1.7980601757409054,-1.5587476834718252,-0.8602187014179914,-0.4195020902936766,-1.3816795202600818,-0.37509846837863625,-0.2361235600808902,-2.562978306190742,-0.7372253665076984,-2.439033960877949,1.453719083792544,-2.507005257845616,1.8539669244032293,-2.992469547578621,-0.14118012782252487,0.7827665084190771,1.352231324248546,-1.799555696427944,2.7051960047784664,1.5835664793190087,1.9635014010372913,0.9945480697791975,2.649884462035728,1.6144753228478699,2.4517311091223686,1.273746576210712,1.236595086808614,-2.2078758529657025,-0.12799415114975776,1.7964825280783305,0.6124523929707943,-0.29432305978002304,-0.29045477625859695,0.02630563595819657,2.687107912162187,-2.8240578019050924,-2.3029201422668346,2.2911755138038146,-0.6794606257038303,-0.1760596037296671,-1.8486718963441957,1.7363811728766638,2.8543604824394455,-1.2160912314721801,-1.6257151928876814,2.5882642545674557,-2.943198222990885,1.196993479959513,-0.9593263994853847,1.4002266235800196,1.7170670469054077,-2.116106339869249,2.71248903558676,2.1065190098845283,2.6515435070265116,0.9557634651363922,1.006715710494003,2.9050837985515514,-2.940687185492243,2.6350027193025607,-1.8285954087151448,-1.7866562366504795,0.3086197811078777,-0.8675844424399108,0.8794149485729026,1.2072509794079354,0.7267191908315911,1.3347181879111432,-2.6783064584341263,-1.7249366785781826,-2.909082627767425,2.1944098209042986,0.6024900236290249,2.1691285535003537,-2.0618130436930984,-2.508104965618534,-0.965272523605123,1.435506896624398,0.3459409271352927,-0.7084211825046549,2.069425858928179,1.9212303208156571,-2.421919930829442,1.1095326909452314,-2.2914584162453497,2.43098455938412,1.9257010296616226,-1.4973236990962437,-2.8844742501521208,-0.8333749491345168,-0.43712958979482286,-2.5936804968113973,-1.6996504210159857,-0.22178221401770992,-2.9719005269096623,0.3483322852045614,1.4671303432789866,-1.2077613796464557,-1.0268395152626288,2.808262570865679,0.7057019849258492,-1.9690194745149503,-0.14162946638394258,-2.8377376396676772,-2.3092948862441833,-2.857030436106046,-2.4230954004005683]}],{&quot;margin&quot;:{&quot;l&quot;:50,&quot;b&quot;:50,&quot;r&quot;:50,&quot;t&quot;:60}},{}); gd.on(&quot;plotly_hover&quot;,(function (data){var filtered_data=WebIO.CommandSets.Plotly.filterEventData(gd,data,&quot;hover&quot;); return !(filtered_data.isnil) ? (WebIO.setval({&quot;name&quot;:&quot;hover&quot;,&quot;scope&quot;:&quot;scope-8533354b-777c-4c74-983c-4d9324effbe5&quot;,&quot;id&quot;:&quot;ob_11&quot;,&quot;type&quot;:&quot;observable&quot;},filtered_data.out)) : undefined})); gd.on(&quot;plotly_unhover&quot;,(function (){return WebIO.setval({&quot;name&quot;:&quot;hover&quot;,&quot;scope&quot;:&quot;scope-8533354b-777c-4c74-983c-4d9324effbe5&quot;,&quot;id&quot;:&quot;ob_11&quot;,&quot;type&quot;:&quot;observable&quot;},{})})); gd.on(&quot;plotly_selected&quot;,(function (data){var filtered_data=WebIO.CommandSets.Plotly.filterEventData(gd,data,&quot;selected&quot;); return !(filtered_data.isnil) ? (WebIO.setval({&quot;name&quot;:&quot;selected&quot;,&quot;scope&quot;:&quot;scope-8533354b-777c-4c74-983c-4d9324effbe5&quot;,&quot;id&quot;:&quot;ob_12&quot;,&quot;type&quot;:&quot;observable&quot;},filtered_data.out)) : undefined})); gd.on(&quot;plotly_deselect&quot;,(function (){return WebIO.setval({&quot;name&quot;:&quot;selected&quot;,&quot;scope&quot;:&quot;scope-8533354b-777c-4c74-983c-4d9324effbe5&quot;,&quot;id&quot;:&quot;ob_12&quot;,&quot;type&quot;:&quot;observable&quot;},{})})); gd.on(&quot;plotly_relayout&quot;,(function (data){var filtered_data=WebIO.CommandSets.Plotly.filterEventData(gd,data,&quot;relayout&quot;); return !(filtered_data.isnil) ? (WebIO.setval({&quot;name&quot;:&quot;relayout&quot;,&quot;scope&quot;:&quot;scope-8533354b-777c-4c74-983c-4d9324effbe5&quot;,&quot;id&quot;:&quot;ob_14&quot;,&quot;type&quot;:&quot;observable&quot;},filtered_data.out)) : undefined})); return gd.on(&quot;plotly_click&quot;,(function (data){var filtered_data=WebIO.CommandSets.Plotly.filterEventData(gd,data,&quot;click&quot;); return !(filtered_data.isnil) ? (WebIO.setval({&quot;name&quot;:&quot;click&quot;,&quot;scope&quot;:&quot;scope-8533354b-777c-4c74-983c-4d9324effbe5&quot;,&quot;id&quot;:&quot;ob_13&quot;,&quot;type&quot;:&quot;observable&quot;},filtered_data.out)) : undefined}))})]},&quot;_downloadImage&quot;:[(function (options){return this.Plotly.downloadImage(this.plotElem,options)})],&quot;_commands&quot;:[(function (args){var fn=args.shift(); var elem=this.plotElem; var Plotly=this.Plotly; args.unshift(elem); return Plotly[fn].apply(this,args)})]},&quot;systemjs_options&quot;:null,&quot;observables&quot;:{&quot;_toImage&quot;:{&quot;sync&quot;:false,&quot;id&quot;:&quot;ob_18&quot;,&quot;value&quot;:{}},&quot;hover&quot;:{&quot;sync&quot;:false,&quot;id&quot;:&quot;ob_11&quot;,&quot;value&quot;:{}},&quot;selected&quot;:{&quot;sync&quot;:false,&quot;id&quot;:&quot;ob_12&quot;,&quot;value&quot;:{}},&quot;__gd_contents&quot;:{&quot;sync&quot;:false,&quot;id&quot;:&quot;ob_16&quot;,&quot;value&quot;:{}},&quot;click&quot;:{&quot;sync&quot;:false,&quot;id&quot;:&quot;ob_13&quot;,&quot;value&quot;:{}},&quot;image&quot;:{&quot;sync&quot;:true,&quot;id&quot;:&quot;ob_15&quot;,&quot;value&quot;:&quot;&quot;},&quot;__get_gd_contents&quot;:{&quot;sync&quot;:false,&quot;id&quot;:&quot;ob_20&quot;,&quot;value&quot;:&quot;&quot;},&quot;_downloadImage&quot;:{&quot;sync&quot;:false,&quot;id&quot;:&quot;ob_19&quot;,&quot;value&quot;:{}},&quot;relayout&quot;:{&quot;sync&quot;:false,&quot;id&quot;:&quot;ob_14&quot;,&quot;value&quot;:{}},&quot;_commands&quot;:{&quot;sync&quot;:false,&quot;id&quot;:&quot;ob_17&quot;,&quot;value&quot;:[]}}},&quot;children&quot;:[{&quot;props&quot;:{&quot;id&quot;:&quot;plot-afa18f0f-7df0-4c53-a651-b617e008a1e3&quot;},&quot;nodeType&quot;:&quot;DOM&quot;,&quot;type&quot;:&quot;node&quot;,&quot;instanceArgs&quot;:{&quot;namespace&quot;:&quot;html&quot;,&quot;tag&quot;:&quot;div&quot;},&quot;children&quot;:[]}]})</unsafe-script>"
      ],
      "text/plain": [
       "data: [\n",
       "  \"scatter with fields mode, name, type, x, and y\"\n",
       "]\n",
       "\n",
       "layout: \"layout with field margin\"\n",
       "\n"
      ]
     },
     "execution_count": 8,
     "metadata": {},
     "output_type": "execute_result"
    }
   ],
   "source": [
    "# Given a function to generate true outputs from, a range to draw\n",
    "# random inputs over, and a number of draws to perform, build a\n",
    "# training data set.\n",
    "function create_training_set(func, min_val, max_val, N)\n",
    "    # Create N random numbers, distribute them evenly between min_val and max_val\n",
    "    xs = rand(N).*(max_val - min_val) .+ min_val\n",
    "    \n",
    "    # Push each number through func(), save it as ys\n",
    "    ys = func.(xs)\n",
    "    \n",
    "    # Return array of tuples\n",
    "    return [(xs[i], ys[i]) for i in 1:N]\n",
    "end\n",
    "\n",
    "\n",
    "# Define the step function\n",
    "step(x) = Float64(x > 0.0)\n",
    "\n",
    "# Create 300 random correspondences from [-3, 3]\n",
    "step_data = create_training_set(step, -3, 3, 300)\n",
    "\n",
    "# Scatter plot the dataset\n",
    "plot([\n",
    "    scatter(;\n",
    "        x=[d[1] for d in step_data],\n",
    "        y=[d[2] for d in step_data],\n",
    "        name=\"step(x)\",\n",
    "        mode=\"markers\",\n",
    "    ),\n",
    "])"
   ]
  },
  {
   "cell_type": "markdown",
   "metadata": {},
   "source": [
    "## Running the Training Loop\n",
    "\n",
    "Let's start with training on the step data; we will always redefine our model and optimizer so as to make jumping around cells interactively less confusing.  We're also going to initialize our models with random parameters to show that there is nothing \"special\" about the parameters we start with (other than that they are random):"
   ]
  },
  {
   "cell_type": "code",
   "execution_count": 9,
   "metadata": {},
   "outputs": [],
   "source": [
    "# Let's start with training on the step data.  We redefine our model and optimizer\n",
    "# here to make it easier to jump around in cells in the future.  We also give the\n",
    "# Momentum optimizer a very small learning rate, because polynomials are trickys beasts.\n",
    "model = Polynomial(param(randn(3)))\n",
    "opt = Flux.Optimise.Momentum(params(model), 1e-6)\n",
    "\n",
    "for epoch in 1:1000\n",
    "    train(model, opt, step_data)\n",
    "end"
   ]
  },
  {
   "cell_type": "code",
   "execution_count": 11,
   "metadata": {},
   "outputs": [
    {
     "data": {
      "text/html": [
       "<div class='display:none'></div><unsafe-script style='display:none'>\n",
       "WebIO.mount(this.previousSibling,{&quot;props&quot;:{},&quot;nodeType&quot;:&quot;Scope&quot;,&quot;type&quot;:&quot;node&quot;,&quot;instanceArgs&quot;:{&quot;imports&quot;:{&quot;data&quot;:[{&quot;name&quot;:&quot;Plotly&quot;,&quot;type&quot;:&quot;js&quot;,&quot;url&quot;:&quot;/assetserver/ca0d1d661ba20f29c3bcdb3136fc5e131d9ae531-plotly-latest.min.js&quot;},{&quot;name&quot;:null,&quot;type&quot;:&quot;js&quot;,&quot;url&quot;:&quot;/assetserver/df76365695a2e6ab133a286a764f9caca195cb05-plotly_webio.bundle.js&quot;}],&quot;type&quot;:&quot;async_block&quot;},&quot;id&quot;:&quot;scope-390389ee-d7c2-4f82-8fff-ca37b55f6f0b&quot;,&quot;handlers&quot;:{&quot;_toImage&quot;:[(function (options){return this.Plotly.toImage(this.plotElem,options).then((function (data){return WebIO.setval({&quot;name&quot;:&quot;image&quot;,&quot;scope&quot;:&quot;scope-390389ee-d7c2-4f82-8fff-ca37b55f6f0b&quot;,&quot;id&quot;:&quot;ob_25&quot;,&quot;type&quot;:&quot;observable&quot;},data)}))})],&quot;__get_gd_contents&quot;:[(function (prop){prop==&quot;data&quot; ? (WebIO.setval({&quot;name&quot;:&quot;__gd_contents&quot;,&quot;scope&quot;:&quot;scope-390389ee-d7c2-4f82-8fff-ca37b55f6f0b&quot;,&quot;id&quot;:&quot;ob_26&quot;,&quot;type&quot;:&quot;observable&quot;},this.plotElem.data)) : undefined; return prop==&quot;layout&quot; ? (WebIO.setval({&quot;name&quot;:&quot;__gd_contents&quot;,&quot;scope&quot;:&quot;scope-390389ee-d7c2-4f82-8fff-ca37b55f6f0b&quot;,&quot;id&quot;:&quot;ob_26&quot;,&quot;type&quot;:&quot;observable&quot;},this.plotElem.layout)) : undefined})],&quot;_promises&quot;:{&quot;importsLoaded&quot;:[(function (Plotly){var gd=this.dom.querySelector(&quot;#plot-b7b9cf9c-226c-467e-9772-75ffcb35a92c&quot;); this.plotElem=gd; this.Plotly=Plotly; (window.Blink!==undefined) ? (gd.style.width=&quot;100%&quot;, gd.style.height=&quot;100vh&quot;, gd.style.marginLeft=&quot;0%&quot;, gd.style.marginTop=&quot;0vh&quot;) : undefined; window.onresize=(function (){return Plotly.Plots.resize(gd)}); Plotly.newPlot(gd,[{&quot;mode&quot;:&quot;markers&quot;,&quot;y&quot;:[0.0,1.0,1.0,1.0,0.0,1.0,1.0,0.0,0.0,1.0,0.0,0.0,0.0,0.0,0.0,1.0,1.0,1.0,1.0,0.0,1.0,1.0,0.0,1.0,0.0,1.0,0.0,1.0,1.0,1.0,0.0,0.0,0.0,0.0,1.0,0.0,1.0,1.0,0.0,1.0,1.0,0.0,1.0,1.0,1.0,0.0,0.0,0.0,0.0,1.0,0.0,0.0,1.0,0.0,0.0,0.0,1.0,0.0,1.0,0.0,1.0,0.0,0.0,1.0,0.0,0.0,0.0,0.0,0.0,0.0,1.0,1.0,1.0,0.0,0.0,1.0,0.0,1.0,1.0,1.0,1.0,1.0,1.0,0.0,0.0,1.0,0.0,1.0,0.0,0.0,0.0,1.0,0.0,1.0,1.0,1.0,1.0,1.0,0.0,0.0,1.0,0.0,1.0,1.0,1.0,1.0,1.0,0.0,1.0,0.0,0.0,0.0,1.0,1.0,1.0,1.0,1.0,1.0,0.0,1.0,0.0,1.0,1.0,0.0,0.0,0.0,1.0,1.0,0.0,0.0,0.0,0.0,0.0,0.0,1.0,1.0,1.0,1.0,1.0,0.0,1.0,0.0,0.0,1.0,1.0,1.0,0.0,1.0,1.0,0.0,0.0,0.0,1.0,1.0,0.0,1.0,0.0,1.0,1.0,1.0,0.0,1.0,0.0,0.0,1.0,0.0,0.0,1.0,0.0,1.0,1.0,1.0,1.0,1.0,0.0,0.0,1.0,0.0,0.0,1.0,1.0,1.0,0.0,0.0,1.0,0.0,0.0,1.0,0.0,1.0,1.0,1.0,0.0,1.0,0.0,1.0,0.0,1.0,0.0,1.0],&quot;type&quot;:&quot;scatter&quot;,&quot;name&quot;:&quot;target&quot;,&quot;x&quot;:[-0.93,0.81,0.24,0.49,-1.66,1.73,0.99,-1.77,-2.24,0.79,-1.88,-0.88,-0.13,-0.88,-1.88,2.03,2.47,1.42,2.14,-1.33,1.82,0.78,-1.32,0.9,-1.68,2.79,-1.19,0.84,1.65,1.16,-2.69,-2.46,-0.5,-2.35,2.13,-2.76,0.62,1.83,-1.93,0.11,1.04,-0.65,0.41,2.17,0.4,-0.11,-1.64,-1.73,-2.28,1.49,-0.16,-1.85,2.12,-1.8,-0.6,-1.89,1.28,-1.89,1.86,-2.76,2.26,-1.95,-1.55,1.29,-1.62,-0.34,-0.65,-0.37,-0.27,-2.16,2.45,1.06,1.69,-1.96,-0.71,0.56,-2.81,1.75,0.35,1.59,1.03,0.47,2.69,-2.0,-0.43,1.34,-1.87,1.15,-2.62,-1.7,-1.19,0.15,-1.87,0.19,1.61,0.44,0.38,1.75,-0.05,-0.12,2.32,-0.72,1.96,1.37,1.78,2.38,1.85,-2.66,2.65,-0.39,-1.02,-1.33,1.82,1.97,1.19,0.79,0.13,0.28,-2.41,2.16,-2.48,2.5,1.94,-2.99,-1.25,-0.63,2.5,0.22,-0.6,-1.0,-1.19,-2.65,-2.57,-2.37,2.11,1.9,2.63,2.03,1.33,-2.59,2.34,-1.97,-0.05,0.24,2.23,2.52,-1.06,1.9,0.64,-0.9,-1.94,-1.71,1.32,2.81,-2.28,0.99,-0.19,0.17,2.45,0.18,-2.01,0.63,-1.35,-1.2,1.23,-0.81,-1.06,1.57,-0.02,2.96,0.61,2.5,0.31,1.95,-0.28,-0.55,0.03,-1.55,-2.52,2.85,0.79,2.35,-1.71,-1.39,1.02,-1.34,-0.18,1.54,-1.86,0.11,2.93,0.44,-1.26,1.7,-2.06,2.17,-1.41,0.16,-1.52,2.1]},{&quot;mode&quot;:&quot;markers&quot;,&quot;y&quot;:[0.22343736660420258,0.6580678813018523,0.5065378676409906,0.5719006579241471,0.06583411360170746,0.9214524497784038,0.7077719042290804,0.043353570255765916,-0.04895910445657166,0.6526000991889279,0.021205093872156737,0.23476725919735442,0.4129487132764245,0.23476725919735442,0.021205093872156737,1.0123608918686076,1.1501610836395597,0.8301085139949882,1.0463128393678471,0.1352681454135259,0.9484656408522386,0.6498703246650566,0.13741886101961115,0.6828087463855123,0.06172204288871819,1.2537165406812112,0.16562790020923399,0.6662901371341936,0.8976273405235603,0.7555310381797682,-0.13166276526954276,-0.0900863271287998,0.32311658098981644,-0.06968874927385187,1.0432125769107952,-0.1440283065527539,0.6065671645713561,0.951480828302412,0.011247378809303682,0.47322707239371686,0.721736377680406,0.2877684474553652,0.5507979488894164,1.0556300928693667,0.5481724598578478,0.41791153405819903,0.06995716173493916,0.05148989231980538,-0.05653557808824905,0.8505040381855079,0.4055250647667171,0.027212655170595623,1.0401150588088037,0.03728014443587258,0.2994825497570007,0.019208062149464897,0.7897208858078564,0.019208062149464897,0.9605428567832961,-0.1440283065527539,1.0837300485471981,0.007283503269586683,0.08864672390998125,0.7925878780847577,0.07409118728841316,0.361501856814926,0.2877684474553652,0.35425110267403637,0.37851633557078956,-0.03367442815030776,1.1437821756465165,0.7273413775463605,0.9095179403104972,0.0053056820323190285,0.2738020884104023,0.5905096069702178,-0.15277850538894405,0.9274361706427208,0.5350861800259135,0.8798737714949728,0.7189379942800197,0.5666085145351007,1.2210535812990293,-0.0025781593661454508,0.33982369197889306,0.8069640047951728,0.02320486994990907,0.7526997225186547,-0.11916275058836226,0.057620949595971256,0.16562790020923399,0.4834271494633257,0.02320486994990907,0.4936711362139041,0.8857806504175929,0.5586908821144858,0.5429297148598922,0.9274361706427208,0.43286586092497703,0.4154287514897815,1.102586848310146,0.2714839671456206,0.990928001465182,0.8156226130821491,0.9364323346021504,1.121542444855275,0.9575194362679409,-0.12632208225082903,1.2080652394878533,0.34943098835541286,0.20321645430534696,0.1352681454135259,0.9484656408522386,0.9939816098862039,0.7640414512934722,0.6526000991889279,0.4783216222184001,0.5168806511737505,-0.0808558661570052,1.0525215973471331,-0.09375930103209343,1.1597500282920783,0.9848290176883199,-0.18371113970168457,0.1525507122039048,0.29244585531083755,1.1597500282920783,0.5013829420049741,0.2994825497570007,0.20769077988633516,0.16562790020923399,-0.12453636586780316,-0.1101518380214154,-0.07342209898847868,1.0370202850618728,0.9726639823953233,1.2015875347126288,1.0123608918686076,0.8040832907429687,-0.1137644361133759,1.1088944030716132,0.0033306051501120273,0.43286586092497703,0.5065378676409906,1.0743386974590423,1.1661563798357273,0.19430073540409779,0.9726639823953233,0.6119416386122203,0.2302270690949119,0.009264068861914887,0.055574519482188715,0.801205321045825,1.2602820648183748,-0.05653557808824905,0.7077719042290804,0.39812611545255516,0.48854365412849377,1.1437821756465165,0.4911060229936686,-0.004542258828110081,0.6092530294142579,0.13097494726653713,0.16344150798736096,0.7754270897492591,0.25074437174031206,0.19430073540409779,0.873977869992595,0.44038007315168404,1.3098734011173276,0.6038840440835148,1.1597500282920783,0.5246665545514567,0.9878771373992207,0.3760774626833416,0.31126526093515106,0.4529586472974078,0.08864672390998125,-0.10107231657795367,1.273446045353429,0.6526000991889279,1.112052296984938,0.055574519482188715,0.12242148323328687,0.716142355234694,0.13312017416250124,0.4005896875355485,0.8651546004019829,0.02520739038272205,0.47322707239371686,1.2999057354664463,0.5586908821144858,0.1503807861123953,0.912497451144883,-0.014321590812024276,1.0556300928693667,0.11816121734702534,0.4859840296183794,0.0949259763594194,1.0339282556700027],&quot;type&quot;:&quot;scatter&quot;,&quot;name&quot;:&quot;model output&quot;,&quot;x&quot;:[-0.93,0.81,0.24,0.49,-1.66,1.73,0.99,-1.77,-2.24,0.79,-1.88,-0.88,-0.13,-0.88,-1.88,2.03,2.47,1.42,2.14,-1.33,1.82,0.78,-1.32,0.9,-1.68,2.79,-1.19,0.84,1.65,1.16,-2.69,-2.46,-0.5,-2.35,2.13,-2.76,0.62,1.83,-1.93,0.11,1.04,-0.65,0.41,2.17,0.4,-0.11,-1.64,-1.73,-2.28,1.49,-0.16,-1.85,2.12,-1.8,-0.6,-1.89,1.28,-1.89,1.86,-2.76,2.26,-1.95,-1.55,1.29,-1.62,-0.34,-0.65,-0.37,-0.27,-2.16,2.45,1.06,1.69,-1.96,-0.71,0.56,-2.81,1.75,0.35,1.59,1.03,0.47,2.69,-2.0,-0.43,1.34,-1.87,1.15,-2.62,-1.7,-1.19,0.15,-1.87,0.19,1.61,0.44,0.38,1.75,-0.05,-0.12,2.32,-0.72,1.96,1.37,1.78,2.38,1.85,-2.66,2.65,-0.39,-1.02,-1.33,1.82,1.97,1.19,0.79,0.13,0.28,-2.41,2.16,-2.48,2.5,1.94,-2.99,-1.25,-0.63,2.5,0.22,-0.6,-1.0,-1.19,-2.65,-2.57,-2.37,2.11,1.9,2.63,2.03,1.33,-2.59,2.34,-1.97,-0.05,0.24,2.23,2.52,-1.06,1.9,0.64,-0.9,-1.94,-1.71,1.32,2.81,-2.28,0.99,-0.19,0.17,2.45,0.18,-2.01,0.63,-1.35,-1.2,1.23,-0.81,-1.06,1.57,-0.02,2.96,0.61,2.5,0.31,1.95,-0.28,-0.55,0.03,-1.55,-2.52,2.85,0.79,2.35,-1.71,-1.39,1.02,-1.34,-0.18,1.54,-1.86,0.11,2.93,0.44,-1.26,1.7,-2.06,2.17,-1.41,0.16,-1.52,2.1]}],{&quot;margin&quot;:{&quot;l&quot;:50,&quot;b&quot;:50,&quot;r&quot;:50,&quot;t&quot;:60}},{}); gd.on(&quot;plotly_hover&quot;,(function (data){var filtered_data=WebIO.CommandSets.Plotly.filterEventData(gd,data,&quot;hover&quot;); return !(filtered_data.isnil) ? (WebIO.setval({&quot;name&quot;:&quot;hover&quot;,&quot;scope&quot;:&quot;scope-390389ee-d7c2-4f82-8fff-ca37b55f6f0b&quot;,&quot;id&quot;:&quot;ob_21&quot;,&quot;type&quot;:&quot;observable&quot;},filtered_data.out)) : undefined})); gd.on(&quot;plotly_unhover&quot;,(function (){return WebIO.setval({&quot;name&quot;:&quot;hover&quot;,&quot;scope&quot;:&quot;scope-390389ee-d7c2-4f82-8fff-ca37b55f6f0b&quot;,&quot;id&quot;:&quot;ob_21&quot;,&quot;type&quot;:&quot;observable&quot;},{})})); gd.on(&quot;plotly_selected&quot;,(function (data){var filtered_data=WebIO.CommandSets.Plotly.filterEventData(gd,data,&quot;selected&quot;); return !(filtered_data.isnil) ? (WebIO.setval({&quot;name&quot;:&quot;selected&quot;,&quot;scope&quot;:&quot;scope-390389ee-d7c2-4f82-8fff-ca37b55f6f0b&quot;,&quot;id&quot;:&quot;ob_22&quot;,&quot;type&quot;:&quot;observable&quot;},filtered_data.out)) : undefined})); gd.on(&quot;plotly_deselect&quot;,(function (){return WebIO.setval({&quot;name&quot;:&quot;selected&quot;,&quot;scope&quot;:&quot;scope-390389ee-d7c2-4f82-8fff-ca37b55f6f0b&quot;,&quot;id&quot;:&quot;ob_22&quot;,&quot;type&quot;:&quot;observable&quot;},{})})); gd.on(&quot;plotly_relayout&quot;,(function (data){var filtered_data=WebIO.CommandSets.Plotly.filterEventData(gd,data,&quot;relayout&quot;); return !(filtered_data.isnil) ? (WebIO.setval({&quot;name&quot;:&quot;relayout&quot;,&quot;scope&quot;:&quot;scope-390389ee-d7c2-4f82-8fff-ca37b55f6f0b&quot;,&quot;id&quot;:&quot;ob_24&quot;,&quot;type&quot;:&quot;observable&quot;},filtered_data.out)) : undefined})); return gd.on(&quot;plotly_click&quot;,(function (data){var filtered_data=WebIO.CommandSets.Plotly.filterEventData(gd,data,&quot;click&quot;); return !(filtered_data.isnil) ? (WebIO.setval({&quot;name&quot;:&quot;click&quot;,&quot;scope&quot;:&quot;scope-390389ee-d7c2-4f82-8fff-ca37b55f6f0b&quot;,&quot;id&quot;:&quot;ob_23&quot;,&quot;type&quot;:&quot;observable&quot;},filtered_data.out)) : undefined}))})]},&quot;_downloadImage&quot;:[(function (options){return this.Plotly.downloadImage(this.plotElem,options)})],&quot;_commands&quot;:[(function (args){var fn=args.shift(); var elem=this.plotElem; var Plotly=this.Plotly; args.unshift(elem); return Plotly[fn].apply(this,args)})]},&quot;systemjs_options&quot;:null,&quot;observables&quot;:{&quot;_toImage&quot;:{&quot;sync&quot;:false,&quot;id&quot;:&quot;ob_28&quot;,&quot;value&quot;:{}},&quot;hover&quot;:{&quot;sync&quot;:false,&quot;id&quot;:&quot;ob_21&quot;,&quot;value&quot;:{}},&quot;selected&quot;:{&quot;sync&quot;:false,&quot;id&quot;:&quot;ob_22&quot;,&quot;value&quot;:{}},&quot;__gd_contents&quot;:{&quot;sync&quot;:false,&quot;id&quot;:&quot;ob_26&quot;,&quot;value&quot;:{}},&quot;click&quot;:{&quot;sync&quot;:false,&quot;id&quot;:&quot;ob_23&quot;,&quot;value&quot;:{}},&quot;image&quot;:{&quot;sync&quot;:true,&quot;id&quot;:&quot;ob_25&quot;,&quot;value&quot;:&quot;&quot;},&quot;__get_gd_contents&quot;:{&quot;sync&quot;:false,&quot;id&quot;:&quot;ob_30&quot;,&quot;value&quot;:&quot;&quot;},&quot;_downloadImage&quot;:{&quot;sync&quot;:false,&quot;id&quot;:&quot;ob_29&quot;,&quot;value&quot;:{}},&quot;relayout&quot;:{&quot;sync&quot;:false,&quot;id&quot;:&quot;ob_24&quot;,&quot;value&quot;:{}},&quot;_commands&quot;:{&quot;sync&quot;:false,&quot;id&quot;:&quot;ob_27&quot;,&quot;value&quot;:[]}}},&quot;children&quot;:[{&quot;props&quot;:{&quot;id&quot;:&quot;plot-b7b9cf9c-226c-467e-9772-75ffcb35a92c&quot;},&quot;nodeType&quot;:&quot;DOM&quot;,&quot;type&quot;:&quot;node&quot;,&quot;instanceArgs&quot;:{&quot;namespace&quot;:&quot;html&quot;,&quot;tag&quot;:&quot;div&quot;},&quot;children&quot;:[]}]})</unsafe-script>"
      ],
      "text/plain": [
       "data: [\n",
       "  \"scatter with fields mode, name, type, x, and y\",\n",
       "  \"scatter with fields mode, name, type, x, and y\"\n",
       "]\n",
       "\n",
       "layout: \"layout with field margin\"\n",
       "\n"
      ]
     },
     "execution_count": 11,
     "metadata": {},
     "output_type": "execute_result"
    }
   ],
   "source": [
    "# Scatter plot the dataset\n",
    "function plot_model_performance(model, func, minval, maxval)\n",
    "    x_test = rand(minval:.01:maxval, 200)\n",
    "    plot([\n",
    "        scatter(;\n",
    "            x=x_test,\n",
    "            y=func.(x_test),\n",
    "            mode=\"markers\",\n",
    "            name=\"target\"\n",
    "        ),\n",
    "        scatter(;\n",
    "            x=x_test,\n",
    "            y=Flux.Tracker.data.(model.(x_test)),\n",
    "            mode=\"markers\",\n",
    "            name=\"model output\"\n",
    "        ),\n",
    "    ])\n",
    "end\n",
    "\n",
    "plot_model_performance(model, step, -3, 3)"
   ]
  },
  {
   "cell_type": "code",
   "execution_count": 12,
   "metadata": {},
   "outputs": [
    {
     "data": {
      "text/html": [
       "<div class='display:none'></div><unsafe-script style='display:none'>\n",
       "WebIO.mount(this.previousSibling,{&quot;props&quot;:{},&quot;nodeType&quot;:&quot;Scope&quot;,&quot;type&quot;:&quot;node&quot;,&quot;instanceArgs&quot;:{&quot;imports&quot;:{&quot;data&quot;:[{&quot;name&quot;:&quot;Plotly&quot;,&quot;type&quot;:&quot;js&quot;,&quot;url&quot;:&quot;/assetserver/ca0d1d661ba20f29c3bcdb3136fc5e131d9ae531-plotly-latest.min.js&quot;},{&quot;name&quot;:null,&quot;type&quot;:&quot;js&quot;,&quot;url&quot;:&quot;/assetserver/df76365695a2e6ab133a286a764f9caca195cb05-plotly_webio.bundle.js&quot;}],&quot;type&quot;:&quot;async_block&quot;},&quot;id&quot;:&quot;scope-eb4a59cb-6a36-4d1c-97a3-4ce99929670f&quot;,&quot;handlers&quot;:{&quot;_toImage&quot;:[(function (options){return this.Plotly.toImage(this.plotElem,options).then((function (data){return WebIO.setval({&quot;name&quot;:&quot;image&quot;,&quot;scope&quot;:&quot;scope-eb4a59cb-6a36-4d1c-97a3-4ce99929670f&quot;,&quot;id&quot;:&quot;ob_35&quot;,&quot;type&quot;:&quot;observable&quot;},data)}))})],&quot;__get_gd_contents&quot;:[(function (prop){prop==&quot;data&quot; ? (WebIO.setval({&quot;name&quot;:&quot;__gd_contents&quot;,&quot;scope&quot;:&quot;scope-eb4a59cb-6a36-4d1c-97a3-4ce99929670f&quot;,&quot;id&quot;:&quot;ob_36&quot;,&quot;type&quot;:&quot;observable&quot;},this.plotElem.data)) : undefined; return prop==&quot;layout&quot; ? (WebIO.setval({&quot;name&quot;:&quot;__gd_contents&quot;,&quot;scope&quot;:&quot;scope-eb4a59cb-6a36-4d1c-97a3-4ce99929670f&quot;,&quot;id&quot;:&quot;ob_36&quot;,&quot;type&quot;:&quot;observable&quot;},this.plotElem.layout)) : undefined})],&quot;_promises&quot;:{&quot;importsLoaded&quot;:[(function (Plotly){var gd=this.dom.querySelector(&quot;#plot-ea61cb56-0ff8-46c2-aa94-92134d23d632&quot;); this.plotElem=gd; this.Plotly=Plotly; (window.Blink!==undefined) ? (gd.style.width=&quot;100%&quot;, gd.style.height=&quot;100vh&quot;, gd.style.marginLeft=&quot;0%&quot;, gd.style.marginTop=&quot;0vh&quot;) : undefined; window.onresize=(function (){return Plotly.Plots.resize(gd)}); Plotly.newPlot(gd,[{&quot;mode&quot;:&quot;markers&quot;,&quot;y&quot;:[1.0,0.0,0.0,1.0,0.0,0.0,1.0,0.0,0.0,0.0,1.0,1.0,1.0,1.0,0.0,0.0,1.0,0.0,0.0,0.0,0.0,0.0,0.0,1.0,0.0,1.0,0.0,0.0,0.0,1.0,1.0,0.0,0.0,1.0,1.0,0.0,0.0,0.0,0.0,0.0,0.0,0.0,1.0,1.0,0.0,1.0,0.0,0.0,0.0,1.0,1.0,1.0,0.0,0.0,0.0,0.0,1.0,1.0,1.0,0.0,1.0,1.0,1.0,1.0,0.0,0.0,0.0,1.0,0.0,0.0,1.0,0.0,1.0,1.0,1.0,0.0,0.0,0.0,1.0,0.0,1.0,1.0,1.0,1.0,0.0,0.0,1.0,1.0,0.0,0.0,1.0,1.0,0.0,0.0,0.0,1.0,1.0,1.0,0.0,1.0,1.0,0.0,0.0,0.0,1.0,0.0,0.0,1.0,0.0,0.0,0.0,0.0,0.0,1.0,1.0,1.0,0.0,0.0,0.0,0.0,1.0,1.0,1.0,0.0,1.0,1.0,0.0,0.0,1.0,0.0,1.0,1.0,0.0,1.0,0.0,1.0,0.0,1.0,1.0,0.0,1.0,1.0,0.0,1.0,0.0,1.0,0.0,1.0,0.0,0.0,0.0,1.0,1.0,1.0,1.0,1.0,1.0,0.0,0.0,1.0,1.0,0.0,0.0,1.0,0.0,0.0,1.0,1.0,1.0,0.0,0.0,0.0,0.0,0.0,1.0,1.0,0.0,1.0,0.0,0.0,0.0,0.0,1.0,1.0,1.0,0.0,1.0,0.0,0.0,0.0,1.0,1.0,0.0,1.0,1.0,1.0,1.0,0.0,1.0,1.0],&quot;type&quot;:&quot;scatter&quot;,&quot;name&quot;:&quot;target&quot;,&quot;x&quot;:[0.46,-0.89,-2.41,0.64,-1.41,-0.67,0.53,-2.56,-1.02,-1.06,0.71,0.16,1.44,0.52,-2.41,-2.42,1.53,-1.16,-0.6,-0.9,-1.65,-0.59,-0.77,0.77,-1.84,1.85,-2.37,-0.93,-1.03,1.62,1.7,-0.33,-2.26,2.54,0.57,-0.15,-2.3,-1.53,-1.38,-2.42,-2.17,-1.06,0.9,0.28,-0.21,1.55,-0.99,-1.56,-1.83,0.26,0.81,0.45,-0.57,-0.42,-2.04,-2.49,0.55,0.2,2.11,-1.29,0.48,2.87,0.55,1.11,-2.41,-0.24,-0.91,0.63,-2.57,-2.83,2.41,-1.41,2.3,2.24,0.38,-0.39,-2.08,-1.75,2.8,-0.43,2.41,2.24,1.84,2.87,-2.65,-1.2,2.52,0.8,-2.67,-0.33,1.68,1.17,-2.21,-1.44,-1.94,0.31,2.76,2.17,-1.43,0.73,0.18,-0.18,-0.06,-0.94,1.62,-1.79,-0.65,1.08,-1.7,-2.4,-1.48,-1.96,-0.87,1.55,0.04,0.38,-1.57,-0.78,-2.1,-0.09,2.71,2.49,0.6,-0.03,0.2,0.99,-2.64,-2.03,2.09,-2.72,1.26,2.87,-0.2,0.39,-2.92,0.02,-1.77,0.03,1.6,-2.32,0.95,0.59,-0.51,2.52,-2.37,2.12,-2.15,1.96,-0.77,-0.21,-2.71,2.1,2.83,2.91,1.86,0.28,0.53,-2.23,-1.19,0.08,1.23,-1.48,-0.44,0.43,-0.39,-0.61,1.62,1.07,0.45,-3.0,-2.93,-1.78,-0.66,-1.52,2.82,2.51,-1.49,0.77,-1.34,-0.32,-2.19,-0.92,0.96,0.55,0.48,-2.18,2.1,-0.25,-0.25,-0.33,1.04,2.32,-1.35,0.69,2.67,0.66,1.41,-0.66,0.35,2.9]},{&quot;mode&quot;:&quot;markers&quot;,&quot;y&quot;:[0.5636447501209103,0.07470187024887513,-0.04583407151656954,0.6331723545533802,-0.04419318997371571,0.14162462716745677,0.5908589663999853,-0.012495606460675546,0.03932004268455816,0.029127569782174123,0.6597260029726093,0.4459263478457276,0.9049206260425425,0.5869829572311662,-0.04583407151656954,-0.04392247506419461,0.9293577978473333,0.005178357995423467,0.16454424151602903,0.07186289145651947,-0.07559175893460478,0.16787603413224267,0.11018860780028603,0.6822045011397968,-0.0878259952822866,1.0018865671100499,-0.05304653640962542,0.06346032208305001,0.036740155567267854,0.952123168925359,0.9708595470430368,0.25890557049192214,-0.06937265663563136,1.0611889444667995,0.6063179089180113,0.3259256191059078,-0.06402284570993261,-0.061996109671049224,-0.039118067429282324,-0.04392247506419461,-0.07902061947462213,0.029127569782174123,0.7298412464035743,0.49307841032382266,0.30329629908357775,0.9345654276816499,0.0471844985790457,-0.06580045138516409,-0.08748072424328518,0.48521486211025644,0.6970272027373506,0.5597428776024177,0.1745811615579399,0.22651051878730624,-0.08731843981654186,-0.02930807313824757,0.5985977823510427,0.4616306944213692,1.0415685143944025,-0.02246454339612159,0.571438714307556,1.0304098066163998,0.5985977823510427,0.8029339605936622,-0.04583407151656954,0.2920835293270027,0.06904286521123199,0.6293531178906115,-0.009911133043517983,0.0739645761722093,1.0618977379123946,-0.04419318997371571,1.0578661340152107,1.0539607857193483,0.5323536888641989,0.23721454781097595,-0.08545736203406051,-0.08350445974684326,1.0406059938066636,0.22296455565796097,1.0618977379123946,1.0539607857193483,0.9999929893670715,1.0304098066163998,0.012440169079772523,-0.0037611662416677794,1.0616970786726894,0.6933344828128423,0.01849938949538843,0.25890557049192214,0.9663126498888571,0.8227660681339793,-0.07513614325159673,-0.04902295458813283,-0.08936708244812802,0.5048712761084406,1.0455195054367756,1.0479415728862178,-0.04744056659271305,0.6672496905412827,0.4537758089836018,0.3145784620492207,0.36031306364199717,0.060698131060750025,0.952123168925359,-0.08576021874319745,0.14809950661319798,0.7928294552885288,-0.07994794647625023,-0.04770211294700272,-0.05507336943568436,-0.08924974607511463,0.08043603375360214,0.9345654276816499,0.3990164840893736,0.5323536888641989,-0.06700937063690207,0.10713490700629238,-0.08429840493120033,0.34879731902031974,1.0507473182634461,1.0621839151980261,0.6178602048930975,0.371876205882624,0.4616306944213692,0.7618149226495136,0.009481838360723804,-0.08768948543405428,1.0392017078615763,0.03448663798381857,0.8515059849992251,1.0304098066163998,0.3070495269559585,0.5362734411478037,0.11079076009747779,0.39124148943731885,-0.08469859421086504,0.3951270867486308,0.9472147569117979,-0.06109801523623681,0.7477157523516413,0.6140180426585139,0.19501715039979511,1.0616970786726894,-0.05304653640962542,1.0427068649173918,-0.0807243376960905,1.0209737608302132,0.11018860780028603,0.30329629908357775,0.031192628285013346,1.0404000743990318,1.0364874478798125,1.0236526105535213,1.0037542915683735,0.49307841032382266,0.5908589663999853,-0.07295277836528469,-0.0015616385406271166,0.41460881514071063,0.8420663107942056,-0.05507336943568436,0.2194298873517166,0.5519301663665782,0.23721454781097595,0.1612265135379683,0.952123168925359,0.7894344543095433,0.5597428776024177,0.14704823648471288,0.11513970824292108,-0.085246051683641,0.1448545457803594,-0.060669344214367815,1.0379018997354779,1.0618959098886376,-0.05651537421255451,0.6822045011397968,-0.031977172892769495,0.2625555206859322,-0.07715832247391669,0.06624195444330976,0.7512577365887161,0.5985977823510427,0.571438714307556,-0.07810937478682262,1.0404000743990318,0.2883621204626574,0.2883621204626574,0.25890557049192214,0.779171234764924,1.0589041735194467,-0.033801986072856435,0.652173198480828,1.0542110157191864,0.6407922487925296,0.8964239200524415,0.1448545457803594,0.5205836685487516,1.025406188087731],&quot;type&quot;:&quot;scatter&quot;,&quot;name&quot;:&quot;model output&quot;,&quot;x&quot;:[0.46,-0.89,-2.41,0.64,-1.41,-0.67,0.53,-2.56,-1.02,-1.06,0.71,0.16,1.44,0.52,-2.41,-2.42,1.53,-1.16,-0.6,-0.9,-1.65,-0.59,-0.77,0.77,-1.84,1.85,-2.37,-0.93,-1.03,1.62,1.7,-0.33,-2.26,2.54,0.57,-0.15,-2.3,-1.53,-1.38,-2.42,-2.17,-1.06,0.9,0.28,-0.21,1.55,-0.99,-1.56,-1.83,0.26,0.81,0.45,-0.57,-0.42,-2.04,-2.49,0.55,0.2,2.11,-1.29,0.48,2.87,0.55,1.11,-2.41,-0.24,-0.91,0.63,-2.57,-2.83,2.41,-1.41,2.3,2.24,0.38,-0.39,-2.08,-1.75,2.8,-0.43,2.41,2.24,1.84,2.87,-2.65,-1.2,2.52,0.8,-2.67,-0.33,1.68,1.17,-2.21,-1.44,-1.94,0.31,2.76,2.17,-1.43,0.73,0.18,-0.18,-0.06,-0.94,1.62,-1.79,-0.65,1.08,-1.7,-2.4,-1.48,-1.96,-0.87,1.55,0.04,0.38,-1.57,-0.78,-2.1,-0.09,2.71,2.49,0.6,-0.03,0.2,0.99,-2.64,-2.03,2.09,-2.72,1.26,2.87,-0.2,0.39,-2.92,0.02,-1.77,0.03,1.6,-2.32,0.95,0.59,-0.51,2.52,-2.37,2.12,-2.15,1.96,-0.77,-0.21,-2.71,2.1,2.83,2.91,1.86,0.28,0.53,-2.23,-1.19,0.08,1.23,-1.48,-0.44,0.43,-0.39,-0.61,1.62,1.07,0.45,-3.0,-2.93,-1.78,-0.66,-1.52,2.82,2.51,-1.49,0.77,-1.34,-0.32,-2.19,-0.92,0.96,0.55,0.48,-2.18,2.1,-0.25,-0.25,-0.33,1.04,2.32,-1.35,0.69,2.67,0.66,1.41,-0.66,0.35,2.9]}],{&quot;margin&quot;:{&quot;l&quot;:50,&quot;b&quot;:50,&quot;r&quot;:50,&quot;t&quot;:60}},{}); gd.on(&quot;plotly_hover&quot;,(function (data){var filtered_data=WebIO.CommandSets.Plotly.filterEventData(gd,data,&quot;hover&quot;); return !(filtered_data.isnil) ? (WebIO.setval({&quot;name&quot;:&quot;hover&quot;,&quot;scope&quot;:&quot;scope-eb4a59cb-6a36-4d1c-97a3-4ce99929670f&quot;,&quot;id&quot;:&quot;ob_31&quot;,&quot;type&quot;:&quot;observable&quot;},filtered_data.out)) : undefined})); gd.on(&quot;plotly_unhover&quot;,(function (){return WebIO.setval({&quot;name&quot;:&quot;hover&quot;,&quot;scope&quot;:&quot;scope-eb4a59cb-6a36-4d1c-97a3-4ce99929670f&quot;,&quot;id&quot;:&quot;ob_31&quot;,&quot;type&quot;:&quot;observable&quot;},{})})); gd.on(&quot;plotly_selected&quot;,(function (data){var filtered_data=WebIO.CommandSets.Plotly.filterEventData(gd,data,&quot;selected&quot;); return !(filtered_data.isnil) ? (WebIO.setval({&quot;name&quot;:&quot;selected&quot;,&quot;scope&quot;:&quot;scope-eb4a59cb-6a36-4d1c-97a3-4ce99929670f&quot;,&quot;id&quot;:&quot;ob_32&quot;,&quot;type&quot;:&quot;observable&quot;},filtered_data.out)) : undefined})); gd.on(&quot;plotly_deselect&quot;,(function (){return WebIO.setval({&quot;name&quot;:&quot;selected&quot;,&quot;scope&quot;:&quot;scope-eb4a59cb-6a36-4d1c-97a3-4ce99929670f&quot;,&quot;id&quot;:&quot;ob_32&quot;,&quot;type&quot;:&quot;observable&quot;},{})})); gd.on(&quot;plotly_relayout&quot;,(function (data){var filtered_data=WebIO.CommandSets.Plotly.filterEventData(gd,data,&quot;relayout&quot;); return !(filtered_data.isnil) ? (WebIO.setval({&quot;name&quot;:&quot;relayout&quot;,&quot;scope&quot;:&quot;scope-eb4a59cb-6a36-4d1c-97a3-4ce99929670f&quot;,&quot;id&quot;:&quot;ob_34&quot;,&quot;type&quot;:&quot;observable&quot;},filtered_data.out)) : undefined})); return gd.on(&quot;plotly_click&quot;,(function (data){var filtered_data=WebIO.CommandSets.Plotly.filterEventData(gd,data,&quot;click&quot;); return !(filtered_data.isnil) ? (WebIO.setval({&quot;name&quot;:&quot;click&quot;,&quot;scope&quot;:&quot;scope-eb4a59cb-6a36-4d1c-97a3-4ce99929670f&quot;,&quot;id&quot;:&quot;ob_33&quot;,&quot;type&quot;:&quot;observable&quot;},filtered_data.out)) : undefined}))})]},&quot;_downloadImage&quot;:[(function (options){return this.Plotly.downloadImage(this.plotElem,options)})],&quot;_commands&quot;:[(function (args){var fn=args.shift(); var elem=this.plotElem; var Plotly=this.Plotly; args.unshift(elem); return Plotly[fn].apply(this,args)})]},&quot;systemjs_options&quot;:null,&quot;observables&quot;:{&quot;_toImage&quot;:{&quot;sync&quot;:false,&quot;id&quot;:&quot;ob_38&quot;,&quot;value&quot;:{}},&quot;hover&quot;:{&quot;sync&quot;:false,&quot;id&quot;:&quot;ob_31&quot;,&quot;value&quot;:{}},&quot;selected&quot;:{&quot;sync&quot;:false,&quot;id&quot;:&quot;ob_32&quot;,&quot;value&quot;:{}},&quot;__gd_contents&quot;:{&quot;sync&quot;:false,&quot;id&quot;:&quot;ob_36&quot;,&quot;value&quot;:{}},&quot;click&quot;:{&quot;sync&quot;:false,&quot;id&quot;:&quot;ob_33&quot;,&quot;value&quot;:{}},&quot;image&quot;:{&quot;sync&quot;:true,&quot;id&quot;:&quot;ob_35&quot;,&quot;value&quot;:&quot;&quot;},&quot;__get_gd_contents&quot;:{&quot;sync&quot;:false,&quot;id&quot;:&quot;ob_40&quot;,&quot;value&quot;:&quot;&quot;},&quot;_downloadImage&quot;:{&quot;sync&quot;:false,&quot;id&quot;:&quot;ob_39&quot;,&quot;value&quot;:{}},&quot;relayout&quot;:{&quot;sync&quot;:false,&quot;id&quot;:&quot;ob_34&quot;,&quot;value&quot;:{}},&quot;_commands&quot;:{&quot;sync&quot;:false,&quot;id&quot;:&quot;ob_37&quot;,&quot;value&quot;:[]}}},&quot;children&quot;:[{&quot;props&quot;:{&quot;id&quot;:&quot;plot-ea61cb56-0ff8-46c2-aa94-92134d23d632&quot;},&quot;nodeType&quot;:&quot;DOM&quot;,&quot;type&quot;:&quot;node&quot;,&quot;instanceArgs&quot;:{&quot;namespace&quot;:&quot;html&quot;,&quot;tag&quot;:&quot;div&quot;},&quot;children&quot;:[]}]})</unsafe-script>"
      ],
      "text/plain": [
       "data: [\n",
       "  \"scatter with fields mode, name, type, x, and y\",\n",
       "  \"scatter with fields mode, name, type, x, and y\"\n",
       "]\n",
       "\n",
       "layout: \"layout with field margin\"\n",
       "\n"
      ]
     },
     "execution_count": 12,
     "metadata": {},
     "output_type": "execute_result"
    }
   ],
   "source": [
    "# Okay, that didn't work well at all.  Let's try with a higher-order polynomial:\n",
    "model = Polynomial(param(randn(4)))\n",
    "opt = Flux.Optimise.Momentum(params(model), 1e-6)\n",
    "\n",
    "for epoch in 1:1000\n",
    "    train(model, opt, step_data)\n",
    "end\n",
    "\n",
    "plot_model_performance(model, step, -3, 3)"
   ]
  },
  {
   "cell_type": "code",
   "execution_count": 14,
   "metadata": {},
   "outputs": [
    {
     "data": {
      "text/html": [
       "<div class='display:none'></div><unsafe-script style='display:none'>\n",
       "WebIO.mount(this.previousSibling,{&quot;props&quot;:{},&quot;nodeType&quot;:&quot;Scope&quot;,&quot;type&quot;:&quot;node&quot;,&quot;instanceArgs&quot;:{&quot;imports&quot;:{&quot;data&quot;:[{&quot;name&quot;:&quot;Plotly&quot;,&quot;type&quot;:&quot;js&quot;,&quot;url&quot;:&quot;/assetserver/ca0d1d661ba20f29c3bcdb3136fc5e131d9ae531-plotly-latest.min.js&quot;},{&quot;name&quot;:null,&quot;type&quot;:&quot;js&quot;,&quot;url&quot;:&quot;/assetserver/df76365695a2e6ab133a286a764f9caca195cb05-plotly_webio.bundle.js&quot;}],&quot;type&quot;:&quot;async_block&quot;},&quot;id&quot;:&quot;scope-1b336617-f6ec-4e1d-bae6-fd357709ee93&quot;,&quot;handlers&quot;:{&quot;_toImage&quot;:[(function (options){return this.Plotly.toImage(this.plotElem,options).then((function (data){return WebIO.setval({&quot;name&quot;:&quot;image&quot;,&quot;scope&quot;:&quot;scope-1b336617-f6ec-4e1d-bae6-fd357709ee93&quot;,&quot;id&quot;:&quot;ob_45&quot;,&quot;type&quot;:&quot;observable&quot;},data)}))})],&quot;__get_gd_contents&quot;:[(function (prop){prop==&quot;data&quot; ? (WebIO.setval({&quot;name&quot;:&quot;__gd_contents&quot;,&quot;scope&quot;:&quot;scope-1b336617-f6ec-4e1d-bae6-fd357709ee93&quot;,&quot;id&quot;:&quot;ob_46&quot;,&quot;type&quot;:&quot;observable&quot;},this.plotElem.data)) : undefined; return prop==&quot;layout&quot; ? (WebIO.setval({&quot;name&quot;:&quot;__gd_contents&quot;,&quot;scope&quot;:&quot;scope-1b336617-f6ec-4e1d-bae6-fd357709ee93&quot;,&quot;id&quot;:&quot;ob_46&quot;,&quot;type&quot;:&quot;observable&quot;},this.plotElem.layout)) : undefined})],&quot;_promises&quot;:{&quot;importsLoaded&quot;:[(function (Plotly){var gd=this.dom.querySelector(&quot;#plot-f0a7a502-9d0c-46f6-961c-50e845518b8e&quot;); this.plotElem=gd; this.Plotly=Plotly; (window.Blink!==undefined) ? (gd.style.width=&quot;100%&quot;, gd.style.height=&quot;100vh&quot;, gd.style.marginLeft=&quot;0%&quot;, gd.style.marginTop=&quot;0vh&quot;) : undefined; window.onresize=(function (){return Plotly.Plots.resize(gd)}); Plotly.newPlot(gd,[{&quot;mode&quot;:&quot;markers&quot;,&quot;y&quot;:[-0.41687080242921076,-0.9044121893788258,-0.5891447579422695,-0.5728674601004813,-0.9289597150038693,0.9968650284539189,0.8632093666488737,-0.479425538604203,-0.7184647930691263,-0.7379313711099628,-0.7843159250844198,0.9757233578266591,-0.8248857133384501,-0.9871001010138504,-0.4439481069655198,-0.6377647021345036,-0.2570805518921551,0.9982479743776325,-0.3334870921408144,0.2279775235351884,0.9837008148112766,0.7653549525292535,-0.059964006479444595,0.9551008555846923,0.5396320487339692,0.9999417202299663,-0.4259394650659996,0.9968650284539189,-0.14943813247359922,0.9361770523163061,-0.470625888171158,0.945783999449539,0.3334870921408144,-0.9927129910375885,-0.6668696350036979,-0.3709204694129827,0.8919286509533796,0.6287930240184686,-0.9901045603371778,0.8632093666488737,-0.7379313711099628,-0.9886517628517197,0.9760709219825242,-0.9687151001182652,-0.6593846719714731,0.9968650284539189,0.009999833334166664,-0.21978361222511694,0.1395431146442365,-0.3986093279844229,0.7103532724176078,-0.9361770523163061,-0.8257849931056082,0.2874780123425444,0.9818535303723597,0.999167945271476,0.7457052121767203,-0.25861934966111083,-0.1411200080598672,0.9424888019316975,-0.31456656061611776,0.8304973704919705,0.9608350642060727,-0.8772005042746817,-0.8304973704919705,0.8368987907984977,0.9938683634116449,-0.9960239899165367,-0.9981524724975481,0.9551008555846923,0.8304973704919705,-0.590430918113913,-0.9551008555846923,-0.89640574115156,0.9525761942715953,0.3537643453011431,0.0799146939691727,0.8191915683009983,0.6365371822219679,-0.5311861979208834,-0.9463000876874145,0.5891447579422695,0.8025710662467472,0.5311861979208834,0.3050586364434435,0.470625888171158,0.7523305763941708,0.6680555934164909,0.9914583481916864,0.9854497299884601,0.45430566983030646,-0.20845989984609956,0.966184951612734,0.998710143975583,0.9927129910375885,0.7032794192004101,0.9361770523163061,0.8912073600614354,-0.6680555934164909,0.0,0.5728674601004813,0.7895037396899505,-0.9463000876874145,0.28595222510483553,-0.9168031087717669,-0.1411200080598672,0.9520903415905158,0.9044121893788258,0.6900749835569364,-0.17075182895114532,0.5810351605373051,0.9612752029752999,-0.8134155047893737,-0.34289780745545134,-0.6365371822219679,0.9715269558223153,0.6816387600233341,0.9711483779210446,-0.9968650284539189,-0.3986093279844229,0.7173560908995228,-0.8134155047893737,0.2778859258165868,0.5155013718214642,-0.9525761942715953,-0.9326150140222005,0.7843159250844198,-0.9778646024353163,-0.06994284733753277,0.9430199312900106,-0.998789743470524,0.9886517628517197,-0.4273798802338298,0.479425538604203,0.059964006479444595,-0.8313834607786831,-0.5659562304487028,-0.8257849931056082,0.26673143668883115,0.9949243497775809,-0.8632093666488737,-0.9715269558223153,0.24740395925452294,-0.6287930240184686,0.9715269558223153,-0.963558185417193,0.6593846719714731,0.7242871743701426,-0.4439481069655198,-0.5810351605373051,-0.3908847788984522,-0.8423304316366457,0.999167945271476,-0.361615431964962,0.11971220728891936,-0.99588084453764,0.9424888019316975,0.6816387600233341,-0.6668696350036979,-0.7173560908995228,-0.7311458297268958,0.9092974268256817,-0.8581178296348089,0.9525761942715953,-0.9968650284539189,0.17902957342582418,0.9976063813191737,0.3349881501559051,-0.814340892425796,-0.009999833334166664,0.9837008148112766,0.9525761942715953,-0.8819578068849475,-0.9916648104524686,0.18885889497650057,-0.7833269096274834,-0.9995258306054791,-0.7653549525292535,0.9949243497775809,0.4259394650659996,0.9001004421765051,0.27635564856411376,-0.32554933451756,0.955571516852944,0.852108021949363,-0.9734845416953194,0.9134133613412252,-0.479425538604203,0.9802244727880455,0.9168031087717669,-0.8819578068849475,-0.9086334961158832,-0.2682660509296179,0.6961352386273567,0.5659562304487028,0.9888897660047015,0.7044107657701763,0.3986093279844229,-0.4528862853790683,-0.8819578068849475],&quot;type&quot;:&quot;scatter&quot;,&quot;name&quot;:&quot;target&quot;,&quot;x&quot;:[-0.43,-1.13,-0.63,-0.61,-1.95,1.65,2.1,-0.5,-2.34,-0.83,-2.24,1.35,-0.97,-1.41,-0.46,-2.45,-0.26,1.63,-0.34,0.23,1.39,2.27,-0.06,1.27,0.57,1.56,-0.44,1.65,-0.15,1.93,-0.49,1.24,0.34,-1.45,-0.73,-0.38,2.04,0.68,-1.43,2.1,-0.83,-1.42,1.79,-1.32,-0.72,1.65,0.01,-2.92,0.14,-0.41,0.79,-1.93,-2.17,2.85,1.38,1.53,2.3,-2.88,-3.0,1.23,-0.32,0.98,1.29,-1.07,-0.98,2.15,1.46,-1.66,-1.51,1.27,0.98,-2.51,-1.27,-2.03,1.88,2.78,0.08,0.96,0.69,-0.56,-1.9,0.63,2.21,0.56,0.31,0.49,2.29,2.41,1.44,1.4,2.67,-0.21,1.31,1.52,1.45,0.78,1.93,1.1,-2.41,0.0,0.61,0.91,-1.9,0.29,-1.16,-3.0,1.26,1.13,2.38,-2.97,0.62,1.85,-0.95,-0.35,-0.69,1.81,0.75,1.33,-1.65,-0.41,0.8,-0.95,2.86,2.6,-1.88,-1.94,2.24,-1.36,-0.07,1.91,-1.62,1.42,-2.7,0.5,0.06,-2.16,-2.54,-2.17,0.27,1.47,-2.1,-1.81,0.25,-0.68,1.81,-1.3,0.72,0.81,-0.46,-0.62,-2.74,-2.14,1.53,-0.37,0.12,-1.48,1.23,0.75,-0.73,-0.8,-0.82,2.0,-2.11,1.88,-1.65,0.18,1.64,2.8,-2.19,-0.01,1.39,1.88,-1.08,-1.7,0.19,-0.9,-1.54,-2.27,1.47,0.44,1.12,0.28,-2.81,1.87,1.02,-1.34,1.99,-0.5,1.77,1.16,-1.08,-1.14,-2.87,0.77,2.54,1.72,2.36,0.41,-0.47,-1.08]},{&quot;mode&quot;:&quot;markers&quot;,&quot;y&quot;:[-0.451321912965726,-0.8988764869872867,-0.6016691830621325,-0.5872676604155231,-0.9884571110921212,0.9394656685590155,0.9068537278335895,-0.5054500110690147,-0.781799483009334,-0.7362916829264922,-0.8531310819924516,0.8576692482840939,-0.8187562421638754,-0.9961193743234138,-0.4746991694117552,-0.6876388529699169,-0.3145316080326031,0.9363422298303266,-0.3797369923230081,0.09986430054913832,0.8726674363932182,0.8369216184722719,-0.14698224916138983,0.824238380800078,0.3784459661864701,0.9226650323095323,-0.45914312103832844,0.9394656685590155,-0.22300461819061196,0.9436716106965729,-0.4978088668268349,0.8105677055568468,0.19222300107887358,-1.004969811737336,-0.6712278864604797,-0.4118065823187953,0.9234868642438385,0.46263236128750224,-1.0007134111814269,0.9068537278335895,-0.7362916829264922,-0.9984583154329962,0.951085121022395,-0.9713888759571112,-0.6644649856454238,0.9394656685590155,-0.08743060303015145,-0.08267552413029433,0.023439192207297958,-0.4355959476206143,0.5426400628363295,-0.9941072754620509,-0.8952904988545145,0.3115139027009737,0.8690283176470512,0.915529979105755,0.820934620719941,-0.14782023095515573,0.0557332880697925,0.8058778568651003,-0.36356215721526886,0.6687971388303766,0.8330141347918166,-0.8707323073450449,-0.8242263019335507,0.8898469404950342,0.8960220650264964,-1.0281427506565313,-1.015668098442494,0.824238380800078,0.6687971388303766,-0.6290891200068158,-0.9548861159179575,-0.9612624675428243,0.9486014401280038,0.40074464418780753,-0.02772048082336531,0.6563249481175935,0.4700897362757996,-0.5506054901060001,-1.0017394703460651,0.4248387407716581,0.8655583727047518,0.3706113804574031,0.1671871169905528,0.3150232859798944,0.8263887247376489,0.7525089378804266,0.8897333801660694,0.8762319967613519,0.5259002381770359,-0.2731601510877045,0.8415142038463949,0.9129859756601164,0.8929166929284227,0.5355590387131822,0.9436716106965729,0.7391509716326465,-0.7238263332528538,-0.09595219338076463,0.4094953339656078,0.6242737597882835,-1.0017394703460651,0.15042720194635037,-0.9120449687544612,0.0557332880697925,0.8197485312387099,0.7554677406769796,0.772723606671357,0.0025486438978434833,0.417182613554238,0.9503286634833674,-0.8076412516959779,-0.3877902454209778,-0.643912225928059,0.9512274092747365,0.514077190394041,0.8497340782488189,-1.0279716833819021,-0.4355959476206143,0.5496803514439029,-0.8076412516959779,0.2981437209253972,0.5962543845411947,-1.0062721424891885,-0.9913387725313942,0.8517911290378399,-0.9831867183613283,-0.15546541607015804,0.9459545933312651,-1.026879871664945,0.8831351875060232,-0.40859504710793826,0.32304042430185115,-0.04478541248022057,-0.9008042672200537,-0.5978604455919534,-0.8952904988545145,0.13361708771471745,0.8990489327459168,-0.9312698426945076,-1.0187081389900996,0.11676128401064856,-0.6369751659794527,0.9512274092747365,-0.9650184505930547,0.49224901615221117,0.5566793408215283,-0.4746991694117552,-0.5944877958444306,-0.35512885974422437,-0.9114556869909519,0.915529979105755,-0.4038256041332457,0.006396331235388518,-1.0107114795032042,0.8058778568651003,0.514077190394041,-0.6712278864604797,-0.717278050219856,-0.7300036399515143,0.9323441094117292,-0.9265009799624632,0.9486014401280038,-1.0279716833819021,0.0574712754612088,0.9379482748133666,0.37602317571607635,-0.8838840265913837,-0.10446998581138008,0.8726674363932182,0.9486014401280038,-0.8755865806810612,-1.0278476375499512,0.06596483321377215,-0.7788600017805116,-1.0198244482670988,-0.8331229856699327,0.8990489327459168,0.274591507392436,0.7500879678473372,0.1420281378717756,-0.25544848599966397,0.9492786100096677,0.6931196574767173,-0.977446468451534,0.9342846490305987,-0.5054500110690147,0.950554404958029,0.7712453934826059,-0.8755865806810612,-0.9033342301731404,-0.16368962922592756,0.5284378427888355,0.6509826654050235,0.9475578381241592,0.7855472825025638,0.25007586437529666,-0.4824328822838308,-0.8755865806810612],&quot;type&quot;:&quot;scatter&quot;,&quot;name&quot;:&quot;model output&quot;,&quot;x&quot;:[-0.43,-1.13,-0.63,-0.61,-1.95,1.65,2.1,-0.5,-2.34,-0.83,-2.24,1.35,-0.97,-1.41,-0.46,-2.45,-0.26,1.63,-0.34,0.23,1.39,2.27,-0.06,1.27,0.57,1.56,-0.44,1.65,-0.15,1.93,-0.49,1.24,0.34,-1.45,-0.73,-0.38,2.04,0.68,-1.43,2.1,-0.83,-1.42,1.79,-1.32,-0.72,1.65,0.01,-2.92,0.14,-0.41,0.79,-1.93,-2.17,2.85,1.38,1.53,2.3,-2.88,-3.0,1.23,-0.32,0.98,1.29,-1.07,-0.98,2.15,1.46,-1.66,-1.51,1.27,0.98,-2.51,-1.27,-2.03,1.88,2.78,0.08,0.96,0.69,-0.56,-1.9,0.63,2.21,0.56,0.31,0.49,2.29,2.41,1.44,1.4,2.67,-0.21,1.31,1.52,1.45,0.78,1.93,1.1,-2.41,0.0,0.61,0.91,-1.9,0.29,-1.16,-3.0,1.26,1.13,2.38,-2.97,0.62,1.85,-0.95,-0.35,-0.69,1.81,0.75,1.33,-1.65,-0.41,0.8,-0.95,2.86,2.6,-1.88,-1.94,2.24,-1.36,-0.07,1.91,-1.62,1.42,-2.7,0.5,0.06,-2.16,-2.54,-2.17,0.27,1.47,-2.1,-1.81,0.25,-0.68,1.81,-1.3,0.72,0.81,-0.46,-0.62,-2.74,-2.14,1.53,-0.37,0.12,-1.48,1.23,0.75,-0.73,-0.8,-0.82,2.0,-2.11,1.88,-1.65,0.18,1.64,2.8,-2.19,-0.01,1.39,1.88,-1.08,-1.7,0.19,-0.9,-1.54,-2.27,1.47,0.44,1.12,0.28,-2.81,1.87,1.02,-1.34,1.99,-0.5,1.77,1.16,-1.08,-1.14,-2.87,0.77,2.54,1.72,2.36,0.41,-0.47,-1.08]}],{&quot;margin&quot;:{&quot;l&quot;:50,&quot;b&quot;:50,&quot;r&quot;:50,&quot;t&quot;:60}},{}); gd.on(&quot;plotly_hover&quot;,(function (data){var filtered_data=WebIO.CommandSets.Plotly.filterEventData(gd,data,&quot;hover&quot;); return !(filtered_data.isnil) ? (WebIO.setval({&quot;name&quot;:&quot;hover&quot;,&quot;scope&quot;:&quot;scope-1b336617-f6ec-4e1d-bae6-fd357709ee93&quot;,&quot;id&quot;:&quot;ob_41&quot;,&quot;type&quot;:&quot;observable&quot;},filtered_data.out)) : undefined})); gd.on(&quot;plotly_unhover&quot;,(function (){return WebIO.setval({&quot;name&quot;:&quot;hover&quot;,&quot;scope&quot;:&quot;scope-1b336617-f6ec-4e1d-bae6-fd357709ee93&quot;,&quot;id&quot;:&quot;ob_41&quot;,&quot;type&quot;:&quot;observable&quot;},{})})); gd.on(&quot;plotly_selected&quot;,(function (data){var filtered_data=WebIO.CommandSets.Plotly.filterEventData(gd,data,&quot;selected&quot;); return !(filtered_data.isnil) ? (WebIO.setval({&quot;name&quot;:&quot;selected&quot;,&quot;scope&quot;:&quot;scope-1b336617-f6ec-4e1d-bae6-fd357709ee93&quot;,&quot;id&quot;:&quot;ob_42&quot;,&quot;type&quot;:&quot;observable&quot;},filtered_data.out)) : undefined})); gd.on(&quot;plotly_deselect&quot;,(function (){return WebIO.setval({&quot;name&quot;:&quot;selected&quot;,&quot;scope&quot;:&quot;scope-1b336617-f6ec-4e1d-bae6-fd357709ee93&quot;,&quot;id&quot;:&quot;ob_42&quot;,&quot;type&quot;:&quot;observable&quot;},{})})); gd.on(&quot;plotly_relayout&quot;,(function (data){var filtered_data=WebIO.CommandSets.Plotly.filterEventData(gd,data,&quot;relayout&quot;); return !(filtered_data.isnil) ? (WebIO.setval({&quot;name&quot;:&quot;relayout&quot;,&quot;scope&quot;:&quot;scope-1b336617-f6ec-4e1d-bae6-fd357709ee93&quot;,&quot;id&quot;:&quot;ob_44&quot;,&quot;type&quot;:&quot;observable&quot;},filtered_data.out)) : undefined})); return gd.on(&quot;plotly_click&quot;,(function (data){var filtered_data=WebIO.CommandSets.Plotly.filterEventData(gd,data,&quot;click&quot;); return !(filtered_data.isnil) ? (WebIO.setval({&quot;name&quot;:&quot;click&quot;,&quot;scope&quot;:&quot;scope-1b336617-f6ec-4e1d-bae6-fd357709ee93&quot;,&quot;id&quot;:&quot;ob_43&quot;,&quot;type&quot;:&quot;observable&quot;},filtered_data.out)) : undefined}))})]},&quot;_downloadImage&quot;:[(function (options){return this.Plotly.downloadImage(this.plotElem,options)})],&quot;_commands&quot;:[(function (args){var fn=args.shift(); var elem=this.plotElem; var Plotly=this.Plotly; args.unshift(elem); return Plotly[fn].apply(this,args)})]},&quot;systemjs_options&quot;:null,&quot;observables&quot;:{&quot;_toImage&quot;:{&quot;sync&quot;:false,&quot;id&quot;:&quot;ob_48&quot;,&quot;value&quot;:{}},&quot;hover&quot;:{&quot;sync&quot;:false,&quot;id&quot;:&quot;ob_41&quot;,&quot;value&quot;:{}},&quot;selected&quot;:{&quot;sync&quot;:false,&quot;id&quot;:&quot;ob_42&quot;,&quot;value&quot;:{}},&quot;__gd_contents&quot;:{&quot;sync&quot;:false,&quot;id&quot;:&quot;ob_46&quot;,&quot;value&quot;:{}},&quot;click&quot;:{&quot;sync&quot;:false,&quot;id&quot;:&quot;ob_43&quot;,&quot;value&quot;:{}},&quot;image&quot;:{&quot;sync&quot;:true,&quot;id&quot;:&quot;ob_45&quot;,&quot;value&quot;:&quot;&quot;},&quot;__get_gd_contents&quot;:{&quot;sync&quot;:false,&quot;id&quot;:&quot;ob_50&quot;,&quot;value&quot;:&quot;&quot;},&quot;_downloadImage&quot;:{&quot;sync&quot;:false,&quot;id&quot;:&quot;ob_49&quot;,&quot;value&quot;:{}},&quot;relayout&quot;:{&quot;sync&quot;:false,&quot;id&quot;:&quot;ob_44&quot;,&quot;value&quot;:{}},&quot;_commands&quot;:{&quot;sync&quot;:false,&quot;id&quot;:&quot;ob_47&quot;,&quot;value&quot;:[]}}},&quot;children&quot;:[{&quot;props&quot;:{&quot;id&quot;:&quot;plot-f0a7a502-9d0c-46f6-961c-50e845518b8e&quot;},&quot;nodeType&quot;:&quot;DOM&quot;,&quot;type&quot;:&quot;node&quot;,&quot;instanceArgs&quot;:{&quot;namespace&quot;:&quot;html&quot;,&quot;tag&quot;:&quot;div&quot;},&quot;children&quot;:[]}]})</unsafe-script>"
      ],
      "text/plain": [
       "data: [\n",
       "  \"scatter with fields mode, name, type, x, and y\",\n",
       "  \"scatter with fields mode, name, type, x, and y\"\n",
       "]\n",
       "\n",
       "layout: \"layout with field margin\"\n",
       "\n"
      ]
     },
     "execution_count": 14,
     "metadata": {},
     "output_type": "execute_result"
    }
   ],
   "source": [
    "# Five-parameter model of a sinusoid\n",
    "model = Polynomial(param(randn(4)))\n",
    "opt = Flux.Optimise.Momentum(params(model), 1e-6)\n",
    "sin_data = create_training_set(sin, -3, 3, 300)\n",
    "\n",
    "for epoch in 1:1000\n",
    "    train(model, opt, sin_data)\n",
    "end\n",
    "\n",
    "plot_model_performance(model, sin, -3, 3)"
   ]
  },
  {
   "cell_type": "code",
   "execution_count": null,
   "metadata": {},
   "outputs": [],
   "source": []
  }
 ],
 "metadata": {
  "kernelspec": {
   "display_name": "Julia 1.0.0",
   "language": "julia",
   "name": "julia-1.0"
  },
  "language_info": {
   "file_extension": ".jl",
   "mimetype": "application/julia",
   "name": "julia",
   "version": "1.0.0"
  }
 },
 "nbformat": 4,
 "nbformat_minor": 2
}
