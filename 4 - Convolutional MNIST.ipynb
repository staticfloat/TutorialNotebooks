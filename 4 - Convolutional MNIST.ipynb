{
 "cells": [
  {
   "cell_type": "code",
   "execution_count": 1,
   "metadata": {},
   "outputs": [
    {
     "name": "stdout",
     "output_type": "stream",
     "text": [
      "\u001b[32m\u001b[1m  Updating\u001b[22m\u001b[39m registry at `~/.julia/registries/General`\n",
      "\u001b[32m\u001b[1m  Updating\u001b[22m\u001b[39m git-repo `https://github.com/JuliaRegistries/General.git`\n",
      "\u001b[?25l\u001b[2K\u001b[?25h"
     ]
    }
   ],
   "source": [
    "# Use package versions builtin to this repository.\n",
    "import Pkg\n",
    "Pkg.activate(@__DIR__)\n",
    "Pkg.instantiate()\n",
    "\n",
    "using Flux, Flux.Data.MNIST, Images, Statistics\n",
    "using Flux: onehotbatch, argmax, crossentropy, throttle, onecold\n",
    "using Base.Iterators: repeated, partition"
   ]
  },
  {
   "cell_type": "code",
   "execution_count": 2,
   "metadata": {},
   "outputs": [
    {
     "data": {
      "text/plain": [
       "gpu (generic function with 1 method)"
      ]
     },
     "execution_count": 2,
     "metadata": {},
     "output_type": "execute_result"
    }
   ],
   "source": [
    "# Disable GPU since this is running on my laptop\n",
    "gpu(x) = x\n",
    "\n",
    "# To use GPU code, uncomment the next two lines\n",
    "# using CuArrays\n",
    "# gpu(x) = cu(x)"
   ]
  },
  {
   "cell_type": "code",
   "execution_count": 26,
   "metadata": {
    "scrolled": true
   },
   "outputs": [
    {
     "data": {
      "text/html": [
       "<table><tbody><tr><td style='text-align:center;vertical-align:middle; margin: 0.5em;border:1px #90999f solid;border-collapse:collapse'><img style='max-width: 100px; max-height:100px;display:inline' src=\"data:image/png;base64,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\"></td><td style='text-align:center;vertical-align:middle; margin: 0.5em;border:1px #90999f solid;border-collapse:collapse'><img style='max-width: 100px; max-height:100px;display:inline' src=\"data:image/png;base64,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\"></td><td style='text-align:center;vertical-align:middle; margin: 0.5em;border:1px #90999f solid;border-collapse:collapse'><img style='max-width: 100px; max-height:100px;display:inline' src=\"data:image/png;base64,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\"></td><td style='text-align:center;vertical-align:middle; margin: 0.5em;border:1px #90999f solid;border-collapse:collapse'><img style='max-width: 100px; max-height:100px;display:inline' src=\"data:image/png;base64,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\"></td><td style='text-align:center;vertical-align:middle; margin: 0.5em;border:1px #90999f solid;border-collapse:collapse'><img style='max-width: 100px; max-height:100px;display:inline' src=\"data:image/png;base64,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\"></td><td style='text-align:center;vertical-align:middle; margin: 0.5em;border:1px #90999f solid;border-collapse:collapse'><img style='max-width: 100px; max-height:100px;display:inline' src=\"data:image/png;base64,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\"></td><td style='text-align:center;vertical-align:middle; margin: 0.5em;border:1px #90999f solid;border-collapse:collapse'><img style='max-width: 100px; max-height:100px;display:inline' src=\"data:image/png;base64,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\"></td><td style='text-align:center;vertical-align:middle; margin: 0.5em;border:1px #90999f solid;border-collapse:collapse'><img style='max-width: 100px; max-height:100px;display:inline' src=\"data:image/png;base64,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\"></td><td style='text-align:center;vertical-align:middle; margin: 0.5em;border:1px #90999f solid;border-collapse:collapse'><img style='max-width: 100px; max-height:100px;display:inline' src=\"data:image/png;base64,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\"></td><td style='text-align:center;vertical-align:middle; margin: 0.5em;border:1px #90999f solid;border-collapse:collapse'><img style='max-width: 100px; max-height:100px;display:inline' src=\"data:image/png;base64,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\"></td></tr></tbody></table><div><small>(a vector displayed as a row to save space)</small></div>"
      ],
      "text/plain": [
       "10-element Array{Array{Gray{Normed{UInt8,8}},2},1}:\n",
       " [Gray{N0f8}(0.0) Gray{N0f8}(0.0) … Gray{N0f8}(0.0) Gray{N0f8}(0.0); Gray{N0f8}(0.0) Gray{N0f8}(0.0) … Gray{N0f8}(0.0) Gray{N0f8}(0.0); … ; Gray{N0f8}(0.0) Gray{N0f8}(0.0) … Gray{N0f8}(0.0) Gray{N0f8}(0.0); Gray{N0f8}(0.0) Gray{N0f8}(0.0) … Gray{N0f8}(0.0) Gray{N0f8}(0.0)]\n",
       " [Gray{N0f8}(0.0) Gray{N0f8}(0.0) … Gray{N0f8}(0.0) Gray{N0f8}(0.0); Gray{N0f8}(0.0) Gray{N0f8}(0.0) … Gray{N0f8}(0.0) Gray{N0f8}(0.0); … ; Gray{N0f8}(0.0) Gray{N0f8}(0.0) … Gray{N0f8}(0.0) Gray{N0f8}(0.0); Gray{N0f8}(0.0) Gray{N0f8}(0.0) … Gray{N0f8}(0.0) Gray{N0f8}(0.0)]\n",
       " [Gray{N0f8}(0.0) Gray{N0f8}(0.0) … Gray{N0f8}(0.0) Gray{N0f8}(0.0); Gray{N0f8}(0.0) Gray{N0f8}(0.0) … Gray{N0f8}(0.0) Gray{N0f8}(0.0); … ; Gray{N0f8}(0.0) Gray{N0f8}(0.0) … Gray{N0f8}(0.0) Gray{N0f8}(0.0); Gray{N0f8}(0.0) Gray{N0f8}(0.0) … Gray{N0f8}(0.0) Gray{N0f8}(0.0)]\n",
       " [Gray{N0f8}(0.0) Gray{N0f8}(0.0) … Gray{N0f8}(0.0) Gray{N0f8}(0.0); Gray{N0f8}(0.0) Gray{N0f8}(0.0) … Gray{N0f8}(0.0) Gray{N0f8}(0.0); … ; Gray{N0f8}(0.0) Gray{N0f8}(0.0) … Gray{N0f8}(0.0) Gray{N0f8}(0.0); Gray{N0f8}(0.0) Gray{N0f8}(0.0) … Gray{N0f8}(0.0) Gray{N0f8}(0.0)]\n",
       " [Gray{N0f8}(0.0) Gray{N0f8}(0.0) … Gray{N0f8}(0.0) Gray{N0f8}(0.0); Gray{N0f8}(0.0) Gray{N0f8}(0.0) … Gray{N0f8}(0.0) Gray{N0f8}(0.0); … ; Gray{N0f8}(0.0) Gray{N0f8}(0.0) … Gray{N0f8}(0.0) Gray{N0f8}(0.0); Gray{N0f8}(0.0) Gray{N0f8}(0.0) … Gray{N0f8}(0.0) Gray{N0f8}(0.0)]\n",
       " [Gray{N0f8}(0.0) Gray{N0f8}(0.0) … Gray{N0f8}(0.0) Gray{N0f8}(0.0); Gray{N0f8}(0.0) Gray{N0f8}(0.0) … Gray{N0f8}(0.0) Gray{N0f8}(0.0); … ; Gray{N0f8}(0.0) Gray{N0f8}(0.0) … Gray{N0f8}(0.0) Gray{N0f8}(0.0); Gray{N0f8}(0.0) Gray{N0f8}(0.0) … Gray{N0f8}(0.0) Gray{N0f8}(0.0)]\n",
       " [Gray{N0f8}(0.0) Gray{N0f8}(0.0) … Gray{N0f8}(0.0) Gray{N0f8}(0.0); Gray{N0f8}(0.0) Gray{N0f8}(0.0) … Gray{N0f8}(0.0) Gray{N0f8}(0.0); … ; Gray{N0f8}(0.0) Gray{N0f8}(0.0) … Gray{N0f8}(0.0) Gray{N0f8}(0.0); Gray{N0f8}(0.0) Gray{N0f8}(0.0) … Gray{N0f8}(0.0) Gray{N0f8}(0.0)]\n",
       " [Gray{N0f8}(0.0) Gray{N0f8}(0.0) … Gray{N0f8}(0.0) Gray{N0f8}(0.0); Gray{N0f8}(0.0) Gray{N0f8}(0.0) … Gray{N0f8}(0.0) Gray{N0f8}(0.0); … ; Gray{N0f8}(0.0) Gray{N0f8}(0.0) … Gray{N0f8}(0.0) Gray{N0f8}(0.0); Gray{N0f8}(0.0) Gray{N0f8}(0.0) … Gray{N0f8}(0.0) Gray{N0f8}(0.0)]\n",
       " [Gray{N0f8}(0.0) Gray{N0f8}(0.0) … Gray{N0f8}(0.0) Gray{N0f8}(0.0); Gray{N0f8}(0.0) Gray{N0f8}(0.0) … Gray{N0f8}(0.0) Gray{N0f8}(0.0); … ; Gray{N0f8}(0.0) Gray{N0f8}(0.0) … Gray{N0f8}(0.0) Gray{N0f8}(0.0); Gray{N0f8}(0.0) Gray{N0f8}(0.0) … Gray{N0f8}(0.0) Gray{N0f8}(0.0)]\n",
       " [Gray{N0f8}(0.0) Gray{N0f8}(0.0) … Gray{N0f8}(0.0) Gray{N0f8}(0.0); Gray{N0f8}(0.0) Gray{N0f8}(0.0) … Gray{N0f8}(0.0) Gray{N0f8}(0.0); … ; Gray{N0f8}(0.0) Gray{N0f8}(0.0) … Gray{N0f8}(0.0) Gray{N0f8}(0.0); Gray{N0f8}(0.0) Gray{N0f8}(0.0) … Gray{N0f8}(0.0) Gray{N0f8}(0.0)]"
      ]
     },
     "execution_count": 26,
     "metadata": {},
     "output_type": "execute_result"
    }
   ],
   "source": [
    "imgs = MNIST.images()\n",
    "labels = collect(onehotbatch(MNIST.labels(), 0:9)) |> gpu\n",
    "imgs[1:10]"
   ]
  },
  {
   "cell_type": "code",
   "execution_count": 4,
   "metadata": {},
   "outputs": [],
   "source": [
    "# Partition into batches of size 1,000\n",
    "train = [(gpu(cat(float.(imgs[i])...; dims=4)), labels[:,i])\n",
    "         for i in partition(1:60_000, 1000)]\n",
    "\n",
    "# Prepare test set (first 1,000 images)\n",
    "tX = gpu(cat(float.(MNIST.images(:test)[1:1000])...; dims=4))\n",
    "tY = gpu(onehotbatch(MNIST.labels(:test)[1:1000], 0:9));"
   ]
  },
  {
   "cell_type": "code",
   "execution_count": 9,
   "metadata": {},
   "outputs": [
    {
     "data": {
      "text/plain": [
       "loss (generic function with 1 method)"
      ]
     },
     "execution_count": 9,
     "metadata": {},
     "output_type": "execute_result"
    }
   ],
   "source": [
    "m = Chain(\n",
    "  Conv((2,2), 1=>16, relu),\n",
    "  x -> maxpool(x, (2,2)),\n",
    "  Conv((2,2), 16=>8, relu),\n",
    "  x -> maxpool(x, (2,2)),\n",
    "  x -> reshape(x, :, size(x, 4)),\n",
    "  Dense(288, 10), softmax)\n",
    "\n",
    "m = gpu(m)\n",
    "\n",
    "loss(x, y) = crossentropy(m(x), y)"
   ]
  },
  {
   "cell_type": "code",
   "execution_count": 10,
   "metadata": {},
   "outputs": [
    {
     "data": {
      "image/png": "[encoded data removed]",
      "text/plain": [
       "10×100 Array{Gray{Bool},2} with eltype Gray{Bool}:\n",
       " Gray{Bool}(false)  Gray{Bool}(true)   …  Gray{Bool}(false)\n",
       " Gray{Bool}(false)  Gray{Bool}(false)     Gray{Bool}(true) \n",
       " Gray{Bool}(false)  Gray{Bool}(false)     Gray{Bool}(false)\n",
       " Gray{Bool}(false)  Gray{Bool}(false)     Gray{Bool}(false)\n",
       " Gray{Bool}(false)  Gray{Bool}(false)     Gray{Bool}(false)\n",
       " Gray{Bool}(true)   Gray{Bool}(false)  …  Gray{Bool}(false)\n",
       " Gray{Bool}(false)  Gray{Bool}(false)     Gray{Bool}(false)\n",
       " Gray{Bool}(false)  Gray{Bool}(false)     Gray{Bool}(false)\n",
       " Gray{Bool}(false)  Gray{Bool}(false)     Gray{Bool}(false)\n",
       " Gray{Bool}(false)  Gray{Bool}(false)     Gray{Bool}(false)"
      ]
     },
     "execution_count": 10,
     "metadata": {},
     "output_type": "execute_result"
    }
   ],
   "source": [
    "Gray.(collect(labels[:,1:100]))"
   ]
  },
  {
   "cell_type": "code",
   "execution_count": 14,
   "metadata": {},
   "outputs": [
    {
     "data": {
      "image/png": "[encoded data removed]",
      "text/plain": [
       "10×100 Array{Gray{Float64},2} with eltype Gray{Float64}:\n",
       " Gray{Float64}(0.102847)   …  Gray{Float64}(0.0349257)\n",
       " Gray{Float64}(0.0605761)     Gray{Float64}(0.298497) \n",
       " Gray{Float64}(0.12917)       Gray{Float64}(0.0802531)\n",
       " Gray{Float64}(0.135473)      Gray{Float64}(0.095275) \n",
       " Gray{Float64}(0.0477844)     Gray{Float64}(0.0813601)\n",
       " Gray{Float64}(0.146816)   …  Gray{Float64}(0.0596892)\n",
       " Gray{Float64}(0.0617516)     Gray{Float64}(0.0691201)\n",
       " Gray{Float64}(0.126209)      Gray{Float64}(0.125583) \n",
       " Gray{Float64}(0.144553)      Gray{Float64}(0.0784477)\n",
       " Gray{Float64}(0.0448207)     Gray{Float64}(0.0768493)"
      ]
     },
     "execution_count": 14,
     "metadata": {},
     "output_type": "execute_result"
    }
   ],
   "source": [
    "Gray.(collect(m(train[1][1]).data)[:,1:100])"
   ]
  },
  {
   "cell_type": "code",
   "execution_count": 12,
   "metadata": {},
   "outputs": [
    {
     "data": {
      "text/plain": [
       "(::getfield(Flux, Symbol(\"#throttled#18\")){getfield(Flux, Symbol(\"##throttled#10#14\")){Bool,Bool,getfield(Main, Symbol(\"##23#24\")),Int64}}) (generic function with 1 method)"
      ]
     },
     "execution_count": 12,
     "metadata": {},
     "output_type": "execute_result"
    }
   ],
   "source": [
    "evalcb = throttle(5) do\n",
    "    display(Gray.(collect(m(train[1][1]).data)[:,1:100]))\n",
    "end"
   ]
  },
  {
   "cell_type": "code",
   "execution_count": 21,
   "metadata": {},
   "outputs": [
    {
     "data": {
      "image/png": "[encoded data removed]",
      "text/plain": [
       "10×100 Array{Gray{Float64},2} with eltype Gray{Float64}:\n",
       " Gray{Float64}(0.011582)    …  Gray{Float64}(0.000183004)\n",
       " Gray{Float64}(0.00139538)     Gray{Float64}(0.908005)   \n",
       " Gray{Float64}(0.0895714)      Gray{Float64}(0.0164627)  \n",
       " Gray{Float64}(0.255607)       Gray{Float64}(0.010276)   \n",
       " Gray{Float64}(0.00126738)     Gray{Float64}(0.00601498) \n",
       " Gray{Float64}(0.527345)    …  Gray{Float64}(0.00323045) \n",
       " Gray{Float64}(0.00388357)     Gray{Float64}(0.00355058) \n",
       " Gray{Float64}(0.032865)       Gray{Float64}(0.0367184)  \n",
       " Gray{Float64}(0.0751611)      Gray{Float64}(0.0059457)  \n",
       " Gray{Float64}(0.0013226)      Gray{Float64}(0.00961361) "
      ]
     },
     "metadata": {},
     "output_type": "display_data"
    },
    {
     "data": {
      "image/png": "[encoded data removed]",
      "text/plain": [
       "10×100 Array{Gray{Float64},2} with eltype Gray{Float64}:\n",
       " Gray{Float64}(0.0080704)    …  Gray{Float64}(6.93465e-5)\n",
       " Gray{Float64}(0.000799018)     Gray{Float64}(0.941431)  \n",
       " Gray{Float64}(0.0607904)       Gray{Float64}(0.00856353)\n",
       " Gray{Float64}(0.292981)        Gray{Float64}(0.00585116)\n",
       " Gray{Float64}(0.000687052)     Gray{Float64}(0.00322461)\n",
       " Gray{Float64}(0.503508)     …  Gray{Float64}(0.00127941)\n",
       " Gray{Float64}(0.00249702)      Gray{Float64}(0.00192483)\n",
       " Gray{Float64}(0.0310928)       Gray{Float64}(0.0283586) \n",
       " Gray{Float64}(0.098849)        Gray{Float64}(0.00389564)\n",
       " Gray{Float64}(0.000725648)     Gray{Float64}(0.00540227)"
      ]
     },
     "metadata": {},
     "output_type": "display_data"
    },
    {
     "data": {
      "image/png": "[encoded data removed]",
      "text/plain": [
       "10×100 Array{Gray{Float64},2} with eltype Gray{Float64}:\n",
       " Gray{Float64}(0.00435831)   …  Gray{Float64}(2.26811e-5) \n",
       " Gray{Float64}(0.000471646)     Gray{Float64}(0.97318)    \n",
       " Gray{Float64}(0.0454296)       Gray{Float64}(0.00490942) \n",
       " Gray{Float64}(0.304909)        Gray{Float64}(0.00316409) \n",
       " Gray{Float64}(0.000250521)     Gray{Float64}(0.00136655) \n",
       " Gray{Float64}(0.577562)     …  Gray{Float64}(0.000629714)\n",
       " Gray{Float64}(0.00131305)      Gray{Float64}(0.000873065)\n",
       " Gray{Float64}(0.0126671)       Gray{Float64}(0.0117734)  \n",
       " Gray{Float64}(0.0526643)       Gray{Float64}(0.00135686) \n",
       " Gray{Float64}(0.000374728)     Gray{Float64}(0.00272447) "
      ]
     },
     "metadata": {},
     "output_type": "display_data"
    },
    {
     "data": {
      "image/png": "[encoded data removed]",
      "text/plain": [
       "10×100 Array{Gray{Float64},2} with eltype Gray{Float64}:\n",
       " Gray{Float64}(0.00290053)   …  Gray{Float64}(9.66344e-6) \n",
       " Gray{Float64}(0.000272078)     Gray{Float64}(0.982481)   \n",
       " Gray{Float64}(0.0517928)       Gray{Float64}(0.00421566) \n",
       " Gray{Float64}(0.255217)        Gray{Float64}(0.00161357) \n",
       " Gray{Float64}(0.00021061)      Gray{Float64}(0.00117096) \n",
       " Gray{Float64}(0.631329)     …  Gray{Float64}(0.00030703) \n",
       " Gray{Float64}(0.000846983)     Gray{Float64}(0.000488099)\n",
       " Gray{Float64}(0.00800132)      Gray{Float64}(0.00735774) \n",
       " Gray{Float64}(0.0492204)       Gray{Float64}(0.000802584)\n",
       " Gray{Float64}(0.000209079)     Gray{Float64}(0.00155383) "
      ]
     },
     "metadata": {},
     "output_type": "display_data"
    },
    {
     "data": {
      "image/png": "[encoded data removed]",
      "text/plain": [
       "10×100 Array{Gray{Float64},2} with eltype Gray{Float64}:\n",
       " Gray{Float64}(0.00255331)   …  Gray{Float64}(1.2561e-5)  \n",
       " Gray{Float64}(7.2228e-5)       Gray{Float64}(0.968945)   \n",
       " Gray{Float64}(0.037863)        Gray{Float64}(0.00596223) \n",
       " Gray{Float64}(0.300346)        Gray{Float64}(0.00252249) \n",
       " Gray{Float64}(7.44204e-5)      Gray{Float64}(0.00115264) \n",
       " Gray{Float64}(0.6042)       …  Gray{Float64}(0.000295081)\n",
       " Gray{Float64}(0.000523822)     Gray{Float64}(0.000568012)\n",
       " Gray{Float64}(0.0115048)       Gray{Float64}(0.0176147)  \n",
       " Gray{Float64}(0.0427607)       Gray{Float64}(0.00113365) \n",
       " Gray{Float64}(0.000101877)     Gray{Float64}(0.00179401) "
      ]
     },
     "metadata": {},
     "output_type": "display_data"
    },
    {
     "data": {
      "image/png": "[encoded data removed]",
      "text/plain": [
       "10×100 Array{Gray{Float64},2} with eltype Gray{Float64}:\n",
       " Gray{Float64}(0.00191159)   …  Gray{Float64}(5.44659e-6) \n",
       " Gray{Float64}(9.86338e-5)      Gray{Float64}(0.98414)    \n",
       " Gray{Float64}(0.0321257)       Gray{Float64}(0.003312)   \n",
       " Gray{Float64}(0.367708)        Gray{Float64}(0.00151154) \n",
       " Gray{Float64}(5.94945e-5)      Gray{Float64}(0.000713103)\n",
       " Gray{Float64}(0.564492)     …  Gray{Float64}(0.000134041)\n",
       " Gray{Float64}(0.000596747)     Gray{Float64}(0.000375626)\n",
       " Gray{Float64}(0.00717995)      Gray{Float64}(0.00817172) \n",
       " Gray{Float64}(0.02572)         Gray{Float64}(0.000418023)\n",
       " Gray{Float64}(0.000108019)     Gray{Float64}(0.00121838) "
      ]
     },
     "metadata": {},
     "output_type": "display_data"
    },
    {
     "data": {
      "image/png": "[encoded data removed]",
      "text/plain": [
       "10×100 Array{Gray{Float64},2} with eltype Gray{Float64}:\n",
       " Gray{Float64}(0.0016433)    …  Gray{Float64}(4.34676e-6) \n",
       " Gray{Float64}(6.92161e-5)      Gray{Float64}(0.986026)   \n",
       " Gray{Float64}(0.0346247)       Gray{Float64}(0.00357998) \n",
       " Gray{Float64}(0.323088)        Gray{Float64}(0.00112787) \n",
       " Gray{Float64}(3.9682e-5)       Gray{Float64}(0.000584287)\n",
       " Gray{Float64}(0.597429)     …  Gray{Float64}(0.000100637)\n",
       " Gray{Float64}(0.000321683)     Gray{Float64}(0.000220601)\n",
       " Gray{Float64}(0.00559164)      Gray{Float64}(0.00703931) \n",
       " Gray{Float64}(0.0371354)       Gray{Float64}(0.000471062)\n",
       " Gray{Float64}(5.67848e-5)      Gray{Float64}(0.000846085)"
      ]
     },
     "metadata": {},
     "output_type": "display_data"
    },
    {
     "data": {
      "image/png": "[encoded data removed]",
      "text/plain": [
       "10×100 Array{Gray{Float64},2} with eltype Gray{Float64}:\n",
       " Gray{Float64}(0.000901156)  …  Gray{Float64}(3.64285e-6) \n",
       " Gray{Float64}(3.83142e-5)      Gray{Float64}(0.983341)   \n",
       " Gray{Float64}(0.0248468)       Gray{Float64}(0.00402273) \n",
       " Gray{Float64}(0.299443)        Gray{Float64}(0.00126593) \n",
       " Gray{Float64}(1.84562e-5)      Gray{Float64}(0.000516017)\n",
       " Gray{Float64}(0.650164)     …  Gray{Float64}(0.000113979)\n",
       " Gray{Float64}(0.000225764)     Gray{Float64}(0.000222427)\n",
       " Gray{Float64}(0.00509007)      Gray{Float64}(0.00928254) \n",
       " Gray{Float64}(0.019235)        Gray{Float64}(0.000375231)\n",
       " Gray{Float64}(3.70626e-5)      Gray{Float64}(0.000856746)"
      ]
     },
     "metadata": {},
     "output_type": "display_data"
    }
   ],
   "source": [
    "Flux.train!(loss, train, ADAM(params(m)), cb = evalcb)"
   ]
  },
  {
   "cell_type": "markdown",
   "metadata": {},
   "source": [
    "Test set accuracy."
   ]
  },
  {
   "cell_type": "code",
   "execution_count": 22,
   "metadata": {},
   "outputs": [
    {
     "data": {
      "text/plain": [
       "0.836"
      ]
     },
     "execution_count": 22,
     "metadata": {},
     "output_type": "execute_result"
    }
   ],
   "source": [
    "mean(onecold(m(tX)) .== onecold(tY))"
   ]
  },
  {
   "cell_type": "code",
   "execution_count": null,
   "metadata": {},
   "outputs": [],
   "source": []
  }
 ],
 "metadata": {
  "kernelspec": {
   "display_name": "Julia 1.0.0",
   "language": "julia",
   "name": "julia-1.0"
  },
  "language_info": {
   "file_extension": ".jl",
   "mimetype": "application/julia",
   "name": "julia",
   "version": "1.0.0"
  }
 },
 "nbformat": 4,
 "nbformat_minor": 2
}
