{
 "cells": [
  {
   "cell_type": "code",
   "execution_count": 2,
   "metadata": {},
   "outputs": [
    {
     "name": "stdout",
     "output_type": "stream",
     "text": [
      "\u001b[32m\u001b[1m  Updating\u001b[22m\u001b[39m registry at `~/.julia/registries/General`\n",
      "\u001b[32m\u001b[1m  Updating\u001b[22m\u001b[39m git-repo `https://github.com/JuliaRegistries/General.git`\n",
      "\u001b[2K\u001b[?25h[1mFetching:\u001b[22m\u001b[39m [========================================>]  100.0 %.0 %"
     ]
    },
    {
     "data": {
      "text/html": [
       "    <script class='js-collapse-script'>\n",
       "        var curMatch =\n",
       "            window.location.href\n",
       "            .match(/(.*?)\\/notebooks\\/.*\\.ipynb/);\n",
       "\n",
       "        curMatch = curMatch ||\n",
       "            window.location.href\n",
       "            .match(/(.*?)\\/apps\\/.*\\.ipynb/);\n",
       "\n",
       "        if ( curMatch ) {\n",
       "            $('head').append('<base href=\"' + curMatch[1] + '/\">');\n",
       "        }\n",
       "    </script>\n"
      ],
      "text/plain": [
       "HTML{String}(\"    <script class='js-collapse-script'>\\n        var curMatch =\\n            window.location.href\\n            .match(/(.*?)\\\\/notebooks\\\\/.*\\\\.ipynb/);\\n\\n        curMatch = curMatch ||\\n            window.location.href\\n            .match(/(.*?)\\\\/apps\\\\/.*\\\\.ipynb/);\\n\\n        if ( curMatch ) {\\n            \\$('head').append('<base href=\\\"' + curMatch[1] + '/\\\">');\\n        }\\n    </script>\\n\")"
      ]
     },
     "metadata": {},
     "output_type": "display_data"
    },
    {
     "data": {
      "text/html": [
       "<script class='js-collapse-script' src='/assetserver/51a259f5332d28582ebdae3acf84872b5676ad5d-assets/webio/dist/bundle.js'></script>"
      ],
      "text/plain": [
       "HTML{String}(\"<script class='js-collapse-script' src='/assetserver/51a259f5332d28582ebdae3acf84872b5676ad5d-assets/webio/dist/bundle.js'></script>\")"
      ]
     },
     "metadata": {},
     "output_type": "display_data"
    },
    {
     "data": {
      "text/html": [
       "<script class='js-collapse-script' src='/assetserver/51a259f5332d28582ebdae3acf84872b5676ad5d-assets/providers/ijulia_setup.js'></script>"
      ],
      "text/plain": [
       "HTML{String}(\"<script class='js-collapse-script' src='/assetserver/51a259f5332d28582ebdae3acf84872b5676ad5d-assets/providers/ijulia_setup.js'></script>\")"
      ]
     },
     "metadata": {},
     "output_type": "display_data"
    },
    {
     "data": {
      "text/html": [
       "  <script class='js-collapse-script'>\n",
       "    $('.js-collapse-script').parent('.output_subarea').css('padding', '0');\n",
       "  </script>\n"
      ],
      "text/plain": [
       "HTML{String}(\"  <script class='js-collapse-script'>\\n    \\$('.js-collapse-script').parent('.output_subarea').css('padding', '0');\\n  </script>\\n\")"
      ]
     },
     "metadata": {},
     "output_type": "display_data"
    }
   ],
   "source": [
    "# Use package versions builtin to this repository.\n",
    "import Pkg, Random\n",
    "Pkg.activate(@__DIR__)\n",
    "Pkg.instantiate()\n",
    "\n",
    "# Load Flux and PlotlyJS for sweet interactive graphics\n",
    "using Flux, PlotlyJS"
   ]
  },
  {
   "cell_type": "markdown",
   "metadata": {},
   "source": [
    "# Flux By Example: Differentiable Programming\n",
    "\n",
    "At the heart of Flux is the idea of \"differentiable programming\"; a technique that allows us to identify how a particular piece of a computation effects the end result.  As an example, we will build a polynomial approximator.  Any function can be approximated by a polynomial (some functions less successfully than others).  We will use differentiable programming to build polynomial approximations for a variety of functions within this notebook, explaining fundamental concepts of Flux as we do so.\n",
    "\n",
    "Mathematically, we define our polynomial function $f^{(N)}(x)$ as:\n",
    "\n",
    "$$\n",
    "    f^{(N)}(x) = \\sum_{i=1}^N \\left( x^{i-1} \\cdot w_i \\right)\n",
    "$$\n",
    "\n",
    "Where $x$ represents the (scalar) input to function $f$ and $w$ represents the internal coefficients of $f$.  The structure of the computation performed within $f$ is set; we know we will be calculating a polynomial.  However, there is great freedom in the choice of the values of $w$, which is what will give this equation its ability to approximate other functions.  As a first example, we will simply approximate the function $|x|$:"
   ]
  },
  {
   "cell_type": "code",
   "execution_count": 3,
   "metadata": {},
   "outputs": [
    {
     "data": {
      "text/html": [
       "<div class='display:none'></div><unsafe-script style='display:none'>\n",
       "WebIO.mount(this.previousSibling,{&quot;props&quot;:{},&quot;nodeType&quot;:&quot;Scope&quot;,&quot;type&quot;:&quot;node&quot;,&quot;instanceArgs&quot;:{&quot;imports&quot;:{&quot;data&quot;:[{&quot;name&quot;:&quot;Plotly&quot;,&quot;type&quot;:&quot;js&quot;,&quot;url&quot;:&quot;/assetserver/ca0d1d661ba20f29c3bcdb3136fc5e131d9ae531-plotly-latest.min.js&quot;},{&quot;name&quot;:null,&quot;type&quot;:&quot;js&quot;,&quot;url&quot;:&quot;/assetserver/df76365695a2e6ab133a286a764f9caca195cb05-plotly_webio.bundle.js&quot;}],&quot;type&quot;:&quot;async_block&quot;},&quot;id&quot;:&quot;scope-b5729ce7-df2c-411d-a7c2-6504bc0672d3&quot;,&quot;handlers&quot;:{&quot;_toImage&quot;:[(function (options){return this.Plotly.toImage(this.plotElem,options).then((function (data){return WebIO.setval({&quot;name&quot;:&quot;image&quot;,&quot;scope&quot;:&quot;scope-b5729ce7-df2c-411d-a7c2-6504bc0672d3&quot;,&quot;id&quot;:&quot;ob_05&quot;,&quot;type&quot;:&quot;observable&quot;},data)}))})],&quot;__get_gd_contents&quot;:[(function (prop){prop==&quot;data&quot; ? (WebIO.setval({&quot;name&quot;:&quot;__gd_contents&quot;,&quot;scope&quot;:&quot;scope-b5729ce7-df2c-411d-a7c2-6504bc0672d3&quot;,&quot;id&quot;:&quot;ob_06&quot;,&quot;type&quot;:&quot;observable&quot;},this.plotElem.data)) : undefined; return prop==&quot;layout&quot; ? (WebIO.setval({&quot;name&quot;:&quot;__gd_contents&quot;,&quot;scope&quot;:&quot;scope-b5729ce7-df2c-411d-a7c2-6504bc0672d3&quot;,&quot;id&quot;:&quot;ob_06&quot;,&quot;type&quot;:&quot;observable&quot;},this.plotElem.layout)) : undefined})],&quot;_promises&quot;:{&quot;importsLoaded&quot;:[(function (Plotly){var gd=this.dom.querySelector(&quot;#plot-cc792b92-99fb-48a7-a3fe-e7713dbcc65b&quot;); this.plotElem=gd; this.Plotly=Plotly; (window.Blink!==undefined) ? (gd.style.width=&quot;100%&quot;, gd.style.height=&quot;100vh&quot;, gd.style.marginLeft=&quot;0%&quot;, gd.style.marginTop=&quot;0vh&quot;) : undefined; window.onresize=(function (){return Plotly.Plots.resize(gd)}); Plotly.newPlot(gd,[{&quot;y&quot;:[10.0,9.9,9.8,9.7,9.6,9.5,9.4,9.3,9.2,9.1,9.0,8.9,8.8,8.7,8.6,8.5,8.4,8.3,8.2,8.1,8.0,7.9,7.8,7.7,7.6,7.5,7.4,7.3,7.2,7.1,7.0,6.9,6.8,6.7,6.6,6.5,6.4,6.3,6.2,6.1,6.0,5.9,5.8,5.7,5.6,5.5,5.4,5.3,5.2,5.1,5.0,4.9,4.8,4.7,4.6,4.5,4.4,4.3,4.2,4.1,4.0,3.9,3.8,3.7,3.6,3.5,3.4,3.3,3.2,3.1,3.0,2.9,2.8,2.7,2.6,2.5,2.4,2.3,2.2,2.1,2.0,1.9,1.8,1.7,1.6,1.5,1.4,1.3,1.2,1.1,1.0,0.9,0.8,0.7,0.6,0.5,0.4,0.3,0.2,0.1,0.0,0.1,0.2,0.3,0.4,0.5,0.6,0.7,0.8,0.9,1.0,1.1,1.2,1.3,1.4,1.5,1.6,1.7,1.8,1.9,2.0,2.1,2.2,2.3,2.4,2.5,2.6,2.7,2.8,2.9,3.0,3.1,3.2,3.3,3.4,3.5,3.6,3.7,3.8,3.9,4.0,4.1,4.2,4.3,4.4,4.5,4.6,4.7,4.8,4.9,5.0,5.1,5.2,5.3,5.4,5.5,5.6,5.7,5.8,5.9,6.0,6.1,6.2,6.3,6.4,6.5,6.6,6.7,6.8,6.9,7.0,7.1,7.2,7.3,7.4,7.5,7.6,7.7,7.8,7.9,8.0,8.1,8.2,8.3,8.4,8.5,8.6,8.7,8.8,8.9,9.0,9.1,9.2,9.3,9.4,9.5,9.6,9.7,9.8,9.9,10.0],&quot;type&quot;:&quot;scatter&quot;,&quot;name&quot;:&quot;|x|&quot;,&quot;x&quot;:[-10.0,-9.9,-9.8,-9.7,-9.6,-9.5,-9.4,-9.3,-9.2,-9.1,-9.0,-8.9,-8.8,-8.7,-8.6,-8.5,-8.4,-8.3,-8.2,-8.1,-8.0,-7.9,-7.8,-7.7,-7.6,-7.5,-7.4,-7.3,-7.2,-7.1,-7.0,-6.9,-6.8,-6.7,-6.6,-6.5,-6.4,-6.3,-6.2,-6.1,-6.0,-5.9,-5.8,-5.7,-5.6,-5.5,-5.4,-5.3,-5.2,-5.1,-5.0,-4.9,-4.8,-4.7,-4.6,-4.5,-4.4,-4.3,-4.2,-4.1,-4.0,-3.9,-3.8,-3.7,-3.6,-3.5,-3.4,-3.3,-3.2,-3.1,-3.0,-2.9,-2.8,-2.7,-2.6,-2.5,-2.4,-2.3,-2.2,-2.1,-2.0,-1.9,-1.8,-1.7,-1.6,-1.5,-1.4,-1.3,-1.2,-1.1,-1.0,-0.9,-0.8,-0.7,-0.6,-0.5,-0.4,-0.3,-0.2,-0.1,0.0,0.1,0.2,0.3,0.4,0.5,0.6,0.7,0.8,0.9,1.0,1.1,1.2,1.3,1.4,1.5,1.6,1.7,1.8,1.9,2.0,2.1,2.2,2.3,2.4,2.5,2.6,2.7,2.8,2.9,3.0,3.1,3.2,3.3,3.4,3.5,3.6,3.7,3.8,3.9,4.0,4.1,4.2,4.3,4.4,4.5,4.6,4.7,4.8,4.9,5.0,5.1,5.2,5.3,5.4,5.5,5.6,5.7,5.8,5.9,6.0,6.1,6.2,6.3,6.4,6.5,6.6,6.7,6.8,6.9,7.0,7.1,7.2,7.3,7.4,7.5,7.6,7.7,7.8,7.9,8.0,8.1,8.2,8.3,8.4,8.5,8.6,8.7,8.8,8.9,9.0,9.1,9.2,9.3,9.4,9.5,9.6,9.7,9.8,9.9,10.0]}],{&quot;margin&quot;:{&quot;l&quot;:50,&quot;b&quot;:50,&quot;r&quot;:50,&quot;t&quot;:60}},{}); gd.on(&quot;plotly_hover&quot;,(function (data){var filtered_data=WebIO.CommandSets.Plotly.filterEventData(gd,data,&quot;hover&quot;); return !(filtered_data.isnil) ? (WebIO.setval({&quot;name&quot;:&quot;hover&quot;,&quot;scope&quot;:&quot;scope-b5729ce7-df2c-411d-a7c2-6504bc0672d3&quot;,&quot;id&quot;:&quot;ob_01&quot;,&quot;type&quot;:&quot;observable&quot;},filtered_data.out)) : undefined})); gd.on(&quot;plotly_unhover&quot;,(function (){return WebIO.setval({&quot;name&quot;:&quot;hover&quot;,&quot;scope&quot;:&quot;scope-b5729ce7-df2c-411d-a7c2-6504bc0672d3&quot;,&quot;id&quot;:&quot;ob_01&quot;,&quot;type&quot;:&quot;observable&quot;},{})})); gd.on(&quot;plotly_selected&quot;,(function (data){var filtered_data=WebIO.CommandSets.Plotly.filterEventData(gd,data,&quot;selected&quot;); return !(filtered_data.isnil) ? (WebIO.setval({&quot;name&quot;:&quot;selected&quot;,&quot;scope&quot;:&quot;scope-b5729ce7-df2c-411d-a7c2-6504bc0672d3&quot;,&quot;id&quot;:&quot;ob_02&quot;,&quot;type&quot;:&quot;observable&quot;},filtered_data.out)) : undefined})); gd.on(&quot;plotly_deselect&quot;,(function (){return WebIO.setval({&quot;name&quot;:&quot;selected&quot;,&quot;scope&quot;:&quot;scope-b5729ce7-df2c-411d-a7c2-6504bc0672d3&quot;,&quot;id&quot;:&quot;ob_02&quot;,&quot;type&quot;:&quot;observable&quot;},{})})); gd.on(&quot;plotly_relayout&quot;,(function (data){var filtered_data=WebIO.CommandSets.Plotly.filterEventData(gd,data,&quot;relayout&quot;); return !(filtered_data.isnil) ? (WebIO.setval({&quot;name&quot;:&quot;relayout&quot;,&quot;scope&quot;:&quot;scope-b5729ce7-df2c-411d-a7c2-6504bc0672d3&quot;,&quot;id&quot;:&quot;ob_04&quot;,&quot;type&quot;:&quot;observable&quot;},filtered_data.out)) : undefined})); return gd.on(&quot;plotly_click&quot;,(function (data){var filtered_data=WebIO.CommandSets.Plotly.filterEventData(gd,data,&quot;click&quot;); return !(filtered_data.isnil) ? (WebIO.setval({&quot;name&quot;:&quot;click&quot;,&quot;scope&quot;:&quot;scope-b5729ce7-df2c-411d-a7c2-6504bc0672d3&quot;,&quot;id&quot;:&quot;ob_03&quot;,&quot;type&quot;:&quot;observable&quot;},filtered_data.out)) : undefined}))})]},&quot;_downloadImage&quot;:[(function (options){return this.Plotly.downloadImage(this.plotElem,options)})],&quot;_commands&quot;:[(function (args){var fn=args.shift(); var elem=this.plotElem; var Plotly=this.Plotly; args.unshift(elem); return Plotly[fn].apply(this,args)})]},&quot;systemjs_options&quot;:null,&quot;observables&quot;:{&quot;_toImage&quot;:{&quot;sync&quot;:false,&quot;id&quot;:&quot;ob_08&quot;,&quot;value&quot;:{}},&quot;hover&quot;:{&quot;sync&quot;:false,&quot;id&quot;:&quot;ob_01&quot;,&quot;value&quot;:{}},&quot;selected&quot;:{&quot;sync&quot;:false,&quot;id&quot;:&quot;ob_02&quot;,&quot;value&quot;:{}},&quot;__gd_contents&quot;:{&quot;sync&quot;:false,&quot;id&quot;:&quot;ob_06&quot;,&quot;value&quot;:{}},&quot;click&quot;:{&quot;sync&quot;:false,&quot;id&quot;:&quot;ob_03&quot;,&quot;value&quot;:{}},&quot;image&quot;:{&quot;sync&quot;:true,&quot;id&quot;:&quot;ob_05&quot;,&quot;value&quot;:&quot;&quot;},&quot;__get_gd_contents&quot;:{&quot;sync&quot;:false,&quot;id&quot;:&quot;ob_10&quot;,&quot;value&quot;:&quot;&quot;},&quot;_downloadImage&quot;:{&quot;sync&quot;:false,&quot;id&quot;:&quot;ob_09&quot;,&quot;value&quot;:{}},&quot;relayout&quot;:{&quot;sync&quot;:false,&quot;id&quot;:&quot;ob_04&quot;,&quot;value&quot;:{}},&quot;_commands&quot;:{&quot;sync&quot;:false,&quot;id&quot;:&quot;ob_07&quot;,&quot;value&quot;:[]}}},&quot;children&quot;:[{&quot;props&quot;:{&quot;id&quot;:&quot;plot-cc792b92-99fb-48a7-a3fe-e7713dbcc65b&quot;},&quot;nodeType&quot;:&quot;DOM&quot;,&quot;type&quot;:&quot;node&quot;,&quot;instanceArgs&quot;:{&quot;namespace&quot;:&quot;html&quot;,&quot;tag&quot;:&quot;div&quot;},&quot;children&quot;:[]}]})</unsafe-script>"
      ],
      "text/plain": [
       "data: [\n",
       "  \"scatter with fields name, type, x, and y\"\n",
       "]\n",
       "\n",
       "layout: \"layout with field margin\"\n",
       "\n"
      ]
     },
     "execution_count": 3,
     "metadata": {},
     "output_type": "execute_result"
    }
   ],
   "source": [
    "x = collect(-10:.1:10)\n",
    "plot([\n",
    "    scatter(;x=x, y=abs.(x), name=\"|x|\"),\n",
    "])"
   ]
  },
  {
   "cell_type": "markdown",
   "metadata": {},
   "source": [
    "We will arbitrarily define `f(x)` to be of order 3 for now, and we will initialize the coefficients `w` randomly:"
   ]
  },
  {
   "cell_type": "code",
   "execution_count": 27,
   "metadata": {},
   "outputs": [
    {
     "data": {
      "text/plain": [
       "f (generic function with 1 method)"
      ]
     },
     "execution_count": 27,
     "metadata": {},
     "output_type": "execute_result"
    }
   ],
   "source": [
    "# Get predictable random numbers for the sake of notebook reliability\n",
    "Random.seed!(3)\n",
    "\n",
    "# Initialize `w` as three (small) random numbers:\n",
    "w = randn(3)\n",
    "\n",
    "# Define f(x):\n",
    "f(x) = sum([x^(i-1) .* w[i] for i in 1:3])"
   ]
  },
  {
   "cell_type": "markdown",
   "metadata": {},
   "source": [
    "Excellent.  Let's plot it and see how we're doing:"
   ]
  },
  {
   "cell_type": "code",
   "execution_count": 50,
   "metadata": {},
   "outputs": [
    {
     "data": {
      "text/html": [
       "<div class='display:none'></div><unsafe-script style='display:none'>\n",
       "WebIO.mount(this.previousSibling,{&quot;props&quot;:{},&quot;nodeType&quot;:&quot;Scope&quot;,&quot;type&quot;:&quot;node&quot;,&quot;instanceArgs&quot;:{&quot;imports&quot;:{&quot;data&quot;:[{&quot;name&quot;:&quot;Plotly&quot;,&quot;type&quot;:&quot;js&quot;,&quot;url&quot;:&quot;/assetserver/ca0d1d661ba20f29c3bcdb3136fc5e131d9ae531-plotly-latest.min.js&quot;},{&quot;name&quot;:null,&quot;type&quot;:&quot;js&quot;,&quot;url&quot;:&quot;/assetserver/df76365695a2e6ab133a286a764f9caca195cb05-plotly_webio.bundle.js&quot;}],&quot;type&quot;:&quot;async_block&quot;},&quot;id&quot;:&quot;scope-e292e552-b764-47c6-a660-6472acc9d0da&quot;,&quot;handlers&quot;:{&quot;_toImage&quot;:[(function (options){return this.Plotly.toImage(this.plotElem,options).then((function (data){return WebIO.setval({&quot;name&quot;:&quot;image&quot;,&quot;scope&quot;:&quot;scope-e292e552-b764-47c6-a660-6472acc9d0da&quot;,&quot;id&quot;:&quot;ob_305&quot;,&quot;type&quot;:&quot;observable&quot;},data)}))})],&quot;__get_gd_contents&quot;:[(function (prop){prop==&quot;data&quot; ? (WebIO.setval({&quot;name&quot;:&quot;__gd_contents&quot;,&quot;scope&quot;:&quot;scope-e292e552-b764-47c6-a660-6472acc9d0da&quot;,&quot;id&quot;:&quot;ob_306&quot;,&quot;type&quot;:&quot;observable&quot;},this.plotElem.data)) : undefined; return prop==&quot;layout&quot; ? (WebIO.setval({&quot;name&quot;:&quot;__gd_contents&quot;,&quot;scope&quot;:&quot;scope-e292e552-b764-47c6-a660-6472acc9d0da&quot;,&quot;id&quot;:&quot;ob_306&quot;,&quot;type&quot;:&quot;observable&quot;},this.plotElem.layout)) : undefined})],&quot;_promises&quot;:{&quot;importsLoaded&quot;:[(function (Plotly){var gd=this.dom.querySelector(&quot;#plot-fae5e39e-7781-401b-9e7c-45aa24186d77&quot;); this.plotElem=gd; this.Plotly=Plotly; (window.Blink!==undefined) ? (gd.style.width=&quot;100%&quot;, gd.style.height=&quot;100vh&quot;, gd.style.marginLeft=&quot;0%&quot;, gd.style.marginTop=&quot;0vh&quot;) : undefined; window.onresize=(function (){return Plotly.Plots.resize(gd)}); Plotly.newPlot(gd,[{&quot;y&quot;:[10.0,9.9,9.8,9.7,9.6,9.5,9.4,9.3,9.2,9.1,9.0,8.9,8.8,8.7,8.6,8.5,8.4,8.3,8.2,8.1,8.0,7.9,7.8,7.7,7.6,7.5,7.4,7.3,7.2,7.1,7.0,6.9,6.8,6.7,6.6,6.5,6.4,6.3,6.2,6.1,6.0,5.9,5.8,5.7,5.6,5.5,5.4,5.3,5.2,5.1,5.0,4.9,4.8,4.7,4.6,4.5,4.4,4.3,4.2,4.1,4.0,3.9,3.8,3.7,3.6,3.5,3.4,3.3,3.2,3.1,3.0,2.9,2.8,2.7,2.6,2.5,2.4,2.3,2.2,2.1,2.0,1.9,1.8,1.7,1.6,1.5,1.4,1.3,1.2,1.1,1.0,0.9,0.8,0.7,0.6,0.5,0.4,0.3,0.2,0.1,0.0,0.1,0.2,0.3,0.4,0.5,0.6,0.7,0.8,0.9,1.0,1.1,1.2,1.3,1.4,1.5,1.6,1.7,1.8,1.9,2.0,2.1,2.2,2.3,2.4,2.5,2.6,2.7,2.8,2.9,3.0,3.1,3.2,3.3,3.4,3.5,3.6,3.7,3.8,3.9,4.0,4.1,4.2,4.3,4.4,4.5,4.6,4.7,4.8,4.9,5.0,5.1,5.2,5.3,5.4,5.5,5.6,5.7,5.8,5.9,6.0,6.1,6.2,6.3,6.4,6.5,6.6,6.7,6.8,6.9,7.0,7.1,7.2,7.3,7.4,7.5,7.6,7.7,7.8,7.9,8.0,8.1,8.2,8.3,8.4,8.5,8.6,8.7,8.8,8.9,9.0,9.1,9.2,9.3,9.4,9.5,9.6,9.7,9.8,9.9,10.0],&quot;type&quot;:&quot;scatter&quot;,&quot;name&quot;:&quot;|x|&quot;,&quot;x&quot;:[-10.0,-9.9,-9.8,-9.7,-9.6,-9.5,-9.4,-9.3,-9.2,-9.1,-9.0,-8.9,-8.8,-8.7,-8.6,-8.5,-8.4,-8.3,-8.2,-8.1,-8.0,-7.9,-7.8,-7.7,-7.6,-7.5,-7.4,-7.3,-7.2,-7.1,-7.0,-6.9,-6.8,-6.7,-6.6,-6.5,-6.4,-6.3,-6.2,-6.1,-6.0,-5.9,-5.8,-5.7,-5.6,-5.5,-5.4,-5.3,-5.2,-5.1,-5.0,-4.9,-4.8,-4.7,-4.6,-4.5,-4.4,-4.3,-4.2,-4.1,-4.0,-3.9,-3.8,-3.7,-3.6,-3.5,-3.4,-3.3,-3.2,-3.1,-3.0,-2.9,-2.8,-2.7,-2.6,-2.5,-2.4,-2.3,-2.2,-2.1,-2.0,-1.9,-1.8,-1.7,-1.6,-1.5,-1.4,-1.3,-1.2,-1.1,-1.0,-0.9,-0.8,-0.7,-0.6,-0.5,-0.4,-0.3,-0.2,-0.1,0.0,0.1,0.2,0.3,0.4,0.5,0.6,0.7,0.8,0.9,1.0,1.1,1.2,1.3,1.4,1.5,1.6,1.7,1.8,1.9,2.0,2.1,2.2,2.3,2.4,2.5,2.6,2.7,2.8,2.9,3.0,3.1,3.2,3.3,3.4,3.5,3.6,3.7,3.8,3.9,4.0,4.1,4.2,4.3,4.4,4.5,4.6,4.7,4.8,4.9,5.0,5.1,5.2,5.3,5.4,5.5,5.6,5.7,5.8,5.9,6.0,6.1,6.2,6.3,6.4,6.5,6.6,6.7,6.8,6.9,7.0,7.1,7.2,7.3,7.4,7.5,7.6,7.7,7.8,7.9,8.0,8.1,8.2,8.3,8.4,8.5,8.6,8.7,8.8,8.9,9.0,9.1,9.2,9.3,9.4,9.5,9.6,9.7,9.8,9.9,10.0]},{&quot;y&quot;:[233.86986419937142,229.48901943732542,225.14967087079032,220.85181849976595,216.5954623242525,212.38060234424987,208.2072385597581,204.07537097077716,199.984999577307,195.93612437934775,191.92874537689934,187.96286256996177,184.03847595853503,180.15558554261906,176.31419132221401,172.5142932973198,168.7558914679364,165.03898583406388,161.36357639570213,157.72966315285126,154.13724610551122,150.58632525368205,147.07690059736368,143.6089721365562,140.18253987125948,136.79760380147366,133.45416392719866,130.1522202484345,126.8917727651812,123.6728214774387,120.49536638520708,117.35940748848628,114.2649447872763,111.2119782815772,108.2005079713889,105.23053385671147,102.30205593754489,99.4150742138891,96.5695886857442,93.76559935311009,91.00310621598686,88.28210927437446,85.6026085282729,82.96460397768217,80.36809562260227,77.81308346303324,75.29956749897504,72.82754773042765,70.39702415739114,68.00799677986545,65.6604655978506,63.3544306113466,61.08989182035342,58.8668492248711,56.685302824899594,54.54525262043896,52.446698611489154,50.389640798050166,48.374079180122045,46.40001375770474,44.467444530798296,42.576371499402676,40.72679466351791,38.91871402314398,37.15212957828088,35.427041328928624,33.7434492750872,32.10135341675662,30.5007537539369,28.941650286627997,27.42404301482994,25.947931938542723,24.513317057766336,23.120198372500802,21.768575882746106,20.45844958850224,19.18981948976922,17.96268558654704,16.777047878835702,15.632906366635197,14.530261049945533,13.46911192876671,12.449459003098728,11.471302272941582,10.53464173829528,9.639477399159812,8.785809255535186,7.973637307421402,7.2029615548184545,6.473781997726348,5.786098636145081,5.139911470074653,4.535220499515065,3.972025724466315,3.4503271449284054,2.970124760901336,2.531418572385105,2.1342085793797145,1.778494781885163,1.4642771799014511,1.1915557734285787,0.9603305624665457,0.7706015470153524,0.6223687270749987,0.5156321026454842,0.45039167372680944,0.4266474403189743,0.4443994024219782,0.5036475600358221,0.6043919131605053,0.746632461796028,0.9303692059423905,1.1556021455995924,1.4223312807676338,1.7305566114465134,2.0802781376362343,2.471495859336795,2.904209776548193,3.378419889270433,3.894126197503511,4.451328701247428,5.050027400502186,5.690222295267784,6.371913385544218,7.095100671331496,7.8597841526296115,8.665963829438567,9.513639701758361,10.402811769588991,11.333480032930469,12.30564449178278,13.319305146145934,14.37446199601993,15.471115041404754,16.609264282300426,17.78890971870694,19.01005135062429,20.27268917805248,21.576823200991505,22.922453419441375,24.309579833402083,25.738202442873632,27.20832124785602,28.719936248349246,30.273047444353317,31.86765483586822,33.50375842289396,35.181358205430556,36.900454183477976,38.66104635703624,40.463134726105345,42.30671929068528,44.191800050776074,46.118377006377685,48.086450157490155,50.09601950411345,52.147085046247575,54.239646783892574,56.37370471704839,58.54925884571505,60.766309169892544,63.02485568958087,65.32489840478007,67.66643731549007,70.04947242171096,72.47400372344264,74.94003122068516,77.44755491343855,79.99657480170275,82.58709088547782,85.21910316476371,87.89261163956043,90.60761630986802,93.36411717568642,96.16211423701569,99.00160749385576,101.88259694620669,104.80508259406848,107.76906443744106,110.77454247632454,113.82151671071881,116.90998714062394,120.0399537660399,123.21141658696675,126.42437560340437,129.67883081535285,132.97478222281217,136.3122298257823,139.69117362426337,143.1116136182552,146.57354980775787,150.07698219277137,153.62191077329572,157.20833554933097,160.83625652087701,164.50567368793386,168.2165870505016,171.96899660858014,175.7629023621696,179.5983043112698,183.4752024558809],&quot;type&quot;:&quot;scatter&quot;,&quot;name&quot;:&quot;f(x)&quot;,&quot;x&quot;:[-10.0,-9.9,-9.8,-9.7,-9.6,-9.5,-9.4,-9.3,-9.2,-9.1,-9.0,-8.9,-8.8,-8.7,-8.6,-8.5,-8.4,-8.3,-8.2,-8.1,-8.0,-7.9,-7.8,-7.7,-7.6,-7.5,-7.4,-7.3,-7.2,-7.1,-7.0,-6.9,-6.8,-6.7,-6.6,-6.5,-6.4,-6.3,-6.2,-6.1,-6.0,-5.9,-5.8,-5.7,-5.6,-5.5,-5.4,-5.3,-5.2,-5.1,-5.0,-4.9,-4.8,-4.7,-4.6,-4.5,-4.4,-4.3,-4.2,-4.1,-4.0,-3.9,-3.8,-3.7,-3.6,-3.5,-3.4,-3.3,-3.2,-3.1,-3.0,-2.9,-2.8,-2.7,-2.6,-2.5,-2.4,-2.3,-2.2,-2.1,-2.0,-1.9,-1.8,-1.7,-1.6,-1.5,-1.4,-1.3,-1.2,-1.1,-1.0,-0.9,-0.8,-0.7,-0.6,-0.5,-0.4,-0.3,-0.2,-0.1,0.0,0.1,0.2,0.3,0.4,0.5,0.6,0.7,0.8,0.9,1.0,1.1,1.2,1.3,1.4,1.5,1.6,1.7,1.8,1.9,2.0,2.1,2.2,2.3,2.4,2.5,2.6,2.7,2.8,2.9,3.0,3.1,3.2,3.3,3.4,3.5,3.6,3.7,3.8,3.9,4.0,4.1,4.2,4.3,4.4,4.5,4.6,4.7,4.8,4.9,5.0,5.1,5.2,5.3,5.4,5.5,5.6,5.7,5.8,5.9,6.0,6.1,6.2,6.3,6.4,6.5,6.6,6.7,6.8,6.9,7.0,7.1,7.2,7.3,7.4,7.5,7.6,7.7,7.8,7.9,8.0,8.1,8.2,8.3,8.4,8.5,8.6,8.7,8.8,8.9,9.0,9.1,9.2,9.3,9.4,9.5,9.6,9.7,9.8,9.9,10.0]}],{&quot;margin&quot;:{&quot;l&quot;:50,&quot;b&quot;:50,&quot;r&quot;:50,&quot;t&quot;:60}},{}); gd.on(&quot;plotly_hover&quot;,(function (data){var filtered_data=WebIO.CommandSets.Plotly.filterEventData(gd,data,&quot;hover&quot;); return !(filtered_data.isnil) ? (WebIO.setval({&quot;name&quot;:&quot;hover&quot;,&quot;scope&quot;:&quot;scope-e292e552-b764-47c6-a660-6472acc9d0da&quot;,&quot;id&quot;:&quot;ob_301&quot;,&quot;type&quot;:&quot;observable&quot;},filtered_data.out)) : undefined})); gd.on(&quot;plotly_unhover&quot;,(function (){return WebIO.setval({&quot;name&quot;:&quot;hover&quot;,&quot;scope&quot;:&quot;scope-e292e552-b764-47c6-a660-6472acc9d0da&quot;,&quot;id&quot;:&quot;ob_301&quot;,&quot;type&quot;:&quot;observable&quot;},{})})); gd.on(&quot;plotly_selected&quot;,(function (data){var filtered_data=WebIO.CommandSets.Plotly.filterEventData(gd,data,&quot;selected&quot;); return !(filtered_data.isnil) ? (WebIO.setval({&quot;name&quot;:&quot;selected&quot;,&quot;scope&quot;:&quot;scope-e292e552-b764-47c6-a660-6472acc9d0da&quot;,&quot;id&quot;:&quot;ob_302&quot;,&quot;type&quot;:&quot;observable&quot;},filtered_data.out)) : undefined})); gd.on(&quot;plotly_deselect&quot;,(function (){return WebIO.setval({&quot;name&quot;:&quot;selected&quot;,&quot;scope&quot;:&quot;scope-e292e552-b764-47c6-a660-6472acc9d0da&quot;,&quot;id&quot;:&quot;ob_302&quot;,&quot;type&quot;:&quot;observable&quot;},{})})); gd.on(&quot;plotly_relayout&quot;,(function (data){var filtered_data=WebIO.CommandSets.Plotly.filterEventData(gd,data,&quot;relayout&quot;); return !(filtered_data.isnil) ? (WebIO.setval({&quot;name&quot;:&quot;relayout&quot;,&quot;scope&quot;:&quot;scope-e292e552-b764-47c6-a660-6472acc9d0da&quot;,&quot;id&quot;:&quot;ob_304&quot;,&quot;type&quot;:&quot;observable&quot;},filtered_data.out)) : undefined})); return gd.on(&quot;plotly_click&quot;,(function (data){var filtered_data=WebIO.CommandSets.Plotly.filterEventData(gd,data,&quot;click&quot;); return !(filtered_data.isnil) ? (WebIO.setval({&quot;name&quot;:&quot;click&quot;,&quot;scope&quot;:&quot;scope-e292e552-b764-47c6-a660-6472acc9d0da&quot;,&quot;id&quot;:&quot;ob_303&quot;,&quot;type&quot;:&quot;observable&quot;},filtered_data.out)) : undefined}))})]},&quot;_downloadImage&quot;:[(function (options){return this.Plotly.downloadImage(this.plotElem,options)})],&quot;_commands&quot;:[(function (args){var fn=args.shift(); var elem=this.plotElem; var Plotly=this.Plotly; args.unshift(elem); return Plotly[fn].apply(this,args)})]},&quot;systemjs_options&quot;:null,&quot;observables&quot;:{&quot;_toImage&quot;:{&quot;sync&quot;:false,&quot;id&quot;:&quot;ob_308&quot;,&quot;value&quot;:{}},&quot;hover&quot;:{&quot;sync&quot;:false,&quot;id&quot;:&quot;ob_301&quot;,&quot;value&quot;:{}},&quot;selected&quot;:{&quot;sync&quot;:false,&quot;id&quot;:&quot;ob_302&quot;,&quot;value&quot;:{}},&quot;__gd_contents&quot;:{&quot;sync&quot;:false,&quot;id&quot;:&quot;ob_306&quot;,&quot;value&quot;:{}},&quot;click&quot;:{&quot;sync&quot;:false,&quot;id&quot;:&quot;ob_303&quot;,&quot;value&quot;:{}},&quot;image&quot;:{&quot;sync&quot;:true,&quot;id&quot;:&quot;ob_305&quot;,&quot;value&quot;:&quot;&quot;},&quot;__get_gd_contents&quot;:{&quot;sync&quot;:false,&quot;id&quot;:&quot;ob_310&quot;,&quot;value&quot;:&quot;&quot;},&quot;_downloadImage&quot;:{&quot;sync&quot;:false,&quot;id&quot;:&quot;ob_309&quot;,&quot;value&quot;:{}},&quot;relayout&quot;:{&quot;sync&quot;:false,&quot;id&quot;:&quot;ob_304&quot;,&quot;value&quot;:{}},&quot;_commands&quot;:{&quot;sync&quot;:false,&quot;id&quot;:&quot;ob_307&quot;,&quot;value&quot;:[]}}},&quot;children&quot;:[{&quot;props&quot;:{&quot;id&quot;:&quot;plot-fae5e39e-7781-401b-9e7c-45aa24186d77&quot;},&quot;nodeType&quot;:&quot;DOM&quot;,&quot;type&quot;:&quot;node&quot;,&quot;instanceArgs&quot;:{&quot;namespace&quot;:&quot;html&quot;,&quot;tag&quot;:&quot;div&quot;},&quot;children&quot;:[]}]})</unsafe-script>"
      ],
      "text/plain": [
       "data: [\n",
       "  \"scatter with fields name, type, x, and y\",\n",
       "  \"scatter with fields name, type, x, and y\"\n",
       "]\n",
       "\n",
       "layout: \"layout with field margin\"\n",
       "\n"
      ]
     },
     "execution_count": 50,
     "metadata": {},
     "output_type": "execute_result"
    }
   ],
   "source": [
    "plot([\n",
    "    scatter(;x=x, y=abs.(x), name=\"|x|\"),\n",
    "    scatter(;x=x, y=f.(x), name=\"f(x)\"),\n",
    "])"
   ]
  },
  {
   "cell_type": "markdown",
   "metadata": {},
   "source": [
    "A very poor approximation indeed.  The question now becomes, \"how do I tweak $w$ such that $f(x)$ becomes more similar to $|x|$\"?  This is the question that differentiable programming answers.  We take the gradient of $f(x)$ with respect to $w$, then use that to nudge $f(x)$ closer to $|x|$.\n",
    "\n",
    "To do so, we will define the following equivalencies:\n",
    "\n",
    "$$\n",
    "    y = |x|\n",
    "$$\n",
    "\n",
    "$$\n",
    "    \\hat{y} = f(x)\n",
    "$$\n",
    "\n",
    "And we will mathematically define our problem as an optimizaiton problem; searching for the set of $w$ parameters that best minimizes the difference between $y$ and $\\hat{y}$, with respect to the $\\ell_2$ norm.\n",
    "\n",
    "$$\n",
    "    \\underset{w}{\\text{minimize}} \\,\\, \\big\\|y - \\hat{y} \\big\\|_2\n",
    "$$\n",
    "\n",
    "This is, of course, equivalent to:\n",
    "$$\n",
    "    \\underset{w}{\\text{minimize}} \\,\\, \\left\\||x| - \\sum_{i=1}^N \\left( x^{i-1} \\cdot w_i \\right) \\right\\|_2\n",
    "$$\n",
    "\n",
    "To discover how best to change $w$ to get a better result, we will therefore first calculate a $\\hat{y}$ using our current values of $w$, compare them to the true $y$, use that difference to determine how $w$ should change, then update our $w$ values and do the whole thing again.  This is our training loop, and will form the basis of how we interact with the parameters of our function $f(x)$.\n",
    "\n",
    "In order for `Flux` to know that $w$ is the part of our function $f(x)$ that should be changed, we must wrap $w$ with the `param()` function.  We do so, and use it within a separate `f_tracked` function to illustrate the slight difference in output datatype between `f(x)` and `f_tracked(x)`:"
   ]
  },
  {
   "cell_type": "code",
   "execution_count": 51,
   "metadata": {},
   "outputs": [
    {
     "name": "stdout",
     "output_type": "stream",
     "text": [
      "f(x) = 0.746632461796028\n",
      "f_tracked(x) = 0.746632461796028 (tracked)\n"
     ]
    },
    {
     "data": {
      "text/plain": [
       "0.746632461796028 (tracked)"
      ]
     },
     "execution_count": 51,
     "metadata": {},
     "output_type": "execute_result"
    }
   ],
   "source": [
    "w_tracked = param(w)\n",
    "f_tracked(x) = sum([x^(i-1) .* w_tracked[i] for i in 1:3])\n",
    "\n",
    "x = 1\n",
    "@show f(x)\n",
    "@show f_tracked(x)"
   ]
  },
  {
   "cell_type": "markdown",
   "metadata": {},
   "source": [
    "Notice how the output of `f_tracked()` says `(tracked)`.  This denotes that Flux knows this output is a function of a parameter, and we can thus calculate how those parameters can effect this output.  We now calculate the difference between this calculated output and our desired output:"
   ]
  },
  {
   "cell_type": "code",
   "execution_count": 52,
   "metadata": {},
   "outputs": [
    {
     "name": "stdout",
     "output_type": "stream",
     "text": [
      "l = 0.25336753820397195 (tracked)\n"
     ]
    },
    {
     "data": {
      "text/plain": [
       "0.25336753820397195 (tracked)"
      ]
     },
     "execution_count": 52,
     "metadata": {},
     "output_type": "execute_result"
    }
   ],
   "source": [
    "# Define l2_loss() function to calculate a measure of how far off we are from our target output\n",
    "l2_loss(y, y_hat) = sqrt(sum((y .- y_hat).^2))\n",
    "\n",
    "l = l2_loss(abs(x), f_tracked(x))\n",
    "@show l"
   ]
  },
  {
   "cell_type": "markdown",
   "metadata": {},
   "source": [
    "This nonzero loss shows that we missed the target a bit (obviously, as 0.746... is not equal to 1, the desired output).  However, the real magic begins by using the function `Flux.back(l)` to take the loss `l` and push it \"back\" through the computation, attributing to `w` the changes that must be made in order to reduce this loss:"
   ]
  },
  {
   "cell_type": "code",
   "execution_count": 53,
   "metadata": {},
   "outputs": [],
   "source": [
    "Flux.Tracker.back!(l)"
   ]
  },
  {
   "cell_type": "markdown",
   "metadata": {},
   "source": [
    "A little underwhelming perhaps, however now if we inspect `w_tracked` we can see that there are proposed changes attributed to the values:"
   ]
  },
  {
   "cell_type": "code",
   "execution_count": 54,
   "metadata": {},
   "outputs": [
    {
     "data": {
      "text/plain": [
       "3-element Array{Float64,1}:\n",
       " -1.0\n",
       " -1.0\n",
       " -1.0"
      ]
     },
     "execution_count": 54,
     "metadata": {},
     "output_type": "execute_result"
    }
   ],
   "source": [
    "w_tracked.grad"
   ]
  },
  {
   "cell_type": "markdown",
   "metadata": {},
   "source": [
    "Let's use these proposed changes to modify `w_tracked.data` (the actual values used in the calculation), zero out the `.grad` values (so that they are ready to be set by a future `Flux.Tracker.back!()` invocation) and then see how this change has effected our guess.  Note that we will take a conservative step here, (by multiplying by $eta$, which moves the parameters by a very small portion of the gradient, rather than the entire gradient) so as to only effect a small change in the output."
   ]
  },
  {
   "cell_type": "code",
   "execution_count": 55,
   "metadata": {},
   "outputs": [
    {
     "name": "stdout",
     "output_type": "stream",
     "text": [
      "l = 0.25336753820397195 (tracked)\n",
      "l2_loss(abs(x), f_tracked(x)) = 0.25333753820397176 (tracked)\n"
     ]
    },
    {
     "data": {
      "text/plain": [
       "0.25333753820397176 (tracked)"
      ]
     },
     "execution_count": 55,
     "metadata": {},
     "output_type": "execute_result"
    }
   ],
   "source": [
    "η = 1e-5\n",
    "w_tracked.data[:] -= w_tracked.grad .* η\n",
    "w_tracked.grad[:] .= 0.0\n",
    "\n",
    "@show l\n",
    "@show l2_loss(abs(x), f_tracked(x))"
   ]
  },
  {
   "cell_type": "markdown",
   "metadata": {},
   "source": [
    "Excellent!  We're a little closer to our goal.  Let's plot it and see what the function looks like:"
   ]
  },
  {
   "cell_type": "code",
   "execution_count": 56,
   "metadata": {},
   "outputs": [
    {
     "data": {
      "text/html": [
       "<div class='display:none'></div><unsafe-script style='display:none'>\n",
       "WebIO.mount(this.previousSibling,{&quot;props&quot;:{},&quot;nodeType&quot;:&quot;Scope&quot;,&quot;type&quot;:&quot;node&quot;,&quot;instanceArgs&quot;:{&quot;imports&quot;:{&quot;data&quot;:[{&quot;name&quot;:&quot;Plotly&quot;,&quot;type&quot;:&quot;js&quot;,&quot;url&quot;:&quot;/assetserver/ca0d1d661ba20f29c3bcdb3136fc5e131d9ae531-plotly-latest.min.js&quot;},{&quot;name&quot;:null,&quot;type&quot;:&quot;js&quot;,&quot;url&quot;:&quot;/assetserver/df76365695a2e6ab133a286a764f9caca195cb05-plotly_webio.bundle.js&quot;}],&quot;type&quot;:&quot;async_block&quot;},&quot;id&quot;:&quot;scope-331a4138-4859-4924-a98b-c661b2fb3d1e&quot;,&quot;handlers&quot;:{&quot;_toImage&quot;:[(function (options){return this.Plotly.toImage(this.plotElem,options).then((function (data){return WebIO.setval({&quot;name&quot;:&quot;image&quot;,&quot;scope&quot;:&quot;scope-331a4138-4859-4924-a98b-c661b2fb3d1e&quot;,&quot;id&quot;:&quot;ob_315&quot;,&quot;type&quot;:&quot;observable&quot;},data)}))})],&quot;__get_gd_contents&quot;:[(function (prop){prop==&quot;data&quot; ? (WebIO.setval({&quot;name&quot;:&quot;__gd_contents&quot;,&quot;scope&quot;:&quot;scope-331a4138-4859-4924-a98b-c661b2fb3d1e&quot;,&quot;id&quot;:&quot;ob_316&quot;,&quot;type&quot;:&quot;observable&quot;},this.plotElem.data)) : undefined; return prop==&quot;layout&quot; ? (WebIO.setval({&quot;name&quot;:&quot;__gd_contents&quot;,&quot;scope&quot;:&quot;scope-331a4138-4859-4924-a98b-c661b2fb3d1e&quot;,&quot;id&quot;:&quot;ob_316&quot;,&quot;type&quot;:&quot;observable&quot;},this.plotElem.layout)) : undefined})],&quot;_promises&quot;:{&quot;importsLoaded&quot;:[(function (Plotly){var gd=this.dom.querySelector(&quot;#plot-06da92e2-db79-449c-9f83-1162c87abe2b&quot;); this.plotElem=gd; this.Plotly=Plotly; (window.Blink!==undefined) ? (gd.style.width=&quot;100%&quot;, gd.style.height=&quot;100vh&quot;, gd.style.marginLeft=&quot;0%&quot;, gd.style.marginTop=&quot;0vh&quot;) : undefined; window.onresize=(function (){return Plotly.Plots.resize(gd)}); Plotly.newPlot(gd,[{&quot;y&quot;:[10.0,9.9,9.8,9.7,9.6,9.5,9.4,9.3,9.2,9.1,9.0,8.9,8.8,8.7,8.6,8.5,8.4,8.3,8.2,8.1,8.0,7.9,7.8,7.7,7.6,7.5,7.4,7.3,7.2,7.1,7.0,6.9,6.8,6.7,6.6,6.5,6.4,6.3,6.2,6.1,6.0,5.9,5.8,5.7,5.6,5.5,5.4,5.3,5.2,5.1,5.0,4.9,4.8,4.7,4.6,4.5,4.4,4.3,4.2,4.1,4.0,3.9,3.8,3.7,3.6,3.5,3.4,3.3,3.2,3.1,3.0,2.9,2.8,2.7,2.6,2.5,2.4,2.3,2.2,2.1,2.0,1.9,1.8,1.7,1.6,1.5,1.4,1.3,1.2,1.1,1.0,0.9,0.8,0.7,0.6,0.5,0.4,0.3,0.2,0.1,0.0,0.1,0.2,0.3,0.4,0.5,0.6,0.7,0.8,0.9,1.0,1.1,1.2,1.3,1.4,1.5,1.6,1.7,1.8,1.9,2.0,2.1,2.2,2.3,2.4,2.5,2.6,2.7,2.8,2.9,3.0,3.1,3.2,3.3,3.4,3.5,3.6,3.7,3.8,3.9,4.0,4.1,4.2,4.3,4.4,4.5,4.6,4.7,4.8,4.9,5.0,5.1,5.2,5.3,5.4,5.5,5.6,5.7,5.8,5.9,6.0,6.1,6.2,6.3,6.4,6.5,6.6,6.7,6.8,6.9,7.0,7.1,7.2,7.3,7.4,7.5,7.6,7.7,7.8,7.9,8.0,8.1,8.2,8.3,8.4,8.5,8.6,8.7,8.8,8.9,9.0,9.1,9.2,9.3,9.4,9.5,9.6,9.7,9.8,9.9,10.0],&quot;type&quot;:&quot;scatter&quot;,&quot;name&quot;:&quot;|x|&quot;,&quot;x&quot;:[-10.0,-9.9,-9.8,-9.7,-9.6,-9.5,-9.4,-9.3,-9.2,-9.1,-9.0,-8.9,-8.8,-8.7,-8.6,-8.5,-8.4,-8.3,-8.2,-8.1,-8.0,-7.9,-7.8,-7.7,-7.6,-7.5,-7.4,-7.3,-7.2,-7.1,-7.0,-6.9,-6.8,-6.7,-6.6,-6.5,-6.4,-6.3,-6.2,-6.1,-6.0,-5.9,-5.8,-5.7,-5.6,-5.5,-5.4,-5.3,-5.2,-5.1,-5.0,-4.9,-4.8,-4.7,-4.6,-4.5,-4.4,-4.3,-4.2,-4.1,-4.0,-3.9,-3.8,-3.7,-3.6,-3.5,-3.4,-3.3,-3.2,-3.1,-3.0,-2.9,-2.8,-2.7,-2.6,-2.5,-2.4,-2.3,-2.2,-2.1,-2.0,-1.9,-1.8,-1.7,-1.6,-1.5,-1.4,-1.3,-1.2,-1.1,-1.0,-0.9,-0.8,-0.7,-0.6,-0.5,-0.4,-0.3,-0.2,-0.1,0.0,0.1,0.2,0.3,0.4,0.5,0.6,0.7,0.8,0.9,1.0,1.1,1.2,1.3,1.4,1.5,1.6,1.7,1.8,1.9,2.0,2.1,2.2,2.3,2.4,2.5,2.6,2.7,2.8,2.9,3.0,3.1,3.2,3.3,3.4,3.5,3.6,3.7,3.8,3.9,4.0,4.1,4.2,4.3,4.4,4.5,4.6,4.7,4.8,4.9,5.0,5.1,5.2,5.3,5.4,5.5,5.6,5.7,5.8,5.9,6.0,6.1,6.2,6.3,6.4,6.5,6.6,6.7,6.8,6.9,7.0,7.1,7.2,7.3,7.4,7.5,7.6,7.7,7.8,7.9,8.0,8.1,8.2,8.3,8.4,8.5,8.6,8.7,8.8,8.9,9.0,9.1,9.2,9.3,9.4,9.5,9.6,9.7,9.8,9.9,10.0]},{&quot;y&quot;:[233.86986419937142,229.48901943732542,225.14967087079032,220.85181849976595,216.5954623242525,212.38060234424987,208.2072385597581,204.07537097077716,199.984999577307,195.93612437934775,191.92874537689934,187.96286256996177,184.03847595853503,180.15558554261906,176.31419132221401,172.5142932973198,168.7558914679364,165.03898583406388,161.36357639570213,157.72966315285126,154.13724610551122,150.58632525368205,147.07690059736368,143.6089721365562,140.18253987125948,136.79760380147366,133.45416392719866,130.1522202484345,126.8917727651812,123.6728214774387,120.49536638520708,117.35940748848628,114.2649447872763,111.2119782815772,108.2005079713889,105.23053385671147,102.30205593754489,99.4150742138891,96.5695886857442,93.76559935311009,91.00310621598686,88.28210927437446,85.6026085282729,82.96460397768217,80.36809562260227,77.81308346303324,75.29956749897504,72.82754773042765,70.39702415739114,68.00799677986545,65.6604655978506,63.3544306113466,61.08989182035342,58.8668492248711,56.685302824899594,54.54525262043896,52.446698611489154,50.389640798050166,48.374079180122045,46.40001375770474,44.467444530798296,42.576371499402676,40.72679466351791,38.91871402314398,37.15212957828088,35.427041328928624,33.7434492750872,32.10135341675662,30.5007537539369,28.941650286627997,27.42404301482994,25.947931938542723,24.513317057766336,23.120198372500802,21.768575882746106,20.45844958850224,19.18981948976922,17.96268558654704,16.777047878835702,15.632906366635197,14.530261049945533,13.46911192876671,12.449459003098728,11.471302272941582,10.53464173829528,9.639477399159812,8.785809255535186,7.973637307421402,7.2029615548184545,6.473781997726348,5.786098636145081,5.139911470074653,4.535220499515065,3.972025724466315,3.4503271449284054,2.970124760901336,2.531418572385105,2.1342085793797145,1.778494781885163,1.4642771799014511,1.1915557734285787,0.9603305624665457,0.7706015470153524,0.6223687270749987,0.5156321026454842,0.45039167372680944,0.4266474403189743,0.4443994024219782,0.5036475600358221,0.6043919131605053,0.746632461796028,0.9303692059423905,1.1556021455995924,1.4223312807676338,1.7305566114465134,2.0802781376362343,2.471495859336795,2.904209776548193,3.378419889270433,3.894126197503511,4.451328701247428,5.050027400502186,5.690222295267784,6.371913385544218,7.095100671331496,7.8597841526296115,8.665963829438567,9.513639701758361,10.402811769588991,11.333480032930469,12.30564449178278,13.319305146145934,14.37446199601993,15.471115041404754,16.609264282300426,17.78890971870694,19.01005135062429,20.27268917805248,21.576823200991505,22.922453419441375,24.309579833402083,25.738202442873632,27.20832124785602,28.719936248349246,30.273047444353317,31.86765483586822,33.50375842289396,35.181358205430556,36.900454183477976,38.66104635703624,40.463134726105345,42.30671929068528,44.191800050776074,46.118377006377685,48.086450157490155,50.09601950411345,52.147085046247575,54.239646783892574,56.37370471704839,58.54925884571505,60.766309169892544,63.02485568958087,65.32489840478007,67.66643731549007,70.04947242171096,72.47400372344264,74.94003122068516,77.44755491343855,79.99657480170275,82.58709088547782,85.21910316476371,87.89261163956043,90.60761630986802,93.36411717568642,96.16211423701569,99.00160749385576,101.88259694620669,104.80508259406848,107.76906443744106,110.77454247632454,113.82151671071881,116.90998714062394,120.0399537660399,123.21141658696675,126.42437560340437,129.67883081535285,132.97478222281217,136.3122298257823,139.69117362426337,143.1116136182552,146.57354980775787,150.07698219277137,153.62191077329572,157.20833554933097,160.83625652087701,164.50567368793386,168.2165870505016,171.96899660858014,175.7629023621696,179.5983043112698,183.4752024558809],&quot;type&quot;:&quot;scatter&quot;,&quot;name&quot;:&quot;f(x)&quot;,&quot;x&quot;:[-10.0,-9.9,-9.8,-9.7,-9.6,-9.5,-9.4,-9.3,-9.2,-9.1,-9.0,-8.9,-8.8,-8.7,-8.6,-8.5,-8.4,-8.3,-8.2,-8.1,-8.0,-7.9,-7.8,-7.7,-7.6,-7.5,-7.4,-7.3,-7.2,-7.1,-7.0,-6.9,-6.8,-6.7,-6.6,-6.5,-6.4,-6.3,-6.2,-6.1,-6.0,-5.9,-5.8,-5.7,-5.6,-5.5,-5.4,-5.3,-5.2,-5.1,-5.0,-4.9,-4.8,-4.7,-4.6,-4.5,-4.4,-4.3,-4.2,-4.1,-4.0,-3.9,-3.8,-3.7,-3.6,-3.5,-3.4,-3.3,-3.2,-3.1,-3.0,-2.9,-2.8,-2.7,-2.6,-2.5,-2.4,-2.3,-2.2,-2.1,-2.0,-1.9,-1.8,-1.7,-1.6,-1.5,-1.4,-1.3,-1.2,-1.1,-1.0,-0.9,-0.8,-0.7,-0.6,-0.5,-0.4,-0.3,-0.2,-0.1,0.0,0.1,0.2,0.3,0.4,0.5,0.6,0.7,0.8,0.9,1.0,1.1,1.2,1.3,1.4,1.5,1.6,1.7,1.8,1.9,2.0,2.1,2.2,2.3,2.4,2.5,2.6,2.7,2.8,2.9,3.0,3.1,3.2,3.3,3.4,3.5,3.6,3.7,3.8,3.9,4.0,4.1,4.2,4.3,4.4,4.5,4.6,4.7,4.8,4.9,5.0,5.1,5.2,5.3,5.4,5.5,5.6,5.7,5.8,5.9,6.0,6.1,6.2,6.3,6.4,6.5,6.6,6.7,6.8,6.9,7.0,7.1,7.2,7.3,7.4,7.5,7.6,7.7,7.8,7.9,8.0,8.1,8.2,8.3,8.4,8.5,8.6,8.7,8.8,8.9,9.0,9.1,9.2,9.3,9.4,9.5,9.6,9.7,9.8,9.9,10.0]},{&quot;y&quot;:[233.87077419937143,229.48991053732544,225.1505432707903,220.85267239976594,216.5962979242525,212.38141984424988,208.20803815975813,204.07615287077718,199.98576397730702,195.93687147934776,191.92947537689935,187.96357566996178,184.03917235853504,180.15626544261906,176.314854922214,172.5149407973198,168.75652306793643,165.0396017340639,161.36417679570215,157.73024825285128,154.13781610551123,150.58688035368203,147.07744099736368,143.60949803655618,140.1830514712595,136.79810130147365,133.4546475271987,130.15269014843452,126.8922291651812,123.6732645774387,120.49579638520707,117.35982458848629,114.2653491872763,111.2123701815772,108.2008875713889,105.23090135671147,102.30241153754488,99.4154181138891,96.5699210857442,93.7659204531101,91.00341621598686,88.28240837437446,85.60289692827288,82.96488187768217,80.36836322260228,77.81334096303324,75.29981509897505,72.82778563042767,70.39725255739114,68.00821587986545,65.6606755978506,63.3546317113466,61.090084220353425,58.8670331248711,56.6854784248996,54.545420120438955,52.44685821148916,50.38979269805017,48.37422358012204,46.400150857704745,44.467574530798295,42.57649459940268,40.7269110635179,38.918823923143975,37.15223317828088,35.42713882892862,33.743540875087206,32.101439316756625,30.5008341539369,28.941725386627997,27.42411301482994,25.94799703854272,24.51337745776634,23.120254272500805,21.768627482746105,20.45849708850224,19.189863089769222,17.962725486547036,16.7770842788357,15.632939466635197,14.530291049945534,13.46913902876671,12.449483403098728,11.471324172941582,10.53466133829528,9.639494899159814,8.785824855535187,7.973651207421401,7.2029739548184555,6.4737930977263485,5.78610863614508,5.139920570074653,4.535228899515064,3.972033624466315,3.450334744928406,2.9701322609013356,2.531426172385105,2.1342164793797145,1.7785031818851629,1.464286279901451,1.1915657734285787,0.960341662466546,0.7706139470153525,0.6223826270749987,0.5156477026454844,0.45040917372680955,0.4266670403189743,0.4444213024219785,0.5036719600358224,0.6044190131605054,0.7466624617960282,0.9304023059423909,1.1556385455995923,1.4223711807676338,1.7306002114465144,2.0803256376362347,2.4715474593367954,2.904265676548194,3.378480289270433,3.894191297503511,4.451398701247429,5.050102500502187,5.6903026952677855,6.371999285544218,7.095192271331496,7.859881652629612,8.666067429438566,9.513749601758363,10.402928169588995,11.333603132930467,12.305774491782781,13.319442246145936,14.37460639601993,15.471266941404755,16.609423882300426,17.78907721870694,19.010226950624293,20.272873078052484,21.57701560099151,22.922654519441373,24.309789833402085,25.738421542873635,27.208549647856024,28.720174148349244,30.273295044353322,31.86791233586822,33.50402602289395,35.181636105430556,36.90074258347797,38.66134545703625,40.463444726105344,42.30704039068527,44.19213245077607,46.11872090637769,48.086805757490154,50.09638700411345,52.147464646247585,54.24003868389257,56.374109117048384,58.54967594571505,60.766739169892546,63.02529878958087,65.32535480478006,67.66690721549008,70.04995602171095,72.47450122344263,74.94054282068515,77.44808081343854,79.99711520170275,82.58764598547783,85.2196731647637,87.89319673956042,90.60821670986802,93.36473307568643,96.16274583701569,99.00225499385577,101.88326054620669,104.80576249406847,107.76976083744107,110.77525557632453,113.82224671071882,116.91073424062395,120.04071816603991,123.21219848696674,126.42517520340438,129.67964831535284,132.97561782281218,136.31308372578232,139.6920460242634,143.11250471825522,146.57445980775788,150.07791129277138,153.62285917329572,157.20930344933097,160.83724412087702,164.5066811879339,168.21761465050162,171.97004450858014,175.7639707621696,179.59939341126983,183.4763124558809],&quot;type&quot;:&quot;scatter&quot;,&quot;name&quot;:&quot;f_tracked_data(x)&quot;,&quot;x&quot;:[-10.0,-9.9,-9.8,-9.7,-9.6,-9.5,-9.4,-9.3,-9.2,-9.1,-9.0,-8.9,-8.8,-8.7,-8.6,-8.5,-8.4,-8.3,-8.2,-8.1,-8.0,-7.9,-7.8,-7.7,-7.6,-7.5,-7.4,-7.3,-7.2,-7.1,-7.0,-6.9,-6.8,-6.7,-6.6,-6.5,-6.4,-6.3,-6.2,-6.1,-6.0,-5.9,-5.8,-5.7,-5.6,-5.5,-5.4,-5.3,-5.2,-5.1,-5.0,-4.9,-4.8,-4.7,-4.6,-4.5,-4.4,-4.3,-4.2,-4.1,-4.0,-3.9,-3.8,-3.7,-3.6,-3.5,-3.4,-3.3,-3.2,-3.1,-3.0,-2.9,-2.8,-2.7,-2.6,-2.5,-2.4,-2.3,-2.2,-2.1,-2.0,-1.9,-1.8,-1.7,-1.6,-1.5,-1.4,-1.3,-1.2,-1.1,-1.0,-0.9,-0.8,-0.7,-0.6,-0.5,-0.4,-0.3,-0.2,-0.1,0.0,0.1,0.2,0.3,0.4,0.5,0.6,0.7,0.8,0.9,1.0,1.1,1.2,1.3,1.4,1.5,1.6,1.7,1.8,1.9,2.0,2.1,2.2,2.3,2.4,2.5,2.6,2.7,2.8,2.9,3.0,3.1,3.2,3.3,3.4,3.5,3.6,3.7,3.8,3.9,4.0,4.1,4.2,4.3,4.4,4.5,4.6,4.7,4.8,4.9,5.0,5.1,5.2,5.3,5.4,5.5,5.6,5.7,5.8,5.9,6.0,6.1,6.2,6.3,6.4,6.5,6.6,6.7,6.8,6.9,7.0,7.1,7.2,7.3,7.4,7.5,7.6,7.7,7.8,7.9,8.0,8.1,8.2,8.3,8.4,8.5,8.6,8.7,8.8,8.9,9.0,9.1,9.2,9.3,9.4,9.5,9.6,9.7,9.8,9.9,10.0]}],{&quot;margin&quot;:{&quot;l&quot;:50,&quot;b&quot;:50,&quot;r&quot;:50,&quot;t&quot;:60}},{}); gd.on(&quot;plotly_hover&quot;,(function (data){var filtered_data=WebIO.CommandSets.Plotly.filterEventData(gd,data,&quot;hover&quot;); return !(filtered_data.isnil) ? (WebIO.setval({&quot;name&quot;:&quot;hover&quot;,&quot;scope&quot;:&quot;scope-331a4138-4859-4924-a98b-c661b2fb3d1e&quot;,&quot;id&quot;:&quot;ob_311&quot;,&quot;type&quot;:&quot;observable&quot;},filtered_data.out)) : undefined})); gd.on(&quot;plotly_unhover&quot;,(function (){return WebIO.setval({&quot;name&quot;:&quot;hover&quot;,&quot;scope&quot;:&quot;scope-331a4138-4859-4924-a98b-c661b2fb3d1e&quot;,&quot;id&quot;:&quot;ob_311&quot;,&quot;type&quot;:&quot;observable&quot;},{})})); gd.on(&quot;plotly_selected&quot;,(function (data){var filtered_data=WebIO.CommandSets.Plotly.filterEventData(gd,data,&quot;selected&quot;); return !(filtered_data.isnil) ? (WebIO.setval({&quot;name&quot;:&quot;selected&quot;,&quot;scope&quot;:&quot;scope-331a4138-4859-4924-a98b-c661b2fb3d1e&quot;,&quot;id&quot;:&quot;ob_312&quot;,&quot;type&quot;:&quot;observable&quot;},filtered_data.out)) : undefined})); gd.on(&quot;plotly_deselect&quot;,(function (){return WebIO.setval({&quot;name&quot;:&quot;selected&quot;,&quot;scope&quot;:&quot;scope-331a4138-4859-4924-a98b-c661b2fb3d1e&quot;,&quot;id&quot;:&quot;ob_312&quot;,&quot;type&quot;:&quot;observable&quot;},{})})); gd.on(&quot;plotly_relayout&quot;,(function (data){var filtered_data=WebIO.CommandSets.Plotly.filterEventData(gd,data,&quot;relayout&quot;); return !(filtered_data.isnil) ? (WebIO.setval({&quot;name&quot;:&quot;relayout&quot;,&quot;scope&quot;:&quot;scope-331a4138-4859-4924-a98b-c661b2fb3d1e&quot;,&quot;id&quot;:&quot;ob_314&quot;,&quot;type&quot;:&quot;observable&quot;},filtered_data.out)) : undefined})); return gd.on(&quot;plotly_click&quot;,(function (data){var filtered_data=WebIO.CommandSets.Plotly.filterEventData(gd,data,&quot;click&quot;); return !(filtered_data.isnil) ? (WebIO.setval({&quot;name&quot;:&quot;click&quot;,&quot;scope&quot;:&quot;scope-331a4138-4859-4924-a98b-c661b2fb3d1e&quot;,&quot;id&quot;:&quot;ob_313&quot;,&quot;type&quot;:&quot;observable&quot;},filtered_data.out)) : undefined}))})]},&quot;_downloadImage&quot;:[(function (options){return this.Plotly.downloadImage(this.plotElem,options)})],&quot;_commands&quot;:[(function (args){var fn=args.shift(); var elem=this.plotElem; var Plotly=this.Plotly; args.unshift(elem); return Plotly[fn].apply(this,args)})]},&quot;systemjs_options&quot;:null,&quot;observables&quot;:{&quot;_toImage&quot;:{&quot;sync&quot;:false,&quot;id&quot;:&quot;ob_318&quot;,&quot;value&quot;:{}},&quot;hover&quot;:{&quot;sync&quot;:false,&quot;id&quot;:&quot;ob_311&quot;,&quot;value&quot;:{}},&quot;selected&quot;:{&quot;sync&quot;:false,&quot;id&quot;:&quot;ob_312&quot;,&quot;value&quot;:{}},&quot;__gd_contents&quot;:{&quot;sync&quot;:false,&quot;id&quot;:&quot;ob_316&quot;,&quot;value&quot;:{}},&quot;click&quot;:{&quot;sync&quot;:false,&quot;id&quot;:&quot;ob_313&quot;,&quot;value&quot;:{}},&quot;image&quot;:{&quot;sync&quot;:true,&quot;id&quot;:&quot;ob_315&quot;,&quot;value&quot;:&quot;&quot;},&quot;__get_gd_contents&quot;:{&quot;sync&quot;:false,&quot;id&quot;:&quot;ob_320&quot;,&quot;value&quot;:&quot;&quot;},&quot;_downloadImage&quot;:{&quot;sync&quot;:false,&quot;id&quot;:&quot;ob_319&quot;,&quot;value&quot;:{}},&quot;relayout&quot;:{&quot;sync&quot;:false,&quot;id&quot;:&quot;ob_314&quot;,&quot;value&quot;:{}},&quot;_commands&quot;:{&quot;sync&quot;:false,&quot;id&quot;:&quot;ob_317&quot;,&quot;value&quot;:[]}}},&quot;children&quot;:[{&quot;props&quot;:{&quot;id&quot;:&quot;plot-06da92e2-db79-449c-9f83-1162c87abe2b&quot;},&quot;nodeType&quot;:&quot;DOM&quot;,&quot;type&quot;:&quot;node&quot;,&quot;instanceArgs&quot;:{&quot;namespace&quot;:&quot;html&quot;,&quot;tag&quot;:&quot;div&quot;},&quot;children&quot;:[]}]})</unsafe-script>"
      ],
      "text/plain": [
       "data: [\n",
       "  \"scatter with fields name, type, x, and y\",\n",
       "  \"scatter with fields name, type, x, and y\",\n",
       "  \"scatter with fields name, type, x, and y\"\n",
       "]\n",
       "\n",
       "layout: \"layout with field margin\"\n",
       "\n"
      ]
     },
     "execution_count": 56,
     "metadata": {},
     "output_type": "execute_result"
    }
   ],
   "source": [
    "# We need to build a helper function to drop the \"tracked\" part of f_tracked(),\n",
    "# because plotting functions don't know how to deal with TrackedArrays:\n",
    "f_tracked_data(x) = f_tracked(x).data\n",
    "\n",
    "function plot_x_fx_ftrackedx()\n",
    "    x = collect(-10:.1:10)\n",
    "    plot([\n",
    "        scatter(;x=x, y=abs.(x), name=\"|x|\"),\n",
    "        scatter(;x=x, y=f.(x), name=\"f(x)\"),\n",
    "        scatter(;x=x, y=f_tracked_data.(x), name=\"f_tracked_data(x)\"),\n",
    "    ])\n",
    "end\n",
    "\n",
    "plot_x_fx_ftrackedx()"
   ]
  },
  {
   "cell_type": "markdown",
   "metadata": {},
   "source": [
    "Hmmm.  Not that much of a difference.  Let's do an iteration evaluating at $x = 6$:"
   ]
  },
  {
   "cell_type": "code",
   "execution_count": 57,
   "metadata": {},
   "outputs": [
    {
     "name": "stdout",
     "output_type": "stream",
     "text": [
      "l = 54.766739169892546 (tracked)\n",
      "l = 54.753409169892535 (tracked)\n"
     ]
    },
    {
     "data": {
      "text/plain": [
       "54.753409169892535 (tracked)"
      ]
     },
     "execution_count": 57,
     "metadata": {},
     "output_type": "execute_result"
    }
   ],
   "source": [
    "x = 6\n",
    "\n",
    "# Perform forward pass, calculating loss\n",
    "l = l2_loss(abs(x), f_tracked(x))\n",
    "\n",
    "@show l\n",
    "\n",
    "# Attribute loss back onto w\n",
    "Flux.Tracker.back!(l)\n",
    "\n",
    "# Update w\n",
    "w_tracked.data[:] -= w_tracked.grad .* η\n",
    "w_tracked.grad[:] .= 0.0\n",
    "\n",
    "# Recalculate l, showing that loss has improved\n",
    "l = l2_loss(abs(x), f_tracked(x))\n",
    "@show l"
   ]
  },
  {
   "cell_type": "code",
   "execution_count": 58,
   "metadata": {},
   "outputs": [
    {
     "data": {
      "text/html": [
       "<div class='display:none'></div><unsafe-script style='display:none'>\n",
       "WebIO.mount(this.previousSibling,{&quot;props&quot;:{},&quot;nodeType&quot;:&quot;Scope&quot;,&quot;type&quot;:&quot;node&quot;,&quot;instanceArgs&quot;:{&quot;imports&quot;:{&quot;data&quot;:[{&quot;name&quot;:&quot;Plotly&quot;,&quot;type&quot;:&quot;js&quot;,&quot;url&quot;:&quot;/assetserver/ca0d1d661ba20f29c3bcdb3136fc5e131d9ae531-plotly-latest.min.js&quot;},{&quot;name&quot;:null,&quot;type&quot;:&quot;js&quot;,&quot;url&quot;:&quot;/assetserver/df76365695a2e6ab133a286a764f9caca195cb05-plotly_webio.bundle.js&quot;}],&quot;type&quot;:&quot;async_block&quot;},&quot;id&quot;:&quot;scope-bc135559-0e2e-4c6b-8a85-896b694529b6&quot;,&quot;handlers&quot;:{&quot;_toImage&quot;:[(function (options){return this.Plotly.toImage(this.plotElem,options).then((function (data){return WebIO.setval({&quot;name&quot;:&quot;image&quot;,&quot;scope&quot;:&quot;scope-bc135559-0e2e-4c6b-8a85-896b694529b6&quot;,&quot;id&quot;:&quot;ob_325&quot;,&quot;type&quot;:&quot;observable&quot;},data)}))})],&quot;__get_gd_contents&quot;:[(function (prop){prop==&quot;data&quot; ? (WebIO.setval({&quot;name&quot;:&quot;__gd_contents&quot;,&quot;scope&quot;:&quot;scope-bc135559-0e2e-4c6b-8a85-896b694529b6&quot;,&quot;id&quot;:&quot;ob_326&quot;,&quot;type&quot;:&quot;observable&quot;},this.plotElem.data)) : undefined; return prop==&quot;layout&quot; ? (WebIO.setval({&quot;name&quot;:&quot;__gd_contents&quot;,&quot;scope&quot;:&quot;scope-bc135559-0e2e-4c6b-8a85-896b694529b6&quot;,&quot;id&quot;:&quot;ob_326&quot;,&quot;type&quot;:&quot;observable&quot;},this.plotElem.layout)) : undefined})],&quot;_promises&quot;:{&quot;importsLoaded&quot;:[(function (Plotly){var gd=this.dom.querySelector(&quot;#plot-db68093e-d20f-4a97-bf96-201b89e5ed41&quot;); this.plotElem=gd; this.Plotly=Plotly; (window.Blink!==undefined) ? (gd.style.width=&quot;100%&quot;, gd.style.height=&quot;100vh&quot;, gd.style.marginLeft=&quot;0%&quot;, gd.style.marginTop=&quot;0vh&quot;) : undefined; window.onresize=(function (){return Plotly.Plots.resize(gd)}); Plotly.newPlot(gd,[{&quot;y&quot;:[10.0,9.9,9.8,9.7,9.6,9.5,9.4,9.3,9.2,9.1,9.0,8.9,8.8,8.7,8.6,8.5,8.4,8.3,8.2,8.1,8.0,7.9,7.8,7.7,7.6,7.5,7.4,7.3,7.2,7.1,7.0,6.9,6.8,6.7,6.6,6.5,6.4,6.3,6.2,6.1,6.0,5.9,5.8,5.7,5.6,5.5,5.4,5.3,5.2,5.1,5.0,4.9,4.8,4.7,4.6,4.5,4.4,4.3,4.2,4.1,4.0,3.9,3.8,3.7,3.6,3.5,3.4,3.3,3.2,3.1,3.0,2.9,2.8,2.7,2.6,2.5,2.4,2.3,2.2,2.1,2.0,1.9,1.8,1.7,1.6,1.5,1.4,1.3,1.2,1.1,1.0,0.9,0.8,0.7,0.6,0.5,0.4,0.3,0.2,0.1,0.0,0.1,0.2,0.3,0.4,0.5,0.6,0.7,0.8,0.9,1.0,1.1,1.2,1.3,1.4,1.5,1.6,1.7,1.8,1.9,2.0,2.1,2.2,2.3,2.4,2.5,2.6,2.7,2.8,2.9,3.0,3.1,3.2,3.3,3.4,3.5,3.6,3.7,3.8,3.9,4.0,4.1,4.2,4.3,4.4,4.5,4.6,4.7,4.8,4.9,5.0,5.1,5.2,5.3,5.4,5.5,5.6,5.7,5.8,5.9,6.0,6.1,6.2,6.3,6.4,6.5,6.6,6.7,6.8,6.9,7.0,7.1,7.2,7.3,7.4,7.5,7.6,7.7,7.8,7.9,8.0,8.1,8.2,8.3,8.4,8.5,8.6,8.7,8.8,8.9,9.0,9.1,9.2,9.3,9.4,9.5,9.6,9.7,9.8,9.9,10.0],&quot;type&quot;:&quot;scatter&quot;,&quot;name&quot;:&quot;|x|&quot;,&quot;x&quot;:[-10.0,-9.9,-9.8,-9.7,-9.6,-9.5,-9.4,-9.3,-9.2,-9.1,-9.0,-8.9,-8.8,-8.7,-8.6,-8.5,-8.4,-8.3,-8.2,-8.1,-8.0,-7.9,-7.8,-7.7,-7.6,-7.5,-7.4,-7.3,-7.2,-7.1,-7.0,-6.9,-6.8,-6.7,-6.6,-6.5,-6.4,-6.3,-6.2,-6.1,-6.0,-5.9,-5.8,-5.7,-5.6,-5.5,-5.4,-5.3,-5.2,-5.1,-5.0,-4.9,-4.8,-4.7,-4.6,-4.5,-4.4,-4.3,-4.2,-4.1,-4.0,-3.9,-3.8,-3.7,-3.6,-3.5,-3.4,-3.3,-3.2,-3.1,-3.0,-2.9,-2.8,-2.7,-2.6,-2.5,-2.4,-2.3,-2.2,-2.1,-2.0,-1.9,-1.8,-1.7,-1.6,-1.5,-1.4,-1.3,-1.2,-1.1,-1.0,-0.9,-0.8,-0.7,-0.6,-0.5,-0.4,-0.3,-0.2,-0.1,0.0,0.1,0.2,0.3,0.4,0.5,0.6,0.7,0.8,0.9,1.0,1.1,1.2,1.3,1.4,1.5,1.6,1.7,1.8,1.9,2.0,2.1,2.2,2.3,2.4,2.5,2.6,2.7,2.8,2.9,3.0,3.1,3.2,3.3,3.4,3.5,3.6,3.7,3.8,3.9,4.0,4.1,4.2,4.3,4.4,4.5,4.6,4.7,4.8,4.9,5.0,5.1,5.2,5.3,5.4,5.5,5.6,5.7,5.8,5.9,6.0,6.1,6.2,6.3,6.4,6.5,6.6,6.7,6.8,6.9,7.0,7.1,7.2,7.3,7.4,7.5,7.6,7.7,7.8,7.9,8.0,8.1,8.2,8.3,8.4,8.5,8.6,8.7,8.8,8.9,9.0,9.1,9.2,9.3,9.4,9.5,9.6,9.7,9.8,9.9,10.0]},{&quot;y&quot;:[233.86986419937142,229.48901943732542,225.14967087079032,220.85181849976595,216.5954623242525,212.38060234424987,208.2072385597581,204.07537097077716,199.984999577307,195.93612437934775,191.92874537689934,187.96286256996177,184.03847595853503,180.15558554261906,176.31419132221401,172.5142932973198,168.7558914679364,165.03898583406388,161.36357639570213,157.72966315285126,154.13724610551122,150.58632525368205,147.07690059736368,143.6089721365562,140.18253987125948,136.79760380147366,133.45416392719866,130.1522202484345,126.8917727651812,123.6728214774387,120.49536638520708,117.35940748848628,114.2649447872763,111.2119782815772,108.2005079713889,105.23053385671147,102.30205593754489,99.4150742138891,96.5695886857442,93.76559935311009,91.00310621598686,88.28210927437446,85.6026085282729,82.96460397768217,80.36809562260227,77.81308346303324,75.29956749897504,72.82754773042765,70.39702415739114,68.00799677986545,65.6604655978506,63.3544306113466,61.08989182035342,58.8668492248711,56.685302824899594,54.54525262043896,52.446698611489154,50.389640798050166,48.374079180122045,46.40001375770474,44.467444530798296,42.576371499402676,40.72679466351791,38.91871402314398,37.15212957828088,35.427041328928624,33.7434492750872,32.10135341675662,30.5007537539369,28.941650286627997,27.42404301482994,25.947931938542723,24.513317057766336,23.120198372500802,21.768575882746106,20.45844958850224,19.18981948976922,17.96268558654704,16.777047878835702,15.632906366635197,14.530261049945533,13.46911192876671,12.449459003098728,11.471302272941582,10.53464173829528,9.639477399159812,8.785809255535186,7.973637307421402,7.2029615548184545,6.473781997726348,5.786098636145081,5.139911470074653,4.535220499515065,3.972025724466315,3.4503271449284054,2.970124760901336,2.531418572385105,2.1342085793797145,1.778494781885163,1.4642771799014511,1.1915557734285787,0.9603305624665457,0.7706015470153524,0.6223687270749987,0.5156321026454842,0.45039167372680944,0.4266474403189743,0.4443994024219782,0.5036475600358221,0.6043919131605053,0.746632461796028,0.9303692059423905,1.1556021455995924,1.4223312807676338,1.7305566114465134,2.0802781376362343,2.471495859336795,2.904209776548193,3.378419889270433,3.894126197503511,4.451328701247428,5.050027400502186,5.690222295267784,6.371913385544218,7.095100671331496,7.8597841526296115,8.665963829438567,9.513639701758361,10.402811769588991,11.333480032930469,12.30564449178278,13.319305146145934,14.37446199601993,15.471115041404754,16.609264282300426,17.78890971870694,19.01005135062429,20.27268917805248,21.576823200991505,22.922453419441375,24.309579833402083,25.738202442873632,27.20832124785602,28.719936248349246,30.273047444353317,31.86765483586822,33.50375842289396,35.181358205430556,36.900454183477976,38.66104635703624,40.463134726105345,42.30671929068528,44.191800050776074,46.118377006377685,48.086450157490155,50.09601950411345,52.147085046247575,54.239646783892574,56.37370471704839,58.54925884571505,60.766309169892544,63.02485568958087,65.32489840478007,67.66643731549007,70.04947242171096,72.47400372344264,74.94003122068516,77.44755491343855,79.99657480170275,82.58709088547782,85.21910316476371,87.89261163956043,90.60761630986802,93.36411717568642,96.16211423701569,99.00160749385576,101.88259694620669,104.80508259406848,107.76906443744106,110.77454247632454,113.82151671071881,116.90998714062394,120.0399537660399,123.21141658696675,126.42437560340437,129.67883081535285,132.97478222281217,136.3122298257823,139.69117362426337,143.1116136182552,146.57354980775787,150.07698219277137,153.62191077329572,157.20833554933097,160.83625652087701,164.50567368793386,168.2165870505016,171.96899660858014,175.7629023621696,179.5983043112698,183.4752024558809],&quot;type&quot;:&quot;scatter&quot;,&quot;name&quot;:&quot;f(x)&quot;,&quot;x&quot;:[-10.0,-9.9,-9.8,-9.7,-9.6,-9.5,-9.4,-9.3,-9.2,-9.1,-9.0,-8.9,-8.8,-8.7,-8.6,-8.5,-8.4,-8.3,-8.2,-8.1,-8.0,-7.9,-7.8,-7.7,-7.6,-7.5,-7.4,-7.3,-7.2,-7.1,-7.0,-6.9,-6.8,-6.7,-6.6,-6.5,-6.4,-6.3,-6.2,-6.1,-6.0,-5.9,-5.8,-5.7,-5.6,-5.5,-5.4,-5.3,-5.2,-5.1,-5.0,-4.9,-4.8,-4.7,-4.6,-4.5,-4.4,-4.3,-4.2,-4.1,-4.0,-3.9,-3.8,-3.7,-3.6,-3.5,-3.4,-3.3,-3.2,-3.1,-3.0,-2.9,-2.8,-2.7,-2.6,-2.5,-2.4,-2.3,-2.2,-2.1,-2.0,-1.9,-1.8,-1.7,-1.6,-1.5,-1.4,-1.3,-1.2,-1.1,-1.0,-0.9,-0.8,-0.7,-0.6,-0.5,-0.4,-0.3,-0.2,-0.1,0.0,0.1,0.2,0.3,0.4,0.5,0.6,0.7,0.8,0.9,1.0,1.1,1.2,1.3,1.4,1.5,1.6,1.7,1.8,1.9,2.0,2.1,2.2,2.3,2.4,2.5,2.6,2.7,2.8,2.9,3.0,3.1,3.2,3.3,3.4,3.5,3.6,3.7,3.8,3.9,4.0,4.1,4.2,4.3,4.4,4.5,4.6,4.7,4.8,4.9,5.0,5.1,5.2,5.3,5.4,5.5,5.6,5.7,5.8,5.9,6.0,6.1,6.2,6.3,6.4,6.5,6.6,6.7,6.8,6.9,7.0,7.1,7.2,7.3,7.4,7.5,7.6,7.7,7.8,7.9,8.0,8.1,8.2,8.3,8.4,8.5,8.6,8.7,8.8,8.9,9.0,9.1,9.2,9.3,9.4,9.5,9.6,9.7,9.8,9.9,10.0]},{&quot;y&quot;:[233.83536419937138,229.45521093732543,225.11654687079033,220.81937199976593,216.5636863242525,212.34948984424986,208.17678255975812,204.04556447077715,199.955835577307,195.90759587934775,191.90084537689933,187.93558406996178,184.01181195853502,180.12952904261905,176.288735322214,172.48943079731978,168.73161546793642,165.01528933406388,161.34045239570213,157.70710465285126,154.11524610551123,150.56487675368203,147.05599659736367,143.58860563655617,140.16270387125948,136.77829130147364,133.43536792719866,130.1339337484345,126.8739887651812,123.6555329774387,120.47856638520707,117.34308898848629,114.24910078727629,111.19660178157719,108.18559197138889,105.21607135671147,102.2880399375449,99.4014977138891,96.5564446857442,93.75288085311009,90.99080621598685,88.27022077437445,85.59112452827289,82.95351747768217,80.35739962260227,77.80277096303324,75.28963149897504,72.81798123042766,70.38782015739115,67.99914827986544,65.65196559785059,63.34627211134661,61.082067820353416,58.8593527248711,56.67812682489959,54.53839012043895,52.44014261148915,50.38338429805017,48.36811518012204,46.39433525770474,44.462044530798295,42.57124299940268,40.7219306635179,38.91410752314397,37.14777357828088,35.42292882892862,33.7395732750872,32.09770691675662,30.4973297539369,28.938441786627997,27.421043014829937,25.94513343854272,24.51071305776634,23.117781872500803,21.766339882746102,20.45638708850224,19.18792348976922,17.96094908654704,16.7754638788357,15.631467866635196,14.528961049945533,13.46794342876671,12.448415003098727,11.47037577294158,10.533825738295281,9.638764899159813,8.785193255535187,7.973110807421403,7.202517554818455,6.473413497726348,5.78579863614508,5.139672970074653,4.535036499515065,3.9718892244663144,3.4502311449284053,2.9700622609013356,2.5313825723851053,2.1341920793797144,1.778490781885163,1.464278679901451,1.1915557734285787,0.9603220624665458,0.7705775470153524,0.6223222270749986,0.5155561026454842,0.4502791737268095,0.42649144031897424,0.4441929024219784,0.5033835600358223,0.6040634131605056,0.7462324617960281,0.9298907059423906,1.1550381455995922,1.421674780767634,1.7298006114465139,2.079415637636234,2.4705198593367954,2.903113276548193,3.3771958892704332,3.8927676975035106,4.449828701247428,5.048378900502186,5.688418295267784,6.369946885544218,7.0929646713314956,7.857471652629611,8.663467829438568,9.510953201758362,10.399927769588992,11.330391532930468,12.30234449178278,13.315786646145936,14.37071799601993,15.467138541404754,16.605048282300423,17.78444721870694,19.005335350624293,20.26771267805248,21.571579200991508,22.916934919441374,24.303779833402082,25.73211394287363,27.201937247856023,28.71324974834924,30.266051444353316,31.860342335868214,33.496122422893954,35.173391705430554,36.892150183477966,38.65239785703625,40.45413472610534,42.297360790685275,44.182076050776075,46.10828050637769,48.07597415749015,50.08515700411345,52.13582904624758,54.22799028389257,56.36164071704839,58.536780345715044,60.753409169892535,63.01152718958087,65.31113440478006,67.65223081549007,70.03481642171096,72.45889122344263,74.92445522068515,77.43150841343854,79.98005080170273,82.57008238547783,85.20160316476371,87.87461313956042,90.58911230986801,93.34510067568641,96.14257823701567,98.98154499385575,101.86200094620668,104.78394609406848,107.74738043744107,110.75230397632453,113.79871671071881,116.88661864062394,120.0160097660399,123.18689008696674,126.39925960340437,129.65311831535283,132.94846622281216,136.2853033257823,139.66362962426336,143.0834451182552,146.54474980775785,150.04754369277137,153.5918267732957,157.17759904933098,160.804860520877,164.47361118793387,168.1838510505016,171.93558010858013,175.7287983621696,179.5635058112698,183.43970245588088],&quot;type&quot;:&quot;scatter&quot;,&quot;name&quot;:&quot;f_tracked_data(x)&quot;,&quot;x&quot;:[-10.0,-9.9,-9.8,-9.7,-9.6,-9.5,-9.4,-9.3,-9.2,-9.1,-9.0,-8.9,-8.8,-8.7,-8.6,-8.5,-8.4,-8.3,-8.2,-8.1,-8.0,-7.9,-7.8,-7.7,-7.6,-7.5,-7.4,-7.3,-7.2,-7.1,-7.0,-6.9,-6.8,-6.7,-6.6,-6.5,-6.4,-6.3,-6.2,-6.1,-6.0,-5.9,-5.8,-5.7,-5.6,-5.5,-5.4,-5.3,-5.2,-5.1,-5.0,-4.9,-4.8,-4.7,-4.6,-4.5,-4.4,-4.3,-4.2,-4.1,-4.0,-3.9,-3.8,-3.7,-3.6,-3.5,-3.4,-3.3,-3.2,-3.1,-3.0,-2.9,-2.8,-2.7,-2.6,-2.5,-2.4,-2.3,-2.2,-2.1,-2.0,-1.9,-1.8,-1.7,-1.6,-1.5,-1.4,-1.3,-1.2,-1.1,-1.0,-0.9,-0.8,-0.7,-0.6,-0.5,-0.4,-0.3,-0.2,-0.1,0.0,0.1,0.2,0.3,0.4,0.5,0.6,0.7,0.8,0.9,1.0,1.1,1.2,1.3,1.4,1.5,1.6,1.7,1.8,1.9,2.0,2.1,2.2,2.3,2.4,2.5,2.6,2.7,2.8,2.9,3.0,3.1,3.2,3.3,3.4,3.5,3.6,3.7,3.8,3.9,4.0,4.1,4.2,4.3,4.4,4.5,4.6,4.7,4.8,4.9,5.0,5.1,5.2,5.3,5.4,5.5,5.6,5.7,5.8,5.9,6.0,6.1,6.2,6.3,6.4,6.5,6.6,6.7,6.8,6.9,7.0,7.1,7.2,7.3,7.4,7.5,7.6,7.7,7.8,7.9,8.0,8.1,8.2,8.3,8.4,8.5,8.6,8.7,8.8,8.9,9.0,9.1,9.2,9.3,9.4,9.5,9.6,9.7,9.8,9.9,10.0]}],{&quot;margin&quot;:{&quot;l&quot;:50,&quot;b&quot;:50,&quot;r&quot;:50,&quot;t&quot;:60}},{}); gd.on(&quot;plotly_hover&quot;,(function (data){var filtered_data=WebIO.CommandSets.Plotly.filterEventData(gd,data,&quot;hover&quot;); return !(filtered_data.isnil) ? (WebIO.setval({&quot;name&quot;:&quot;hover&quot;,&quot;scope&quot;:&quot;scope-bc135559-0e2e-4c6b-8a85-896b694529b6&quot;,&quot;id&quot;:&quot;ob_321&quot;,&quot;type&quot;:&quot;observable&quot;},filtered_data.out)) : undefined})); gd.on(&quot;plotly_unhover&quot;,(function (){return WebIO.setval({&quot;name&quot;:&quot;hover&quot;,&quot;scope&quot;:&quot;scope-bc135559-0e2e-4c6b-8a85-896b694529b6&quot;,&quot;id&quot;:&quot;ob_321&quot;,&quot;type&quot;:&quot;observable&quot;},{})})); gd.on(&quot;plotly_selected&quot;,(function (data){var filtered_data=WebIO.CommandSets.Plotly.filterEventData(gd,data,&quot;selected&quot;); return !(filtered_data.isnil) ? (WebIO.setval({&quot;name&quot;:&quot;selected&quot;,&quot;scope&quot;:&quot;scope-bc135559-0e2e-4c6b-8a85-896b694529b6&quot;,&quot;id&quot;:&quot;ob_322&quot;,&quot;type&quot;:&quot;observable&quot;},filtered_data.out)) : undefined})); gd.on(&quot;plotly_deselect&quot;,(function (){return WebIO.setval({&quot;name&quot;:&quot;selected&quot;,&quot;scope&quot;:&quot;scope-bc135559-0e2e-4c6b-8a85-896b694529b6&quot;,&quot;id&quot;:&quot;ob_322&quot;,&quot;type&quot;:&quot;observable&quot;},{})})); gd.on(&quot;plotly_relayout&quot;,(function (data){var filtered_data=WebIO.CommandSets.Plotly.filterEventData(gd,data,&quot;relayout&quot;); return !(filtered_data.isnil) ? (WebIO.setval({&quot;name&quot;:&quot;relayout&quot;,&quot;scope&quot;:&quot;scope-bc135559-0e2e-4c6b-8a85-896b694529b6&quot;,&quot;id&quot;:&quot;ob_324&quot;,&quot;type&quot;:&quot;observable&quot;},filtered_data.out)) : undefined})); return gd.on(&quot;plotly_click&quot;,(function (data){var filtered_data=WebIO.CommandSets.Plotly.filterEventData(gd,data,&quot;click&quot;); return !(filtered_data.isnil) ? (WebIO.setval({&quot;name&quot;:&quot;click&quot;,&quot;scope&quot;:&quot;scope-bc135559-0e2e-4c6b-8a85-896b694529b6&quot;,&quot;id&quot;:&quot;ob_323&quot;,&quot;type&quot;:&quot;observable&quot;},filtered_data.out)) : undefined}))})]},&quot;_downloadImage&quot;:[(function (options){return this.Plotly.downloadImage(this.plotElem,options)})],&quot;_commands&quot;:[(function (args){var fn=args.shift(); var elem=this.plotElem; var Plotly=this.Plotly; args.unshift(elem); return Plotly[fn].apply(this,args)})]},&quot;systemjs_options&quot;:null,&quot;observables&quot;:{&quot;_toImage&quot;:{&quot;sync&quot;:false,&quot;id&quot;:&quot;ob_328&quot;,&quot;value&quot;:{}},&quot;hover&quot;:{&quot;sync&quot;:false,&quot;id&quot;:&quot;ob_321&quot;,&quot;value&quot;:{}},&quot;selected&quot;:{&quot;sync&quot;:false,&quot;id&quot;:&quot;ob_322&quot;,&quot;value&quot;:{}},&quot;__gd_contents&quot;:{&quot;sync&quot;:false,&quot;id&quot;:&quot;ob_326&quot;,&quot;value&quot;:{}},&quot;click&quot;:{&quot;sync&quot;:false,&quot;id&quot;:&quot;ob_323&quot;,&quot;value&quot;:{}},&quot;image&quot;:{&quot;sync&quot;:true,&quot;id&quot;:&quot;ob_325&quot;,&quot;value&quot;:&quot;&quot;},&quot;__get_gd_contents&quot;:{&quot;sync&quot;:false,&quot;id&quot;:&quot;ob_330&quot;,&quot;value&quot;:&quot;&quot;},&quot;_downloadImage&quot;:{&quot;sync&quot;:false,&quot;id&quot;:&quot;ob_329&quot;,&quot;value&quot;:{}},&quot;relayout&quot;:{&quot;sync&quot;:false,&quot;id&quot;:&quot;ob_324&quot;,&quot;value&quot;:{}},&quot;_commands&quot;:{&quot;sync&quot;:false,&quot;id&quot;:&quot;ob_327&quot;,&quot;value&quot;:[]}}},&quot;children&quot;:[{&quot;props&quot;:{&quot;id&quot;:&quot;plot-db68093e-d20f-4a97-bf96-201b89e5ed41&quot;},&quot;nodeType&quot;:&quot;DOM&quot;,&quot;type&quot;:&quot;node&quot;,&quot;instanceArgs&quot;:{&quot;namespace&quot;:&quot;html&quot;,&quot;tag&quot;:&quot;div&quot;},&quot;children&quot;:[]}]})</unsafe-script>"
      ],
      "text/plain": [
       "data: [\n",
       "  \"scatter with fields name, type, x, and y\",\n",
       "  \"scatter with fields name, type, x, and y\",\n",
       "  \"scatter with fields name, type, x, and y\"\n",
       "]\n",
       "\n",
       "layout: \"layout with field margin\"\n",
       "\n"
      ]
     },
     "execution_count": 58,
     "metadata": {},
     "output_type": "execute_result"
    }
   ],
   "source": [
    "plot_x_fx_ftrackedx()"
   ]
  },
  {
   "cell_type": "markdown",
   "metadata": {},
   "source": [
    "Alright, a bit more of a difference!  Now let's write a loop that runs an iteration for every x from -10 to 10, taking a step of 0.1 each time, and returning the average loss.  We'll call this a `training_epoch()`:"
   ]
  },
  {
   "cell_type": "code",
   "execution_count": 59,
   "metadata": {},
   "outputs": [
    {
     "data": {
      "text/plain": [
       "64.89673077450595"
      ]
     },
     "execution_count": 59,
     "metadata": {},
     "output_type": "execute_result"
    }
   ],
   "source": [
    "function training_epoch(true_model, model)\n",
    "    avg_loss = 0.0\n",
    "    range = -10:0.1:10\n",
    "    for x in range\n",
    "        # Perform forward pass, calculating loss\n",
    "        l = l2_loss(true_model(x), model(x))\n",
    "\n",
    "        # Attribute loss back onto w\n",
    "        Flux.Tracker.back!(l)\n",
    "        \n",
    "        # Accumulate average loss\n",
    "        avg_loss += l.data ./ length(range)\n",
    "\n",
    "        # Update w\n",
    "        w_tracked.data[:] -= w_tracked.grad .* η\n",
    "        w_tracked.grad[:] .= 0.0\n",
    "    end\n",
    "    return avg_loss\n",
    "end\n",
    "\n",
    "training_epoch(abs, f_tracked)"
   ]
  },
  {
   "cell_type": "code",
   "execution_count": 60,
   "metadata": {
    "scrolled": false
   },
   "outputs": [
    {
     "data": {
      "text/html": [
       "<div class='display:none'></div><unsafe-script style='display:none'>\n",
       "WebIO.mount(this.previousSibling,{&quot;props&quot;:{},&quot;nodeType&quot;:&quot;Scope&quot;,&quot;type&quot;:&quot;node&quot;,&quot;instanceArgs&quot;:{&quot;imports&quot;:{&quot;data&quot;:[{&quot;name&quot;:&quot;Plotly&quot;,&quot;type&quot;:&quot;js&quot;,&quot;url&quot;:&quot;/assetserver/ca0d1d661ba20f29c3bcdb3136fc5e131d9ae531-plotly-latest.min.js&quot;},{&quot;name&quot;:null,&quot;type&quot;:&quot;js&quot;,&quot;url&quot;:&quot;/assetserver/df76365695a2e6ab133a286a764f9caca195cb05-plotly_webio.bundle.js&quot;}],&quot;type&quot;:&quot;async_block&quot;},&quot;id&quot;:&quot;scope-76962463-710e-46e1-b3ca-691df66cc0ae&quot;,&quot;handlers&quot;:{&quot;_toImage&quot;:[(function (options){return this.Plotly.toImage(this.plotElem,options).then((function (data){return WebIO.setval({&quot;name&quot;:&quot;image&quot;,&quot;scope&quot;:&quot;scope-76962463-710e-46e1-b3ca-691df66cc0ae&quot;,&quot;id&quot;:&quot;ob_335&quot;,&quot;type&quot;:&quot;observable&quot;},data)}))})],&quot;__get_gd_contents&quot;:[(function (prop){prop==&quot;data&quot; ? (WebIO.setval({&quot;name&quot;:&quot;__gd_contents&quot;,&quot;scope&quot;:&quot;scope-76962463-710e-46e1-b3ca-691df66cc0ae&quot;,&quot;id&quot;:&quot;ob_336&quot;,&quot;type&quot;:&quot;observable&quot;},this.plotElem.data)) : undefined; return prop==&quot;layout&quot; ? (WebIO.setval({&quot;name&quot;:&quot;__gd_contents&quot;,&quot;scope&quot;:&quot;scope-76962463-710e-46e1-b3ca-691df66cc0ae&quot;,&quot;id&quot;:&quot;ob_336&quot;,&quot;type&quot;:&quot;observable&quot;},this.plotElem.layout)) : undefined})],&quot;_promises&quot;:{&quot;importsLoaded&quot;:[(function (Plotly){var gd=this.dom.querySelector(&quot;#plot-989b5753-2fbc-4ec0-9a07-c6aab0436c9c&quot;); this.plotElem=gd; this.Plotly=Plotly; (window.Blink!==undefined) ? (gd.style.width=&quot;100%&quot;, gd.style.height=&quot;100vh&quot;, gd.style.marginLeft=&quot;0%&quot;, gd.style.marginTop=&quot;0vh&quot;) : undefined; window.onresize=(function (){return Plotly.Plots.resize(gd)}); Plotly.newPlot(gd,[{&quot;y&quot;:[10.0,9.9,9.8,9.7,9.6,9.5,9.4,9.3,9.2,9.1,9.0,8.9,8.8,8.7,8.6,8.5,8.4,8.3,8.2,8.1,8.0,7.9,7.8,7.7,7.6,7.5,7.4,7.3,7.2,7.1,7.0,6.9,6.8,6.7,6.6,6.5,6.4,6.3,6.2,6.1,6.0,5.9,5.8,5.7,5.6,5.5,5.4,5.3,5.2,5.1,5.0,4.9,4.8,4.7,4.6,4.5,4.4,4.3,4.2,4.1,4.0,3.9,3.8,3.7,3.6,3.5,3.4,3.3,3.2,3.1,3.0,2.9,2.8,2.7,2.6,2.5,2.4,2.3,2.2,2.1,2.0,1.9,1.8,1.7,1.6,1.5,1.4,1.3,1.2,1.1,1.0,0.9,0.8,0.7,0.6,0.5,0.4,0.3,0.2,0.1,0.0,0.1,0.2,0.3,0.4,0.5,0.6,0.7,0.8,0.9,1.0,1.1,1.2,1.3,1.4,1.5,1.6,1.7,1.8,1.9,2.0,2.1,2.2,2.3,2.4,2.5,2.6,2.7,2.8,2.9,3.0,3.1,3.2,3.3,3.4,3.5,3.6,3.7,3.8,3.9,4.0,4.1,4.2,4.3,4.4,4.5,4.6,4.7,4.8,4.9,5.0,5.1,5.2,5.3,5.4,5.5,5.6,5.7,5.8,5.9,6.0,6.1,6.2,6.3,6.4,6.5,6.6,6.7,6.8,6.9,7.0,7.1,7.2,7.3,7.4,7.5,7.6,7.7,7.8,7.9,8.0,8.1,8.2,8.3,8.4,8.5,8.6,8.7,8.8,8.9,9.0,9.1,9.2,9.3,9.4,9.5,9.6,9.7,9.8,9.9,10.0],&quot;type&quot;:&quot;scatter&quot;,&quot;name&quot;:&quot;|x|&quot;,&quot;x&quot;:[-10.0,-9.9,-9.8,-9.7,-9.6,-9.5,-9.4,-9.3,-9.2,-9.1,-9.0,-8.9,-8.8,-8.7,-8.6,-8.5,-8.4,-8.3,-8.2,-8.1,-8.0,-7.9,-7.8,-7.7,-7.6,-7.5,-7.4,-7.3,-7.2,-7.1,-7.0,-6.9,-6.8,-6.7,-6.6,-6.5,-6.4,-6.3,-6.2,-6.1,-6.0,-5.9,-5.8,-5.7,-5.6,-5.5,-5.4,-5.3,-5.2,-5.1,-5.0,-4.9,-4.8,-4.7,-4.6,-4.5,-4.4,-4.3,-4.2,-4.1,-4.0,-3.9,-3.8,-3.7,-3.6,-3.5,-3.4,-3.3,-3.2,-3.1,-3.0,-2.9,-2.8,-2.7,-2.6,-2.5,-2.4,-2.3,-2.2,-2.1,-2.0,-1.9,-1.8,-1.7,-1.6,-1.5,-1.4,-1.3,-1.2,-1.1,-1.0,-0.9,-0.8,-0.7,-0.6,-0.5,-0.4,-0.3,-0.2,-0.1,0.0,0.1,0.2,0.3,0.4,0.5,0.6,0.7,0.8,0.9,1.0,1.1,1.2,1.3,1.4,1.5,1.6,1.7,1.8,1.9,2.0,2.1,2.2,2.3,2.4,2.5,2.6,2.7,2.8,2.9,3.0,3.1,3.2,3.3,3.4,3.5,3.6,3.7,3.8,3.9,4.0,4.1,4.2,4.3,4.4,4.5,4.6,4.7,4.8,4.9,5.0,5.1,5.2,5.3,5.4,5.5,5.6,5.7,5.8,5.9,6.0,6.1,6.2,6.3,6.4,6.5,6.6,6.7,6.8,6.9,7.0,7.1,7.2,7.3,7.4,7.5,7.6,7.7,7.8,7.9,8.0,8.1,8.2,8.3,8.4,8.5,8.6,8.7,8.8,8.9,9.0,9.1,9.2,9.3,9.4,9.5,9.6,9.7,9.8,9.9,10.0]},{&quot;y&quot;:[233.86986419937142,229.48901943732542,225.14967087079032,220.85181849976595,216.5954623242525,212.38060234424987,208.2072385597581,204.07537097077716,199.984999577307,195.93612437934775,191.92874537689934,187.96286256996177,184.03847595853503,180.15558554261906,176.31419132221401,172.5142932973198,168.7558914679364,165.03898583406388,161.36357639570213,157.72966315285126,154.13724610551122,150.58632525368205,147.07690059736368,143.6089721365562,140.18253987125948,136.79760380147366,133.45416392719866,130.1522202484345,126.8917727651812,123.6728214774387,120.49536638520708,117.35940748848628,114.2649447872763,111.2119782815772,108.2005079713889,105.23053385671147,102.30205593754489,99.4150742138891,96.5695886857442,93.76559935311009,91.00310621598686,88.28210927437446,85.6026085282729,82.96460397768217,80.36809562260227,77.81308346303324,75.29956749897504,72.82754773042765,70.39702415739114,68.00799677986545,65.6604655978506,63.3544306113466,61.08989182035342,58.8668492248711,56.685302824899594,54.54525262043896,52.446698611489154,50.389640798050166,48.374079180122045,46.40001375770474,44.467444530798296,42.576371499402676,40.72679466351791,38.91871402314398,37.15212957828088,35.427041328928624,33.7434492750872,32.10135341675662,30.5007537539369,28.941650286627997,27.42404301482994,25.947931938542723,24.513317057766336,23.120198372500802,21.768575882746106,20.45844958850224,19.18981948976922,17.96268558654704,16.777047878835702,15.632906366635197,14.530261049945533,13.46911192876671,12.449459003098728,11.471302272941582,10.53464173829528,9.639477399159812,8.785809255535186,7.973637307421402,7.2029615548184545,6.473781997726348,5.786098636145081,5.139911470074653,4.535220499515065,3.972025724466315,3.4503271449284054,2.970124760901336,2.531418572385105,2.1342085793797145,1.778494781885163,1.4642771799014511,1.1915557734285787,0.9603305624665457,0.7706015470153524,0.6223687270749987,0.5156321026454842,0.45039167372680944,0.4266474403189743,0.4443994024219782,0.5036475600358221,0.6043919131605053,0.746632461796028,0.9303692059423905,1.1556021455995924,1.4223312807676338,1.7305566114465134,2.0802781376362343,2.471495859336795,2.904209776548193,3.378419889270433,3.894126197503511,4.451328701247428,5.050027400502186,5.690222295267784,6.371913385544218,7.095100671331496,7.8597841526296115,8.665963829438567,9.513639701758361,10.402811769588991,11.333480032930469,12.30564449178278,13.319305146145934,14.37446199601993,15.471115041404754,16.609264282300426,17.78890971870694,19.01005135062429,20.27268917805248,21.576823200991505,22.922453419441375,24.309579833402083,25.738202442873632,27.20832124785602,28.719936248349246,30.273047444353317,31.86765483586822,33.50375842289396,35.181358205430556,36.900454183477976,38.66104635703624,40.463134726105345,42.30671929068528,44.191800050776074,46.118377006377685,48.086450157490155,50.09601950411345,52.147085046247575,54.239646783892574,56.37370471704839,58.54925884571505,60.766309169892544,63.02485568958087,65.32489840478007,67.66643731549007,70.04947242171096,72.47400372344264,74.94003122068516,77.44755491343855,79.99657480170275,82.58709088547782,85.21910316476371,87.89261163956043,90.60761630986802,93.36411717568642,96.16211423701569,99.00160749385576,101.88259694620669,104.80508259406848,107.76906443744106,110.77454247632454,113.82151671071881,116.90998714062394,120.0399537660399,123.21141658696675,126.42437560340437,129.67883081535285,132.97478222281217,136.3122298257823,139.69117362426337,143.1116136182552,146.57354980775787,150.07698219277137,153.62191077329572,157.20833554933097,160.83625652087701,164.50567368793386,168.2165870505016,171.96899660858014,175.7629023621696,179.5983043112698,183.4752024558809],&quot;type&quot;:&quot;scatter&quot;,&quot;name&quot;:&quot;f(x)&quot;,&quot;x&quot;:[-10.0,-9.9,-9.8,-9.7,-9.6,-9.5,-9.4,-9.3,-9.2,-9.1,-9.0,-8.9,-8.8,-8.7,-8.6,-8.5,-8.4,-8.3,-8.2,-8.1,-8.0,-7.9,-7.8,-7.7,-7.6,-7.5,-7.4,-7.3,-7.2,-7.1,-7.0,-6.9,-6.8,-6.7,-6.6,-6.5,-6.4,-6.3,-6.2,-6.1,-6.0,-5.9,-5.8,-5.7,-5.6,-5.5,-5.4,-5.3,-5.2,-5.1,-5.0,-4.9,-4.8,-4.7,-4.6,-4.5,-4.4,-4.3,-4.2,-4.1,-4.0,-3.9,-3.8,-3.7,-3.6,-3.5,-3.4,-3.3,-3.2,-3.1,-3.0,-2.9,-2.8,-2.7,-2.6,-2.5,-2.4,-2.3,-2.2,-2.1,-2.0,-1.9,-1.8,-1.7,-1.6,-1.5,-1.4,-1.3,-1.2,-1.1,-1.0,-0.9,-0.8,-0.7,-0.6,-0.5,-0.4,-0.3,-0.2,-0.1,0.0,0.1,0.2,0.3,0.4,0.5,0.6,0.7,0.8,0.9,1.0,1.1,1.2,1.3,1.4,1.5,1.6,1.7,1.8,1.9,2.0,2.1,2.2,2.3,2.4,2.5,2.6,2.7,2.8,2.9,3.0,3.1,3.2,3.3,3.4,3.5,3.6,3.7,3.8,3.9,4.0,4.1,4.2,4.3,4.4,4.5,4.6,4.7,4.8,4.9,5.0,5.1,5.2,5.3,5.4,5.5,5.6,5.7,5.8,5.9,6.0,6.1,6.2,6.3,6.4,6.5,6.6,6.7,6.8,6.9,7.0,7.1,7.2,7.3,7.4,7.5,7.6,7.7,7.8,7.9,8.0,8.1,8.2,8.3,8.4,8.5,8.6,8.7,8.8,8.9,9.0,9.1,9.2,9.3,9.4,9.5,9.6,9.7,9.8,9.9,10.0]},{&quot;y&quot;:[227.07755419937163,222.83183107732566,218.62624623079054,214.46079965976617,210.33549136425273,206.2503213442501,202.20528959975834,198.20039613077736,194.2356409373072,190.31102401934794,186.42654537689955,182.58220500996197,178.7780029185352,175.01393910261925,171.2900135622142,167.60622629731998,163.96257730793658,160.35906659406405,156.79569415570228,153.2724599928514,149.78936410551137,146.3464064936822,142.94358715736382,139.5809060965563,136.25836331125961,132.97595880147378,129.7336925671988,126.53156460843462,123.36957492518133,120.24772351743883,117.16601038520719,114.1244355284864,111.1229989472764,108.1617006415773,105.240540611389,102.35951885671156,99.51863537754498,96.71789017388919,93.95728324574428,91.23681459311017,88.55648421598694,85.91629211437454,83.31623828827297,80.75632273768224,78.23654546260234,75.7569064630333,73.3174057389751,70.91804329042773,68.55881911739121,66.2397332198655,63.960785597850645,61.721976251346646,59.523305180353475,57.364772384871145,55.246377864899635,53.168121620438995,51.13000365148918,49.132023958050205,47.174182540122075,45.25647939770478,43.378914530798326,41.54148793940271,39.74419962351793,37.987049583144,36.2700378182809,34.59316432892864,32.95642911508722,31.359832176756644,29.803373513936915,28.28705312662801,26.81087101482995,25.37482717854273,23.978921617766346,22.62315433250081,21.30752532274611,20.032034588502245,18.796682129769223,17.60146794654704,16.4463920388357,15.331454406635196,14.256655049945532,13.221993968766707,12.227471163098723,11.273086632941578,10.358840378295275,9.484732399159807,8.65076269553518,7.856931267421395,7.103238114818447,6.38968323772634,5.716266636145072,5.082988310074643,4.489848259515054,3.9368464844663045,3.4239829849283945,2.951257760901324,2.518670812385094,2.1262221393797027,1.773911741885151,1.4617396199014392,1.1897057734285665,0.9578102024665336,0.7660529070153403,0.6144338870749866,0.5029531426454723,0.43161067372679773,0.40040648031896275,0.40934056242196715,0.45841292003581136,0.5476235531604952,0.676972461796018,0.8464596459423808,1.0560851055995832,1.3058488407676254,1.595750851446506,1.9257911376362271,2.295969699336789,2.7062865365481876,3.1567416492704288,3.647335037503507,4.178066701247426,4.748936640502184,5.359944855267782,6.011091345544218,6.702376111331497,7.4337991526296125,8.20536046943857,9.017060061758366,9.868897929588998,10.760874072930477,11.692988491782788,12.665241186145945,13.677632156019943,14.730161401404768,15.822828922300442,16.955634718706953,18.12857879062431,19.3416611380525,20.59488176099153,21.8882406594414,23.22173783340211,24.59537328287366,26.00914700785605,27.463059008349276,28.957109284353347,30.491297835868256,32.065624662893995,33.680089765430594,35.33469314347802,37.02943479703629,38.76431472610538,40.539332930685326,42.354489410776125,44.209784166377744,46.105217197490205,48.04078850411351,50.01649808624764,52.032345943892636,54.08833207704846,56.184456485715124,58.32071916989262,60.49712012958094,62.71365936478014,64.97033687549015,67.26715266171104,69.60410672344271,71.98119906068524,74.39842967343864,76.85579856170284,79.35330572547792,81.8909511647638,84.46873487956054,87.08665686986814,89.74471713568654,92.4429156770158,95.1812524938559,97.95972758620682,100.77834095406861,103.63709259744121,106.53598251632468,109.47501071071895,112.45417718062407,115.47348192604005,118.53292494696689,121.63250624340452,124.77222581535301,127.95208366281233,131.17207978578247,134.43221418426353,137.73248685825538,141.07289780775807,144.45344703277155,147.87413453329592,151.33496030933117,154.83592436087724,158.3770266879341,161.95826729050182,165.57964616858035,169.24116332216983,172.94281875127004,176.6846124558811],&quot;type&quot;:&quot;scatter&quot;,&quot;name&quot;:&quot;f_tracked_data(x)&quot;,&quot;x&quot;:[-10.0,-9.9,-9.8,-9.7,-9.6,-9.5,-9.4,-9.3,-9.2,-9.1,-9.0,-8.9,-8.8,-8.7,-8.6,-8.5,-8.4,-8.3,-8.2,-8.1,-8.0,-7.9,-7.8,-7.7,-7.6,-7.5,-7.4,-7.3,-7.2,-7.1,-7.0,-6.9,-6.8,-6.7,-6.6,-6.5,-6.4,-6.3,-6.2,-6.1,-6.0,-5.9,-5.8,-5.7,-5.6,-5.5,-5.4,-5.3,-5.2,-5.1,-5.0,-4.9,-4.8,-4.7,-4.6,-4.5,-4.4,-4.3,-4.2,-4.1,-4.0,-3.9,-3.8,-3.7,-3.6,-3.5,-3.4,-3.3,-3.2,-3.1,-3.0,-2.9,-2.8,-2.7,-2.6,-2.5,-2.4,-2.3,-2.2,-2.1,-2.0,-1.9,-1.8,-1.7,-1.6,-1.5,-1.4,-1.3,-1.2,-1.1,-1.0,-0.9,-0.8,-0.7,-0.6,-0.5,-0.4,-0.3,-0.2,-0.1,0.0,0.1,0.2,0.3,0.4,0.5,0.6,0.7,0.8,0.9,1.0,1.1,1.2,1.3,1.4,1.5,1.6,1.7,1.8,1.9,2.0,2.1,2.2,2.3,2.4,2.5,2.6,2.7,2.8,2.9,3.0,3.1,3.2,3.3,3.4,3.5,3.6,3.7,3.8,3.9,4.0,4.1,4.2,4.3,4.4,4.5,4.6,4.7,4.8,4.9,5.0,5.1,5.2,5.3,5.4,5.5,5.6,5.7,5.8,5.9,6.0,6.1,6.2,6.3,6.4,6.5,6.6,6.7,6.8,6.9,7.0,7.1,7.2,7.3,7.4,7.5,7.6,7.7,7.8,7.9,8.0,8.1,8.2,8.3,8.4,8.5,8.6,8.7,8.8,8.9,9.0,9.1,9.2,9.3,9.4,9.5,9.6,9.7,9.8,9.9,10.0]}],{&quot;margin&quot;:{&quot;l&quot;:50,&quot;b&quot;:50,&quot;r&quot;:50,&quot;t&quot;:60}},{}); gd.on(&quot;plotly_hover&quot;,(function (data){var filtered_data=WebIO.CommandSets.Plotly.filterEventData(gd,data,&quot;hover&quot;); return !(filtered_data.isnil) ? (WebIO.setval({&quot;name&quot;:&quot;hover&quot;,&quot;scope&quot;:&quot;scope-76962463-710e-46e1-b3ca-691df66cc0ae&quot;,&quot;id&quot;:&quot;ob_331&quot;,&quot;type&quot;:&quot;observable&quot;},filtered_data.out)) : undefined})); gd.on(&quot;plotly_unhover&quot;,(function (){return WebIO.setval({&quot;name&quot;:&quot;hover&quot;,&quot;scope&quot;:&quot;scope-76962463-710e-46e1-b3ca-691df66cc0ae&quot;,&quot;id&quot;:&quot;ob_331&quot;,&quot;type&quot;:&quot;observable&quot;},{})})); gd.on(&quot;plotly_selected&quot;,(function (data){var filtered_data=WebIO.CommandSets.Plotly.filterEventData(gd,data,&quot;selected&quot;); return !(filtered_data.isnil) ? (WebIO.setval({&quot;name&quot;:&quot;selected&quot;,&quot;scope&quot;:&quot;scope-76962463-710e-46e1-b3ca-691df66cc0ae&quot;,&quot;id&quot;:&quot;ob_332&quot;,&quot;type&quot;:&quot;observable&quot;},filtered_data.out)) : undefined})); gd.on(&quot;plotly_deselect&quot;,(function (){return WebIO.setval({&quot;name&quot;:&quot;selected&quot;,&quot;scope&quot;:&quot;scope-76962463-710e-46e1-b3ca-691df66cc0ae&quot;,&quot;id&quot;:&quot;ob_332&quot;,&quot;type&quot;:&quot;observable&quot;},{})})); gd.on(&quot;plotly_relayout&quot;,(function (data){var filtered_data=WebIO.CommandSets.Plotly.filterEventData(gd,data,&quot;relayout&quot;); return !(filtered_data.isnil) ? (WebIO.setval({&quot;name&quot;:&quot;relayout&quot;,&quot;scope&quot;:&quot;scope-76962463-710e-46e1-b3ca-691df66cc0ae&quot;,&quot;id&quot;:&quot;ob_334&quot;,&quot;type&quot;:&quot;observable&quot;},filtered_data.out)) : undefined})); return gd.on(&quot;plotly_click&quot;,(function (data){var filtered_data=WebIO.CommandSets.Plotly.filterEventData(gd,data,&quot;click&quot;); return !(filtered_data.isnil) ? (WebIO.setval({&quot;name&quot;:&quot;click&quot;,&quot;scope&quot;:&quot;scope-76962463-710e-46e1-b3ca-691df66cc0ae&quot;,&quot;id&quot;:&quot;ob_333&quot;,&quot;type&quot;:&quot;observable&quot;},filtered_data.out)) : undefined}))})]},&quot;_downloadImage&quot;:[(function (options){return this.Plotly.downloadImage(this.plotElem,options)})],&quot;_commands&quot;:[(function (args){var fn=args.shift(); var elem=this.plotElem; var Plotly=this.Plotly; args.unshift(elem); return Plotly[fn].apply(this,args)})]},&quot;systemjs_options&quot;:null,&quot;observables&quot;:{&quot;_toImage&quot;:{&quot;sync&quot;:false,&quot;id&quot;:&quot;ob_338&quot;,&quot;value&quot;:{}},&quot;hover&quot;:{&quot;sync&quot;:false,&quot;id&quot;:&quot;ob_331&quot;,&quot;value&quot;:{}},&quot;selected&quot;:{&quot;sync&quot;:false,&quot;id&quot;:&quot;ob_332&quot;,&quot;value&quot;:{}},&quot;__gd_contents&quot;:{&quot;sync&quot;:false,&quot;id&quot;:&quot;ob_336&quot;,&quot;value&quot;:{}},&quot;click&quot;:{&quot;sync&quot;:false,&quot;id&quot;:&quot;ob_333&quot;,&quot;value&quot;:{}},&quot;image&quot;:{&quot;sync&quot;:true,&quot;id&quot;:&quot;ob_335&quot;,&quot;value&quot;:&quot;&quot;},&quot;__get_gd_contents&quot;:{&quot;sync&quot;:false,&quot;id&quot;:&quot;ob_340&quot;,&quot;value&quot;:&quot;&quot;},&quot;_downloadImage&quot;:{&quot;sync&quot;:false,&quot;id&quot;:&quot;ob_339&quot;,&quot;value&quot;:{}},&quot;relayout&quot;:{&quot;sync&quot;:false,&quot;id&quot;:&quot;ob_334&quot;,&quot;value&quot;:{}},&quot;_commands&quot;:{&quot;sync&quot;:false,&quot;id&quot;:&quot;ob_337&quot;,&quot;value&quot;:[]}}},&quot;children&quot;:[{&quot;props&quot;:{&quot;id&quot;:&quot;plot-989b5753-2fbc-4ec0-9a07-c6aab0436c9c&quot;},&quot;nodeType&quot;:&quot;DOM&quot;,&quot;type&quot;:&quot;node&quot;,&quot;instanceArgs&quot;:{&quot;namespace&quot;:&quot;html&quot;,&quot;tag&quot;:&quot;div&quot;},&quot;children&quot;:[]}]})</unsafe-script>"
      ],
      "text/plain": [
       "data: [\n",
       "  \"scatter with fields name, type, x, and y\",\n",
       "  \"scatter with fields name, type, x, and y\",\n",
       "  \"scatter with fields name, type, x, and y\"\n",
       "]\n",
       "\n",
       "layout: \"layout with field margin\"\n",
       "\n"
      ]
     },
     "execution_count": 60,
     "metadata": {},
     "output_type": "execute_result"
    }
   ],
   "source": [
    "plot_x_fx_ftrackedx()"
   ]
  },
  {
   "cell_type": "markdown",
   "metadata": {},
   "source": [
    "Even more improvement!  Now let's do that over and over again, 500 times, keeping track of the losses, to show that we eventually converge to a point at which our loss no longer improves, then examine the final product:"
   ]
  },
  {
   "cell_type": "code",
   "execution_count": 61,
   "metadata": {},
   "outputs": [],
   "source": [
    "losses = Float64[]\n",
    "for epoch in 1:500\n",
    "    l = training_epoch(abs, f_tracked)\n",
    "    push!(losses, l)\n",
    "end"
   ]
  },
  {
   "cell_type": "code",
   "execution_count": 66,
   "metadata": {
    "scrolled": false
   },
   "outputs": [
    {
     "data": {
      "text/html": [
       "<div class='display:none'></div><unsafe-script style='display:none'>\n",
       "WebIO.mount(this.previousSibling,{&quot;props&quot;:{},&quot;nodeType&quot;:&quot;Scope&quot;,&quot;type&quot;:&quot;node&quot;,&quot;instanceArgs&quot;:{&quot;imports&quot;:{&quot;data&quot;:[{&quot;name&quot;:&quot;Plotly&quot;,&quot;type&quot;:&quot;js&quot;,&quot;url&quot;:&quot;/assetserver/ca0d1d661ba20f29c3bcdb3136fc5e131d9ae531-plotly-latest.min.js&quot;},{&quot;name&quot;:null,&quot;type&quot;:&quot;js&quot;,&quot;url&quot;:&quot;/assetserver/df76365695a2e6ab133a286a764f9caca195cb05-plotly_webio.bundle.js&quot;}],&quot;type&quot;:&quot;async_block&quot;},&quot;id&quot;:&quot;scope-bdfa99aa-765a-401d-933e-196987723ea9&quot;,&quot;handlers&quot;:{&quot;_toImage&quot;:[(function (options){return this.Plotly.toImage(this.plotElem,options).then((function (data){return WebIO.setval({&quot;name&quot;:&quot;image&quot;,&quot;scope&quot;:&quot;scope-bdfa99aa-765a-401d-933e-196987723ea9&quot;,&quot;id&quot;:&quot;ob_395&quot;,&quot;type&quot;:&quot;observable&quot;},data)}))})],&quot;__get_gd_contents&quot;:[(function (prop){prop==&quot;data&quot; ? (WebIO.setval({&quot;name&quot;:&quot;__gd_contents&quot;,&quot;scope&quot;:&quot;scope-bdfa99aa-765a-401d-933e-196987723ea9&quot;,&quot;id&quot;:&quot;ob_396&quot;,&quot;type&quot;:&quot;observable&quot;},this.plotElem.data)) : undefined; return prop==&quot;layout&quot; ? (WebIO.setval({&quot;name&quot;:&quot;__gd_contents&quot;,&quot;scope&quot;:&quot;scope-bdfa99aa-765a-401d-933e-196987723ea9&quot;,&quot;id&quot;:&quot;ob_396&quot;,&quot;type&quot;:&quot;observable&quot;},this.plotElem.layout)) : undefined})],&quot;_promises&quot;:{&quot;importsLoaded&quot;:[(function (Plotly){var gd=this.dom.querySelector(&quot;#plot-e5b91ee0-8f02-4478-a194-11d3ff7a46d9&quot;); this.plotElem=gd; this.Plotly=Plotly; (window.Blink!==undefined) ? (gd.style.width=&quot;100%&quot;, gd.style.height=&quot;100vh&quot;, gd.style.marginLeft=&quot;0%&quot;, gd.style.marginTop=&quot;0vh&quot;) : undefined; window.onresize=(function (){return Plotly.Plots.resize(gd)}); Plotly.newPlot(gd,[{&quot;y&quot;:[10.0,9.9,9.8,9.7,9.6,9.5,9.4,9.3,9.2,9.1,9.0,8.9,8.8,8.7,8.6,8.5,8.4,8.3,8.2,8.1,8.0,7.9,7.8,7.7,7.6,7.5,7.4,7.3,7.2,7.1,7.0,6.9,6.8,6.7,6.6,6.5,6.4,6.3,6.2,6.1,6.0,5.9,5.8,5.7,5.6,5.5,5.4,5.3,5.2,5.1,5.0,4.9,4.8,4.7,4.6,4.5,4.4,4.3,4.2,4.1,4.0,3.9,3.8,3.7,3.6,3.5,3.4,3.3,3.2,3.1,3.0,2.9,2.8,2.7,2.6,2.5,2.4,2.3,2.2,2.1,2.0,1.9,1.8,1.7,1.6,1.5,1.4,1.3,1.2,1.1,1.0,0.9,0.8,0.7,0.6,0.5,0.4,0.3,0.2,0.1,0.0,0.1,0.2,0.3,0.4,0.5,0.6,0.7,0.8,0.9,1.0,1.1,1.2,1.3,1.4,1.5,1.6,1.7,1.8,1.9,2.0,2.1,2.2,2.3,2.4,2.5,2.6,2.7,2.8,2.9,3.0,3.1,3.2,3.3,3.4,3.5,3.6,3.7,3.8,3.9,4.0,4.1,4.2,4.3,4.4,4.5,4.6,4.7,4.8,4.9,5.0,5.1,5.2,5.3,5.4,5.5,5.6,5.7,5.8,5.9,6.0,6.1,6.2,6.3,6.4,6.5,6.6,6.7,6.8,6.9,7.0,7.1,7.2,7.3,7.4,7.5,7.6,7.7,7.8,7.9,8.0,8.1,8.2,8.3,8.4,8.5,8.6,8.7,8.8,8.9,9.0,9.1,9.2,9.3,9.4,9.5,9.6,9.7,9.8,9.9,10.0],&quot;type&quot;:&quot;scatter&quot;,&quot;name&quot;:&quot;|x|&quot;,&quot;x&quot;:[-10.0,-9.9,-9.8,-9.7,-9.6,-9.5,-9.4,-9.3,-9.2,-9.1,-9.0,-8.9,-8.8,-8.7,-8.6,-8.5,-8.4,-8.3,-8.2,-8.1,-8.0,-7.9,-7.8,-7.7,-7.6,-7.5,-7.4,-7.3,-7.2,-7.1,-7.0,-6.9,-6.8,-6.7,-6.6,-6.5,-6.4,-6.3,-6.2,-6.1,-6.0,-5.9,-5.8,-5.7,-5.6,-5.5,-5.4,-5.3,-5.2,-5.1,-5.0,-4.9,-4.8,-4.7,-4.6,-4.5,-4.4,-4.3,-4.2,-4.1,-4.0,-3.9,-3.8,-3.7,-3.6,-3.5,-3.4,-3.3,-3.2,-3.1,-3.0,-2.9,-2.8,-2.7,-2.6,-2.5,-2.4,-2.3,-2.2,-2.1,-2.0,-1.9,-1.8,-1.7,-1.6,-1.5,-1.4,-1.3,-1.2,-1.1,-1.0,-0.9,-0.8,-0.7,-0.6,-0.5,-0.4,-0.3,-0.2,-0.1,0.0,0.1,0.2,0.3,0.4,0.5,0.6,0.7,0.8,0.9,1.0,1.1,1.2,1.3,1.4,1.5,1.6,1.7,1.8,1.9,2.0,2.1,2.2,2.3,2.4,2.5,2.6,2.7,2.8,2.9,3.0,3.1,3.2,3.3,3.4,3.5,3.6,3.7,3.8,3.9,4.0,4.1,4.2,4.3,4.4,4.5,4.6,4.7,4.8,4.9,5.0,5.1,5.2,5.3,5.4,5.5,5.6,5.7,5.8,5.9,6.0,6.1,6.2,6.3,6.4,6.5,6.6,6.7,6.8,6.9,7.0,7.1,7.2,7.3,7.4,7.5,7.6,7.7,7.8,7.9,8.0,8.1,8.2,8.3,8.4,8.5,8.6,8.7,8.8,8.9,9.0,9.1,9.2,9.3,9.4,9.5,9.6,9.7,9.8,9.9,10.0]},{&quot;marker&quot;:{&quot;color&quot;:&quot;green&quot;},&quot;y&quot;:[13.082374199369278,12.860035945323348,12.639804102788261,12.421678671764008,12.205659652250596,11.991747044248022,11.779940847756292,11.570241062775395,11.362647689305337,11.15716072734612,10.953780176897743,10.752506037960206,10.553338310533505,10.356276994617641,10.16132209021262,9.968473597318436,9.777731515935093,9.589095846062587,9.40256658770092,9.218143740850092,9.035827305510104,8.855617281680953,8.677513669362643,8.50151646855517,8.327625679258537,8.155841301472744,7.986163335197788,7.818591780433671,7.653126637180394,7.489767905437955,7.328515585206356,7.169369676485596,7.012330179275673,6.857397093576591,6.704570419388347,6.553850156710942,6.405236305544377,6.258728865888649,6.114327837743761,5.972033221109712,5.831845015986501,5.69376322237413,5.5577878402725975,5.423918869681905,5.292156310602049,5.162500163033034,5.0349504269748575,4.909507102427519,4.786170189391021,4.664939687865361,4.54581559785054,4.428797919346558,4.313886652353414,4.201081796871112,4.090383352899645,3.9817913204390187,3.875305699489232,3.7709264900502832,3.6686536921221737,3.568487305704903,3.470427330798471,3.3744737674028786,3.2806266155181247,3.1888858751442104,3.099251546281134,3.0117236289288973,2.926302123087499,2.84298702875694,2.76177834593722,2.682676074628338,2.6056802148302958,2.5307907665430927,2.4580077297667278,2.3873311045012025,2.318760890746516,2.2522970885026683,2.187939697769659,2.1256887185474893,2.0655441508361587,2.0075059946356664,1.9515742499460136,1.897748916767199,1.846029995099224,1.7964174849420877,1.7489113862957906,1.703511699160332,1.6602184235357123,1.6190315594219318,1.5799511068189902,1.5429770657268875,1.5081094361456238,1.4753482180751991,1.444693411515613,1.416145016466866,1.389703032928958,1.3653674609018889,1.3431383003856587,1.3230155513802675,1.304999213885715,1.2890892879020017,1.2752857734291272,1.2635886704670918,1.253997979015895,1.2465136990755372,1.2411358306460185,1.2378643737273387,1.2366993283194978,1.237640694422496,1.240688472036333,1.2458426611610087,1.2531032617965234,1.2624702739428773,1.27394369760007,1.2875235327681016,1.3032097794469721,1.3210024376366816,1.3409015073372301,1.3629069885486174,1.3870188812708437,1.4132371855039088,1.441561901247813,1.471993028502556,1.504530567268138,1.5391745175445588,1.5759248793318186,1.6147816526299175,1.6557448374388553,1.6988144337586317,1.743990441589247,1.7912728609307018,1.8406616917829952,1.8921569341461275,1.945758588020099,2.0014666534049086,2.0592811303005583,2.119202018707046,2.181229318624373,2.2453630300525393,2.311603152991544,2.3799496874413877,2.4504026334020708,2.522961990873592,2.597627759855953,2.674399940349152,2.7532785323531908,2.834263535868068,2.917354950893784,3.0025527774303398,3.0898570154777336,3.179267665035967,3.270784726105039,3.3644081986849494,3.4601380827757,3.5579743783772884,3.6579170854897165,3.759966204112983,3.864121734247088,3.970383675892033,4.078752029047816,4.189226793714439,4.3018079698919,4.4164955575802,4.53328955677934,4.652189967489317,4.773196789710135,4.8963100234417904,5.021529668684285,5.148855725437619,5.278288193701791,5.409827073476805,5.543472364762655,5.6792240675593435,5.817082181866873,5.95704670768524,6.099117645014446,6.243294993854492,6.389578754205376,6.537968926067099,6.68846550943966,6.841068504323062,6.995777910717301,7.15259372862238,7.311515958038298,7.472544598965056,7.635679651402651,7.800921115351085,7.968268990810358,8.13772327778047,8.309283976261423,8.482951086253212,8.658724607755842,8.836604540769308,9.016590885293617,9.198683641328763,9.382882808874749,9.569188387931572,9.757600378499234,9.948118780577735,10.140743594167077,10.335474819267256,10.532312455878275],&quot;type&quot;:&quot;scatter&quot;,&quot;name&quot;:&quot;f_tracked_data(x)&quot;,&quot;x&quot;:[-10.0,-9.9,-9.8,-9.7,-9.6,-9.5,-9.4,-9.3,-9.2,-9.1,-9.0,-8.9,-8.8,-8.7,-8.6,-8.5,-8.4,-8.3,-8.2,-8.1,-8.0,-7.9,-7.8,-7.7,-7.6,-7.5,-7.4,-7.3,-7.2,-7.1,-7.0,-6.9,-6.8,-6.7,-6.6,-6.5,-6.4,-6.3,-6.2,-6.1,-6.0,-5.9,-5.8,-5.7,-5.6,-5.5,-5.4,-5.3,-5.2,-5.1,-5.0,-4.9,-4.8,-4.7,-4.6,-4.5,-4.4,-4.3,-4.2,-4.1,-4.0,-3.9,-3.8,-3.7,-3.6,-3.5,-3.4,-3.3,-3.2,-3.1,-3.0,-2.9,-2.8,-2.7,-2.6,-2.5,-2.4,-2.3,-2.2,-2.1,-2.0,-1.9,-1.8,-1.7,-1.6,-1.5,-1.4,-1.3,-1.2,-1.1,-1.0,-0.9,-0.8,-0.7,-0.6,-0.5,-0.4,-0.3,-0.2,-0.1,0.0,0.1,0.2,0.3,0.4,0.5,0.6,0.7,0.8,0.9,1.0,1.1,1.2,1.3,1.4,1.5,1.6,1.7,1.8,1.9,2.0,2.1,2.2,2.3,2.4,2.5,2.6,2.7,2.8,2.9,3.0,3.1,3.2,3.3,3.4,3.5,3.6,3.7,3.8,3.9,4.0,4.1,4.2,4.3,4.4,4.5,4.6,4.7,4.8,4.9,5.0,5.1,5.2,5.3,5.4,5.5,5.6,5.7,5.8,5.9,6.0,6.1,6.2,6.3,6.4,6.5,6.6,6.7,6.8,6.9,7.0,7.1,7.2,7.3,7.4,7.5,7.6,7.7,7.8,7.9,8.0,8.1,8.2,8.3,8.4,8.5,8.6,8.7,8.8,8.9,9.0,9.1,9.2,9.3,9.4,9.5,9.6,9.7,9.8,9.9,10.0]}],{&quot;margin&quot;:{&quot;l&quot;:50,&quot;b&quot;:50,&quot;r&quot;:50,&quot;t&quot;:60}},{}); gd.on(&quot;plotly_hover&quot;,(function (data){var filtered_data=WebIO.CommandSets.Plotly.filterEventData(gd,data,&quot;hover&quot;); return !(filtered_data.isnil) ? (WebIO.setval({&quot;name&quot;:&quot;hover&quot;,&quot;scope&quot;:&quot;scope-bdfa99aa-765a-401d-933e-196987723ea9&quot;,&quot;id&quot;:&quot;ob_391&quot;,&quot;type&quot;:&quot;observable&quot;},filtered_data.out)) : undefined})); gd.on(&quot;plotly_unhover&quot;,(function (){return WebIO.setval({&quot;name&quot;:&quot;hover&quot;,&quot;scope&quot;:&quot;scope-bdfa99aa-765a-401d-933e-196987723ea9&quot;,&quot;id&quot;:&quot;ob_391&quot;,&quot;type&quot;:&quot;observable&quot;},{})})); gd.on(&quot;plotly_selected&quot;,(function (data){var filtered_data=WebIO.CommandSets.Plotly.filterEventData(gd,data,&quot;selected&quot;); return !(filtered_data.isnil) ? (WebIO.setval({&quot;name&quot;:&quot;selected&quot;,&quot;scope&quot;:&quot;scope-bdfa99aa-765a-401d-933e-196987723ea9&quot;,&quot;id&quot;:&quot;ob_392&quot;,&quot;type&quot;:&quot;observable&quot;},filtered_data.out)) : undefined})); gd.on(&quot;plotly_deselect&quot;,(function (){return WebIO.setval({&quot;name&quot;:&quot;selected&quot;,&quot;scope&quot;:&quot;scope-bdfa99aa-765a-401d-933e-196987723ea9&quot;,&quot;id&quot;:&quot;ob_392&quot;,&quot;type&quot;:&quot;observable&quot;},{})})); gd.on(&quot;plotly_relayout&quot;,(function (data){var filtered_data=WebIO.CommandSets.Plotly.filterEventData(gd,data,&quot;relayout&quot;); return !(filtered_data.isnil) ? (WebIO.setval({&quot;name&quot;:&quot;relayout&quot;,&quot;scope&quot;:&quot;scope-bdfa99aa-765a-401d-933e-196987723ea9&quot;,&quot;id&quot;:&quot;ob_394&quot;,&quot;type&quot;:&quot;observable&quot;},filtered_data.out)) : undefined})); return gd.on(&quot;plotly_click&quot;,(function (data){var filtered_data=WebIO.CommandSets.Plotly.filterEventData(gd,data,&quot;click&quot;); return !(filtered_data.isnil) ? (WebIO.setval({&quot;name&quot;:&quot;click&quot;,&quot;scope&quot;:&quot;scope-bdfa99aa-765a-401d-933e-196987723ea9&quot;,&quot;id&quot;:&quot;ob_393&quot;,&quot;type&quot;:&quot;observable&quot;},filtered_data.out)) : undefined}))})]},&quot;_downloadImage&quot;:[(function (options){return this.Plotly.downloadImage(this.plotElem,options)})],&quot;_commands&quot;:[(function (args){var fn=args.shift(); var elem=this.plotElem; var Plotly=this.Plotly; args.unshift(elem); return Plotly[fn].apply(this,args)})]},&quot;systemjs_options&quot;:null,&quot;observables&quot;:{&quot;_toImage&quot;:{&quot;sync&quot;:false,&quot;id&quot;:&quot;ob_398&quot;,&quot;value&quot;:{}},&quot;hover&quot;:{&quot;sync&quot;:false,&quot;id&quot;:&quot;ob_391&quot;,&quot;value&quot;:{}},&quot;selected&quot;:{&quot;sync&quot;:false,&quot;id&quot;:&quot;ob_392&quot;,&quot;value&quot;:{}},&quot;__gd_contents&quot;:{&quot;sync&quot;:false,&quot;id&quot;:&quot;ob_396&quot;,&quot;value&quot;:{}},&quot;click&quot;:{&quot;sync&quot;:false,&quot;id&quot;:&quot;ob_393&quot;,&quot;value&quot;:{}},&quot;image&quot;:{&quot;sync&quot;:true,&quot;id&quot;:&quot;ob_395&quot;,&quot;value&quot;:&quot;&quot;},&quot;__get_gd_contents&quot;:{&quot;sync&quot;:false,&quot;id&quot;:&quot;ob_400&quot;,&quot;value&quot;:&quot;&quot;},&quot;_downloadImage&quot;:{&quot;sync&quot;:false,&quot;id&quot;:&quot;ob_399&quot;,&quot;value&quot;:{}},&quot;relayout&quot;:{&quot;sync&quot;:false,&quot;id&quot;:&quot;ob_394&quot;,&quot;value&quot;:{}},&quot;_commands&quot;:{&quot;sync&quot;:false,&quot;id&quot;:&quot;ob_397&quot;,&quot;value&quot;:[]}}},&quot;children&quot;:[{&quot;props&quot;:{&quot;id&quot;:&quot;plot-e5b91ee0-8f02-4478-a194-11d3ff7a46d9&quot;},&quot;nodeType&quot;:&quot;DOM&quot;,&quot;type&quot;:&quot;node&quot;,&quot;instanceArgs&quot;:{&quot;namespace&quot;:&quot;html&quot;,&quot;tag&quot;:&quot;div&quot;},&quot;children&quot;:[]}]})</unsafe-script>"
      ],
      "text/plain": [
       "data: [\n",
       "  \"scatter with fields name, type, x, and y\",\n",
       "  \"scatter with fields marker, name, type, x, and y\"\n",
       "]\n",
       "\n",
       "layout: \"layout with field margin\"\n",
       "\n"
      ]
     },
     "execution_count": 66,
     "metadata": {},
     "output_type": "execute_result"
    }
   ],
   "source": [
    "x = collect(-10:.1:10)\n",
    "plot([\n",
    "    scatter(;x=x, y=abs.(x), name=\"|x|\"),\n",
    "    scatter(;x=x, y=f_tracked_data.(x), name=\"f_tracked_data(x)\", marker_color=\"green\"),\n",
    "])"
   ]
  },
  {
   "cell_type": "markdown",
   "metadata": {},
   "source": [
    "Say, that's not bad at all.  And if we look at the loss versus training iteration, we can convince ourselves that we have indeed converged to close to the best this model can deliver:"
   ]
  },
  {
   "cell_type": "code",
   "execution_count": 80,
   "metadata": {},
   "outputs": [
    {
     "data": {
      "text/html": [
       "<div class='display:none'></div><unsafe-script style='display:none'>\n",
       "WebIO.mount(this.previousSibling,{&quot;props&quot;:{},&quot;nodeType&quot;:&quot;Scope&quot;,&quot;type&quot;:&quot;node&quot;,&quot;instanceArgs&quot;:{&quot;imports&quot;:{&quot;data&quot;:[{&quot;name&quot;:&quot;Plotly&quot;,&quot;type&quot;:&quot;js&quot;,&quot;url&quot;:&quot;/assetserver/ca0d1d661ba20f29c3bcdb3136fc5e131d9ae531-plotly-latest.min.js&quot;},{&quot;name&quot;:null,&quot;type&quot;:&quot;js&quot;,&quot;url&quot;:&quot;/assetserver/df76365695a2e6ab133a286a764f9caca195cb05-plotly_webio.bundle.js&quot;}],&quot;type&quot;:&quot;async_block&quot;},&quot;id&quot;:&quot;scope-7aa0a7b3-37c0-43f4-b510-23d32ea81ecb&quot;,&quot;handlers&quot;:{&quot;_toImage&quot;:[(function (options){return this.Plotly.toImage(this.plotElem,options).then((function (data){return WebIO.setval({&quot;name&quot;:&quot;image&quot;,&quot;scope&quot;:&quot;scope-7aa0a7b3-37c0-43f4-b510-23d32ea81ecb&quot;,&quot;id&quot;:&quot;ob_495&quot;,&quot;type&quot;:&quot;observable&quot;},data)}))})],&quot;__get_gd_contents&quot;:[(function (prop){prop==&quot;data&quot; ? (WebIO.setval({&quot;name&quot;:&quot;__gd_contents&quot;,&quot;scope&quot;:&quot;scope-7aa0a7b3-37c0-43f4-b510-23d32ea81ecb&quot;,&quot;id&quot;:&quot;ob_496&quot;,&quot;type&quot;:&quot;observable&quot;},this.plotElem.data)) : undefined; return prop==&quot;layout&quot; ? (WebIO.setval({&quot;name&quot;:&quot;__gd_contents&quot;,&quot;scope&quot;:&quot;scope-7aa0a7b3-37c0-43f4-b510-23d32ea81ecb&quot;,&quot;id&quot;:&quot;ob_496&quot;,&quot;type&quot;:&quot;observable&quot;},this.plotElem.layout)) : undefined})],&quot;_promises&quot;:{&quot;importsLoaded&quot;:[(function (Plotly){var gd=this.dom.querySelector(&quot;#plot-391090db-c0fa-4b39-876b-b3ece0b9c2b4&quot;); this.plotElem=gd; this.Plotly=Plotly; (window.Blink!==undefined) ? (gd.style.width=&quot;100%&quot;, gd.style.height=&quot;100vh&quot;, gd.style.marginLeft=&quot;0%&quot;, gd.style.marginTop=&quot;0vh&quot;) : undefined; window.onresize=(function (){return Plotly.Plots.resize(gd)}); Plotly.newPlot(gd,[{&quot;y&quot;:[62.62623093409035,60.35694123615995,58.08970091602606,55.82494356963159,53.56310967180722,51.30470499161265,49.05030021522185,46.80053052283864,44.556184558700316,42.31808899707338,40.0890553410951,37.870608420106656,35.66466476726016,33.47597336890836,31.308361949368898,29.16610591853142,27.058372810328354,24.997451711356625,22.99454371416542,21.06967179079808,19.24805928780472,17.573611595540644,16.094950583586705,14.851396611382325,13.885107578535866,13.205093314897969,12.790248791584807,12.56141454244011,12.436723823321387,12.360974154106666,12.301931000632358,12.247396886702019,12.196649807435662,12.14600709507745,12.09605699509856,12.0457315211073,11.995790973367201,11.945455947137159,11.895524951635856,11.845180373166988,11.795258929904525,11.744904799196846,11.69499290817316,11.644629225226685,11.594726886441826,11.544353651256538,11.494460864710478,11.444078077286376,11.394194842979116,11.34380250331623,11.293928821247771,11.243526929346089,11.193662799516447,11.143251355375932,11.093396777785081,11.042975781405772,10.993130756053743,10.942700207435628,10.8928647343224,10.842424633465466,10.792598712591047,10.742149059495322,10.692332690859702,10.64187348552516,10.592066669128364,10.541597911555012,10.491800647397003,10.441322337584863,10.391534625665669,10.341046763614695,10.291268603934316,10.240771189644553,10.191002582202973,10.140495615674395,10.090736560471624,10.040220041704252,9.990470538740285,9.939944467734103,9.890315567104913,9.839850250247991,9.790202695463124,9.73971946815844,9.690089823821335,9.639588686068878,9.589976952179544,9.53945790397933,9.489864080537762,9.439327121889795,9.389751208895955,9.339196713373584,9.289637963680821,9.239083841731798,9.18950718159127,9.13897097009,9.089376399501722,9.038858098448195,8.989245617412173,8.93874522680642,8.889114835322623,8.838632355164632,8.788984053233065,8.73851948352284,8.688853271143524,8.63840661188105,8.588722489053966,8.538293740239254,8.488591706964419,8.43818086859746,8.388460924874874,8.338067996955687,8.288330142785322,8.237955125313889,8.188199360695767,8.137842253672098,8.088068578606215,8.03772938203031,7.987937796516664,7.937616510388517,7.887807014427116,7.8375036387467265,7.787676232337564,7.737390767104938,7.687545450248013,7.6372778954631455,7.587414668158462,7.5371650238213554,7.4872838860689095,7.437052152179569,7.387153103979359,7.336939280537778,7.287022321889804,7.236826408895991,7.1868915398002615,7.136713537254195,7.086760757710698,7.03660066561241,6.986629975621147,6.936637437739046,6.886734715409479,6.836714829778846,6.786781858693061,6.73679222181865,6.686829001976648,6.636869613858447,6.586876145260227,6.536947005898255,6.486923288543818,6.437024397938061,6.386970431827395,6.337101789977863,6.28701757511098,6.23717918201766,6.187064718394565,6.1372565740574645,6.087111861678149,6.037333966097265,5.987159004961732,5.93741135813707,5.887206148245317,5.837488750176873,5.7872532915289,5.737566142216674,5.687300434812482,5.63764353425648,5.5873475780960655,5.537720926296284,5.487394721379652,5.437798318336087,5.387441864663239,5.33787571037589,5.287489007946822,5.237953102415687,5.187536151230406,5.138030494455495,5.087583294513989,5.038107886495298,4.987830154259663,4.93844321589029,4.888134338100457,4.838700036547009,4.788438521941252,4.738956857203727,4.688742705782052,4.639213677860447,4.5890468896228445,4.539470498517167,4.489351073463643,4.439727319173879,4.389655257304441,4.339984139830598,4.289959441145238,4.240240960487317,4.190263624986037,4.140497781144031,4.090567808826835,4.040754601800747,3.990871992667626,3.9410114224574677,3.891176176508427,3.8412682431141856,3.7914803603492224,3.7415250637709017,3.691784544190017,3.6417818844276177,3.5923045644827725,3.5423688575760934,3.49287141025392,3.442865653595993,3.393438256025061,3.3433624496158942,3.294005101796206,3.2438592456357935,3.194571947567352,3.1443703455773027,3.095124489416888,3.044937191348447,2.995621285436789,2.9455040371195897,2.896118081456691,2.8460708828907353,2.796614877476592,2.7466377286618813,2.697111673496494,2.6472045744330246,2.597608469516392,2.5477714202041692,2.498428841496847,2.448817996841339,2.399194365238138,2.3496826250602423,2.299959888979434,2.250547253279149,2.200725412720727,2.151411881498055,2.10149093646202,2.052276509716961,2.002256460203316,1.9531411379358672,1.903095690851291,1.8539320592480908,1.7713239016575728,1.71338138728098,1.6444168810730895,1.6049305211541558,1.5650857121639716,1.5191289517886812,1.4796397374123946,1.435564138886589,1.407198841547273,1.3785751452265982,1.3474402212126984,1.3155249582885205,1.2821411059691692,1.2688582915413074,1.239962550223402,1.2179185600689466,1.1970534315958745,1.1803119153945734,1.1606712066213354,1.134199879361317,1.1157081827570834,1.1086673907172822,1.1016265986774803,1.0769822995329827,1.0602570654883559,1.0468703247148374,1.030962993518758,1.0261495110733228,1.0020894509971328,1.0072518096560328,0.99486471975335,0.9803354286172301,0.9682141997695716,0.9743294997416071,0.9620985540382259,0.9487840853473473,0.9351648300319505,0.9440490198747086,0.9322856620672563,0.9193903545926546,0.906702173612829,0.9158145875369469,0.903169837024783,0.9124750626613234,0.890639836819833,0.8892015411780402,0.8771204612252201,0.8759097846083045,0.885789890710375,0.8638303223193973,0.8729950880908879,0.8620188291148386,0.8504212113083218,0.8497080085023503,0.8489948056963795,0.8591022072242867,0.8476979501540888,0.846984747348117,0.8362371028907858,0.8458685506117963,0.8451553478058246,0.834425005079837,0.8232235018025978,0.8228041003896618,0.822384698976725,0.8219652975637889,0.8215458961508518,0.8317274279654019,0.8207882013050788,0.8203687998921421,0.8199493984792053,0.8091872980177355,0.7980262940109606,0.7977753813542434,0.7975244686975262,0.8183790385588022,0.8075165105152422,0.7967830919015023,0.7965321792447849,0.7962812665880675,0.7960303539313496,0.7957794412746322,0.7955285286179145,0.7952776159611973,0.7950267033044793,0.7947757906477613,0.8049798931619959,0.7943430793442765,0.7940921666875596,0.7938412540308417,0.7935903413741237,0.793339428717406,0.7930885160606888,0.7823059726648398,0.7712092957741927,0.7925131830656601,0.7922622704089428,0.7920113577522248,0.7917604450955072,0.7915095324387895,0.7807430726250297,0.7699261131473187,0.7697306034756755,0.7695350938040325,0.7693395841323899,0.7903409838616675,0.7900900712049506,0.779263277062833,0.7686496170876087,0.7684541074159661,0.7682585977443229,0.7680630880726794,0.7678675784010364,0.767672068729394,0.7885260455730995,0.7777122026747634,0.7671798402119772,0.7669843305403343,0.766788820868691,0.766593311197048,0.7663978015254053,0.7662022918537614,0.7660067821821187,0.7761888297792316,0.7657122921920666,0.7655167825204235,0.765321272848781,0.7651257631771379,0.7649302535054945,0.7647347438338519,0.7645392341622084,0.7746654568837001,0.7642447441721569,0.7640492345005138,0.7638537248288708,0.7636582151572279,0.7634627054855847,0.7632671958139416,0.7630904813024945,0.7629106678696568,0.7730434047404019,0.7626309415014958,0.7624511280686584,0.7622713146358219,0.7620915012029846,0.7619116877701483,0.761731874337311,0.7615520609044737,0.7613722474716373,0.7611924340387998,0.7610126206059636,0.7711962032478529,0.7607328942378012,0.7605530808049651,0.7603732673721274,0.7601934539392907,0.7600136405064539,0.7598001982089293,0.7596369663482313,0.7594737344875339,0.7593105026268359,0.7591472707661382,0.7589840389054411,0.7588208070447436,0.7586575751840455,0.7687493135274281,0.7583666816119042,0.7582034497512067,0.7580402178905092,0.7578769860298119,0.7577137541691145,0.7575505223084164,0.7573872904477192,0.7572240585870217,0.7570608267263239,0.7568975948656262,0.7567343630049287,0.7565711311442311,0.7564078992835336,0.7562446674228358,0.7560814355621392,0.7559182037014409,0.7557549718407425,0.7555917399800456,0.7554285081193485,0.7552652762586501,0.7551020443979531,0.7549388125372556,0.7650206046119808,0.7546479189651142,0.7544846871044165,0.7543214552437189,0.7541582233830207,0.7539949915223234,0.7538317596616261,0.7536685278009292,0.7535052959402309,0.7533420640795332,0.753178832218836,0.7530156003581385,0.752852368497441,0.752689136636743,0.7525259047760454,0.752362672915348,0.7521994410546505,0.7520362091939524,0.7518729773332551,0.751709745472558,0.7515465136118596,0.7513832817511625,0.7512200498904643,0.7510568180297674,0.7611642339850904,0.7507659244576258,0.7506026925969286,0.750439460736231,0.7502762288755332,0.7501129970148354,0.7499497651541382,0.7497865332934402,0.7496233014327432,0.749460069572045,0.749296837711348,0.7491336058506503,0.7489703739899523,0.7488071421292554,0.7486439102685577,0.7484806784078604,0.7483174465471619,0.7481542146864649,0.747990982825767,0.7478277509650699,0.7476645191043721,0.7475012872436744,0.747338055382977,0.7574355250696431,0.7470471618108359,0.7468839299501379,0.7467206980894405,0.7465574662287429,0.746394234368045,0.7462310025073479,0.7460677706466505,0.7459045387859526,0.7457413069252554,0.745578075064557,0.7454148432038602,0.7452516113431621,0.7450883794824645,0.7449251476217669,0.7447619157610693,0.7445986839003723,0.7443905015696961,0.744237725450292,0.744084949330888,0.7439321732114843,0.7437793970920806,0.743626620972676,0.7434738448532715,0.7433210687338683],&quot;type&quot;:&quot;scatter&quot;,&quot;name&quot;:&quot;Training epochs&quot;,&quot;x&quot;:[1,2,3,4,5,6,7,8,9,10,11,12,13,14,15,16,17,18,19,20,21,22,23,24,25,26,27,28,29,30,31,32,33,34,35,36,37,38,39,40,41,42,43,44,45,46,47,48,49,50,51,52,53,54,55,56,57,58,59,60,61,62,63,64,65,66,67,68,69,70,71,72,73,74,75,76,77,78,79,80,81,82,83,84,85,86,87,88,89,90,91,92,93,94,95,96,97,98,99,100,101,102,103,104,105,106,107,108,109,110,111,112,113,114,115,116,117,118,119,120,121,122,123,124,125,126,127,128,129,130,131,132,133,134,135,136,137,138,139,140,141,142,143,144,145,146,147,148,149,150,151,152,153,154,155,156,157,158,159,160,161,162,163,164,165,166,167,168,169,170,171,172,173,174,175,176,177,178,179,180,181,182,183,184,185,186,187,188,189,190,191,192,193,194,195,196,197,198,199,200,201,202,203,204,205,206,207,208,209,210,211,212,213,214,215,216,217,218,219,220,221,222,223,224,225,226,227,228,229,230,231,232,233,234,235,236,237,238,239,240,241,242,243,244,245,246,247,248,249,250,251,252,253,254,255,256,257,258,259,260,261,262,263,264,265,266,267,268,269,270,271,272,273,274,275,276,277,278,279,280,281,282,283,284,285,286,287,288,289,290,291,292,293,294,295,296,297,298,299,300,301,302,303,304,305,306,307,308,309,310,311,312,313,314,315,316,317,318,319,320,321,322,323,324,325,326,327,328,329,330,331,332,333,334,335,336,337,338,339,340,341,342,343,344,345,346,347,348,349,350,351,352,353,354,355,356,357,358,359,360,361,362,363,364,365,366,367,368,369,370,371,372,373,374,375,376,377,378,379,380,381,382,383,384,385,386,387,388,389,390,391,392,393,394,395,396,397,398,399,400,401,402,403,404,405,406,407,408,409,410,411,412,413,414,415,416,417,418,419,420,421,422,423,424,425,426,427,428,429,430,431,432,433,434,435,436,437,438,439,440,441,442,443,444,445,446,447,448,449,450,451,452,453,454,455,456,457,458,459,460,461,462,463,464,465,466,467,468,469,470,471,472,473,474,475,476,477,478,479,480,481,482,483,484,485,486,487,488,489,490,491,492,493,494,495,496,497,498,499,500]}],{&quot;margin&quot;:{&quot;l&quot;:50,&quot;b&quot;:50,&quot;r&quot;:50,&quot;t&quot;:60}},{}); gd.on(&quot;plotly_hover&quot;,(function (data){var filtered_data=WebIO.CommandSets.Plotly.filterEventData(gd,data,&quot;hover&quot;); return !(filtered_data.isnil) ? (WebIO.setval({&quot;name&quot;:&quot;hover&quot;,&quot;scope&quot;:&quot;scope-7aa0a7b3-37c0-43f4-b510-23d32ea81ecb&quot;,&quot;id&quot;:&quot;ob_491&quot;,&quot;type&quot;:&quot;observable&quot;},filtered_data.out)) : undefined})); gd.on(&quot;plotly_unhover&quot;,(function (){return WebIO.setval({&quot;name&quot;:&quot;hover&quot;,&quot;scope&quot;:&quot;scope-7aa0a7b3-37c0-43f4-b510-23d32ea81ecb&quot;,&quot;id&quot;:&quot;ob_491&quot;,&quot;type&quot;:&quot;observable&quot;},{})})); gd.on(&quot;plotly_selected&quot;,(function (data){var filtered_data=WebIO.CommandSets.Plotly.filterEventData(gd,data,&quot;selected&quot;); return !(filtered_data.isnil) ? (WebIO.setval({&quot;name&quot;:&quot;selected&quot;,&quot;scope&quot;:&quot;scope-7aa0a7b3-37c0-43f4-b510-23d32ea81ecb&quot;,&quot;id&quot;:&quot;ob_492&quot;,&quot;type&quot;:&quot;observable&quot;},filtered_data.out)) : undefined})); gd.on(&quot;plotly_deselect&quot;,(function (){return WebIO.setval({&quot;name&quot;:&quot;selected&quot;,&quot;scope&quot;:&quot;scope-7aa0a7b3-37c0-43f4-b510-23d32ea81ecb&quot;,&quot;id&quot;:&quot;ob_492&quot;,&quot;type&quot;:&quot;observable&quot;},{})})); gd.on(&quot;plotly_relayout&quot;,(function (data){var filtered_data=WebIO.CommandSets.Plotly.filterEventData(gd,data,&quot;relayout&quot;); return !(filtered_data.isnil) ? (WebIO.setval({&quot;name&quot;:&quot;relayout&quot;,&quot;scope&quot;:&quot;scope-7aa0a7b3-37c0-43f4-b510-23d32ea81ecb&quot;,&quot;id&quot;:&quot;ob_494&quot;,&quot;type&quot;:&quot;observable&quot;},filtered_data.out)) : undefined})); return gd.on(&quot;plotly_click&quot;,(function (data){var filtered_data=WebIO.CommandSets.Plotly.filterEventData(gd,data,&quot;click&quot;); return !(filtered_data.isnil) ? (WebIO.setval({&quot;name&quot;:&quot;click&quot;,&quot;scope&quot;:&quot;scope-7aa0a7b3-37c0-43f4-b510-23d32ea81ecb&quot;,&quot;id&quot;:&quot;ob_493&quot;,&quot;type&quot;:&quot;observable&quot;},filtered_data.out)) : undefined}))})]},&quot;_downloadImage&quot;:[(function (options){return this.Plotly.downloadImage(this.plotElem,options)})],&quot;_commands&quot;:[(function (args){var fn=args.shift(); var elem=this.plotElem; var Plotly=this.Plotly; args.unshift(elem); return Plotly[fn].apply(this,args)})]},&quot;systemjs_options&quot;:null,&quot;observables&quot;:{&quot;_toImage&quot;:{&quot;sync&quot;:false,&quot;id&quot;:&quot;ob_498&quot;,&quot;value&quot;:{}},&quot;hover&quot;:{&quot;sync&quot;:false,&quot;id&quot;:&quot;ob_491&quot;,&quot;value&quot;:{}},&quot;selected&quot;:{&quot;sync&quot;:false,&quot;id&quot;:&quot;ob_492&quot;,&quot;value&quot;:{}},&quot;__gd_contents&quot;:{&quot;sync&quot;:false,&quot;id&quot;:&quot;ob_496&quot;,&quot;value&quot;:{}},&quot;click&quot;:{&quot;sync&quot;:false,&quot;id&quot;:&quot;ob_493&quot;,&quot;value&quot;:{}},&quot;image&quot;:{&quot;sync&quot;:true,&quot;id&quot;:&quot;ob_495&quot;,&quot;value&quot;:&quot;&quot;},&quot;__get_gd_contents&quot;:{&quot;sync&quot;:false,&quot;id&quot;:&quot;ob_500&quot;,&quot;value&quot;:&quot;&quot;},&quot;_downloadImage&quot;:{&quot;sync&quot;:false,&quot;id&quot;:&quot;ob_499&quot;,&quot;value&quot;:{}},&quot;relayout&quot;:{&quot;sync&quot;:false,&quot;id&quot;:&quot;ob_494&quot;,&quot;value&quot;:{}},&quot;_commands&quot;:{&quot;sync&quot;:false,&quot;id&quot;:&quot;ob_497&quot;,&quot;value&quot;:[]}}},&quot;children&quot;:[{&quot;props&quot;:{&quot;id&quot;:&quot;plot-391090db-c0fa-4b39-876b-b3ece0b9c2b4&quot;},&quot;nodeType&quot;:&quot;DOM&quot;,&quot;type&quot;:&quot;node&quot;,&quot;instanceArgs&quot;:{&quot;namespace&quot;:&quot;html&quot;,&quot;tag&quot;:&quot;div&quot;},&quot;children&quot;:[]}]})</unsafe-script>"
      ],
      "text/plain": [
       "data: [\n",
       "  \"scatter with fields name, type, x, and y\"\n",
       "]\n",
       "\n",
       "layout: \"layout with field margin\"\n",
       "\n"
      ]
     },
     "execution_count": 80,
     "metadata": {},
     "output_type": "execute_result"
    }
   ],
   "source": [
    "plot(losses; name=\"Training epochs\")"
   ]
  },
  {
   "cell_type": "markdown",
   "metadata": {},
   "source": [
    "Congratulations, you have just written your first differentiable program in `Flux`.  To recap: we set out to use a polynomial to approximate $|x|$, and used differentiable programming to learn the polynomial coefficients.  We did this by starting with a random guess for the coefficients, calculating values of $f(x)$ with those junk coefficients, then iteratively refining them using the gradients upon $w$ that `Flux` is able to calculate with the `Flux.Tracker.back!()` function.\n",
    "\n",
    "This is, of course, an extremely low-level way of working with `Flux`.  `Flux` provides much higher-level ways of dealing with models of significant complexity, which will be addressed in later notebooks.  For now, let's have some fun trying to fit various nonlinear functions with our new function approximator:\n",
    "\n",
    "### Fitting the step function"
   ]
  },
  {
   "cell_type": "code",
   "execution_count": 85,
   "metadata": {},
   "outputs": [
    {
     "data": {
      "text/html": [
       "<div class='display:none'></div><unsafe-script style='display:none'>\n",
       "WebIO.mount(this.previousSibling,{&quot;props&quot;:{},&quot;nodeType&quot;:&quot;Scope&quot;,&quot;type&quot;:&quot;node&quot;,&quot;instanceArgs&quot;:{&quot;imports&quot;:{&quot;data&quot;:[{&quot;name&quot;:&quot;Plotly&quot;,&quot;type&quot;:&quot;js&quot;,&quot;url&quot;:&quot;/assetserver/ca0d1d661ba20f29c3bcdb3136fc5e131d9ae531-plotly-latest.min.js&quot;},{&quot;name&quot;:null,&quot;type&quot;:&quot;js&quot;,&quot;url&quot;:&quot;/assetserver/df76365695a2e6ab133a286a764f9caca195cb05-plotly_webio.bundle.js&quot;}],&quot;type&quot;:&quot;async_block&quot;},&quot;id&quot;:&quot;scope-359cae5a-bd52-469e-8b51-5712c25336d6&quot;,&quot;handlers&quot;:{&quot;_toImage&quot;:[(function (options){return this.Plotly.toImage(this.plotElem,options).then((function (data){return WebIO.setval({&quot;name&quot;:&quot;image&quot;,&quot;scope&quot;:&quot;scope-359cae5a-bd52-469e-8b51-5712c25336d6&quot;,&quot;id&quot;:&quot;ob_535&quot;,&quot;type&quot;:&quot;observable&quot;},data)}))})],&quot;__get_gd_contents&quot;:[(function (prop){prop==&quot;data&quot; ? (WebIO.setval({&quot;name&quot;:&quot;__gd_contents&quot;,&quot;scope&quot;:&quot;scope-359cae5a-bd52-469e-8b51-5712c25336d6&quot;,&quot;id&quot;:&quot;ob_536&quot;,&quot;type&quot;:&quot;observable&quot;},this.plotElem.data)) : undefined; return prop==&quot;layout&quot; ? (WebIO.setval({&quot;name&quot;:&quot;__gd_contents&quot;,&quot;scope&quot;:&quot;scope-359cae5a-bd52-469e-8b51-5712c25336d6&quot;,&quot;id&quot;:&quot;ob_536&quot;,&quot;type&quot;:&quot;observable&quot;},this.plotElem.layout)) : undefined})],&quot;_promises&quot;:{&quot;importsLoaded&quot;:[(function (Plotly){var gd=this.dom.querySelector(&quot;#plot-3f136448-b6f8-4654-b7f6-22b5638bb8d3&quot;); this.plotElem=gd; this.Plotly=Plotly; (window.Blink!==undefined) ? (gd.style.width=&quot;100%&quot;, gd.style.height=&quot;100vh&quot;, gd.style.marginLeft=&quot;0%&quot;, gd.style.marginTop=&quot;0vh&quot;) : undefined; window.onresize=(function (){return Plotly.Plots.resize(gd)}); Plotly.newPlot(gd,[{&quot;y&quot;:[0.0,0.0,0.0,0.0,0.0,0.0,0.0,0.0,0.0,0.0,0.0,0.0,0.0,0.0,0.0,0.0,0.0,0.0,0.0,0.0,0.0,0.0,0.0,0.0,0.0,0.0,0.0,0.0,0.0,0.0,0.0,0.0,0.0,0.0,0.0,0.0,0.0,0.0,0.0,0.0,0.0,0.0,0.0,0.0,0.0,0.0,0.0,0.0,0.0,0.0,0.0,0.0,0.0,0.0,0.0,0.0,0.0,0.0,0.0,0.0,0.0,0.0,0.0,0.0,0.0,0.0,0.0,0.0,0.0,0.0,0.0,0.0,0.0,0.0,0.0,0.0,0.0,0.0,0.0,0.0,0.0,0.0,0.0,0.0,0.0,0.0,0.0,0.0,0.0,0.0,0.0,0.0,0.0,0.0,0.0,0.0,0.0,0.0,0.0,0.0,0.0,1.0,1.0,1.0,1.0,1.0,1.0,1.0,1.0,1.0,1.0,1.0,1.0,1.0,1.0,1.0,1.0,1.0,1.0,1.0,1.0,1.0,1.0,1.0,1.0,1.0,1.0,1.0,1.0,1.0,1.0,1.0,1.0,1.0,1.0,1.0,1.0,1.0,1.0,1.0,1.0,1.0,1.0,1.0,1.0,1.0,1.0,1.0,1.0,1.0,1.0,1.0,1.0,1.0,1.0,1.0,1.0,1.0,1.0,1.0,1.0,1.0,1.0,1.0,1.0,1.0,1.0,1.0,1.0,1.0,1.0,1.0,1.0,1.0,1.0,1.0,1.0,1.0,1.0,1.0,1.0,1.0,1.0,1.0,1.0,1.0,1.0,1.0,1.0,1.0,1.0,1.0,1.0,1.0,1.0,1.0,1.0,1.0,1.0,1.0,1.0],&quot;type&quot;:&quot;scatter&quot;,&quot;name&quot;:&quot;step(x)&quot;,&quot;x&quot;:[-10.0,-9.9,-9.8,-9.7,-9.6,-9.5,-9.4,-9.3,-9.2,-9.1,-9.0,-8.9,-8.8,-8.7,-8.6,-8.5,-8.4,-8.3,-8.2,-8.1,-8.0,-7.9,-7.8,-7.7,-7.6,-7.5,-7.4,-7.3,-7.2,-7.1,-7.0,-6.9,-6.8,-6.7,-6.6,-6.5,-6.4,-6.3,-6.2,-6.1,-6.0,-5.9,-5.8,-5.7,-5.6,-5.5,-5.4,-5.3,-5.2,-5.1,-5.0,-4.9,-4.8,-4.7,-4.6,-4.5,-4.4,-4.3,-4.2,-4.1,-4.0,-3.9,-3.8,-3.7,-3.6,-3.5,-3.4,-3.3,-3.2,-3.1,-3.0,-2.9,-2.8,-2.7,-2.6,-2.5,-2.4,-2.3,-2.2,-2.1,-2.0,-1.9,-1.8,-1.7,-1.6,-1.5,-1.4,-1.3,-1.2,-1.1,-1.0,-0.9,-0.8,-0.7,-0.6,-0.5,-0.4,-0.3,-0.2,-0.1,0.0,0.1,0.2,0.3,0.4,0.5,0.6,0.7,0.8,0.9,1.0,1.1,1.2,1.3,1.4,1.5,1.6,1.7,1.8,1.9,2.0,2.1,2.2,2.3,2.4,2.5,2.6,2.7,2.8,2.9,3.0,3.1,3.2,3.3,3.4,3.5,3.6,3.7,3.8,3.9,4.0,4.1,4.2,4.3,4.4,4.5,4.6,4.7,4.8,4.9,5.0,5.1,5.2,5.3,5.4,5.5,5.6,5.7,5.8,5.9,6.0,6.1,6.2,6.3,6.4,6.5,6.6,6.7,6.8,6.9,7.0,7.1,7.2,7.3,7.4,7.5,7.6,7.7,7.8,7.9,8.0,8.1,8.2,8.3,8.4,8.5,8.6,8.7,8.8,8.9,9.0,9.1,9.2,9.3,9.4,9.5,9.6,9.7,9.8,9.9,10.0]},{&quot;marker&quot;:{&quot;color&quot;:&quot;green&quot;},&quot;y&quot;:[-0.8035407863594339,-0.7914172930895915,-0.7793294826053025,-0.7672773549065667,-0.7552609099933846,-0.743280147865756,-0.7313350685236808,-0.7194256719671591,-0.7075519581961907,-0.6957139272107759,-0.6839115790109145,-0.6721449135966064,-0.6604139309678521,-0.6487186311246509,-0.6370590140670034,-0.6254350797949093,-0.6138468283083687,-0.6022942596073816,-0.5907773736919476,-0.5792961705620673,-0.5678506502177405,-0.5564408126589672,-0.5450666578857472,-0.5337281858980807,-0.5224253966959675,-0.5111582902794081,-0.499926866648402,-0.48873112580294925,-0.47757106774305014,-0.4664466924687044,-0.455357999979912,-0.44430499027667325,-0.4332876633589879,-0.422306019226856,-0.4113600578802774,-0.40044977931925246,-0.38957518354378096,-0.3787362705538628,-0.36793304034949814,-0.3571654929306869,-0.3464336282974292,-0.3357374464497249,-0.32507694738757403,-0.3144521311109767,-0.30386299761993274,-0.2933095469144423,-0.2827917789945053,-0.2723096938601217,-0.2618632915112917,-0.25145257194801496,-0.24107753517029182,-0.23073818117812214,-0.22043450997150577,-0.210166521550443,-0.1999342159149336,-0.18973759306497773,-0.17957665300057526,-0.16945139572172624,-0.15936182122843073,-0.14930792952068858,-0.13928972059849998,-0.12930719446186478,-0.11936035111078304,-0.10944919054525482,-0.09957371276527999,-0.0897339177708586,-0.07992980556199074,-0.07016137613867626,-0.06042862950091532,-0.05073156564870777,-0.041070184582053665,-0.03144448630095302,-0.021854470805405857,-0.012300138095412156,-0.0027814881709719054,0.006701478967914919,0.01614876332124829,0.025560364889028173,0.0349362836712546,0.044276519667927575,0.05358107287904712,0.06284994330461321,0.07208313094462582,0.08128063579908497,0.09044245786799067,0.09956859715134295,0.10865905364914175,0.11771382736138707,0.12673291828807898,0.13571632642921738,0.14466405178480238,0.1535760943548339,0.16245245413931195,0.17129313113823658,0.18009812535160774,0.18886743677942544,0.19760106542168968,0.20629901127840047,0.2149612743495578,0.2235878546351617,0.2321787521352121,0.24073396684970907,0.2492534987786526,0.25773734792204267,0.26618551427987924,0.27459799785216243,0.2829747986388921,0.29131591664006834,0.2996213518556911,0.30789110428576044,0.3161251739302763,0.32432356078923874,0.33248626486264765,0.3406132861505032,0.3487046246528053,0.3567602803695538,0.36478025330074904,0.37276454344639065,0.3807131508064789,0.3886260753810136,0.396503317169995,0.40434487617342285,0.4121507523912973,0.4199209458236182,0.42765545647038566,0.4353542843315998,0.4430174294072603,0.4506448916973675,0.4582366712019212,0.46579276792092134,0.4733131818543681,0.48079791300226143,0.4882469613646014,0.49566032694138773,0.5030380097326207,0.5103800097383001,0.5176863269584261,0.5249569613929987,0.5321919130420179,0.5393911819054836,0.5465547679833958,0.5536826712757544,0.5607748917825598,0.5678314295038116,0.5748522844395101,0.581837456589655,0.5887869459542465,0.5957007525332845,0.602578876326769,0.6094213173347003,0.6162280755570779,0.622999150993902,0.6297345436451728,0.63643425351089,0.6430982805910539,0.6497266248856642,0.6563192863947213,0.6628762651182247,0.6693975610561747,0.6758831742085714,0.6823331045754144,0.688747352156704,0.6951259169524403,0.701468798962623,0.7077759981872523,0.7140475146263281,0.7202833482798505,0.7264834991478195,0.732647967230235,0.7387767525270968,0.7448698550384054,0.7509272747641605,0.7569490117043621,0.7629350658590103,0.7688854372281051,0.7748001258116464,0.7806791316096342,0.7865224546220686,0.7923300948489495,0.798102052290277,0.803838326946051,0.8095389188162715,0.8152038279009385,0.8208330542000523,0.8264265977136125,0.8319844584416192,0.8375066363840724,0.8429931315409722,0.8484439439123186,0.8538590734981115,0.859238520298351,0.864582284313037,0.8698903655421695,0.8751627639857484,0.8803994796437741,0.8856005125162463,0.8907658626031649,0.8958955299045301,0.9009895144203423,0.9060478161506006,0.9110704350953055],&quot;type&quot;:&quot;scatter&quot;,&quot;name&quot;:&quot;f(x)&quot;,&quot;x&quot;:[-10.0,-9.9,-9.8,-9.7,-9.6,-9.5,-9.4,-9.3,-9.2,-9.1,-9.0,-8.9,-8.8,-8.7,-8.6,-8.5,-8.4,-8.3,-8.2,-8.1,-8.0,-7.9,-7.8,-7.7,-7.6,-7.5,-7.4,-7.3,-7.2,-7.1,-7.0,-6.9,-6.8,-6.7,-6.6,-6.5,-6.4,-6.3,-6.2,-6.1,-6.0,-5.9,-5.8,-5.7,-5.6,-5.5,-5.4,-5.3,-5.2,-5.1,-5.0,-4.9,-4.8,-4.7,-4.6,-4.5,-4.4,-4.3,-4.2,-4.1,-4.0,-3.9,-3.8,-3.7,-3.6,-3.5,-3.4,-3.3,-3.2,-3.1,-3.0,-2.9,-2.8,-2.7,-2.6,-2.5,-2.4,-2.3,-2.2,-2.1,-2.0,-1.9,-1.8,-1.7,-1.6,-1.5,-1.4,-1.3,-1.2,-1.1,-1.0,-0.9,-0.8,-0.7,-0.6,-0.5,-0.4,-0.3,-0.2,-0.1,0.0,0.1,0.2,0.3,0.4,0.5,0.6,0.7,0.8,0.9,1.0,1.1,1.2,1.3,1.4,1.5,1.6,1.7,1.8,1.9,2.0,2.1,2.2,2.3,2.4,2.5,2.6,2.7,2.8,2.9,3.0,3.1,3.2,3.3,3.4,3.5,3.6,3.7,3.8,3.9,4.0,4.1,4.2,4.3,4.4,4.5,4.6,4.7,4.8,4.9,5.0,5.1,5.2,5.3,5.4,5.5,5.6,5.7,5.8,5.9,6.0,6.1,6.2,6.3,6.4,6.5,6.6,6.7,6.8,6.9,7.0,7.1,7.2,7.3,7.4,7.5,7.6,7.7,7.8,7.9,8.0,8.1,8.2,8.3,8.4,8.5,8.6,8.7,8.8,8.9,9.0,9.1,9.2,9.3,9.4,9.5,9.6,9.7,9.8,9.9,10.0]}],{&quot;margin&quot;:{&quot;l&quot;:50,&quot;b&quot;:50,&quot;r&quot;:50,&quot;t&quot;:60}},{}); gd.on(&quot;plotly_hover&quot;,(function (data){var filtered_data=WebIO.CommandSets.Plotly.filterEventData(gd,data,&quot;hover&quot;); return !(filtered_data.isnil) ? (WebIO.setval({&quot;name&quot;:&quot;hover&quot;,&quot;scope&quot;:&quot;scope-359cae5a-bd52-469e-8b51-5712c25336d6&quot;,&quot;id&quot;:&quot;ob_531&quot;,&quot;type&quot;:&quot;observable&quot;},filtered_data.out)) : undefined})); gd.on(&quot;plotly_unhover&quot;,(function (){return WebIO.setval({&quot;name&quot;:&quot;hover&quot;,&quot;scope&quot;:&quot;scope-359cae5a-bd52-469e-8b51-5712c25336d6&quot;,&quot;id&quot;:&quot;ob_531&quot;,&quot;type&quot;:&quot;observable&quot;},{})})); gd.on(&quot;plotly_selected&quot;,(function (data){var filtered_data=WebIO.CommandSets.Plotly.filterEventData(gd,data,&quot;selected&quot;); return !(filtered_data.isnil) ? (WebIO.setval({&quot;name&quot;:&quot;selected&quot;,&quot;scope&quot;:&quot;scope-359cae5a-bd52-469e-8b51-5712c25336d6&quot;,&quot;id&quot;:&quot;ob_532&quot;,&quot;type&quot;:&quot;observable&quot;},filtered_data.out)) : undefined})); gd.on(&quot;plotly_deselect&quot;,(function (){return WebIO.setval({&quot;name&quot;:&quot;selected&quot;,&quot;scope&quot;:&quot;scope-359cae5a-bd52-469e-8b51-5712c25336d6&quot;,&quot;id&quot;:&quot;ob_532&quot;,&quot;type&quot;:&quot;observable&quot;},{})})); gd.on(&quot;plotly_relayout&quot;,(function (data){var filtered_data=WebIO.CommandSets.Plotly.filterEventData(gd,data,&quot;relayout&quot;); return !(filtered_data.isnil) ? (WebIO.setval({&quot;name&quot;:&quot;relayout&quot;,&quot;scope&quot;:&quot;scope-359cae5a-bd52-469e-8b51-5712c25336d6&quot;,&quot;id&quot;:&quot;ob_534&quot;,&quot;type&quot;:&quot;observable&quot;},filtered_data.out)) : undefined})); return gd.on(&quot;plotly_click&quot;,(function (data){var filtered_data=WebIO.CommandSets.Plotly.filterEventData(gd,data,&quot;click&quot;); return !(filtered_data.isnil) ? (WebIO.setval({&quot;name&quot;:&quot;click&quot;,&quot;scope&quot;:&quot;scope-359cae5a-bd52-469e-8b51-5712c25336d6&quot;,&quot;id&quot;:&quot;ob_533&quot;,&quot;type&quot;:&quot;observable&quot;},filtered_data.out)) : undefined}))})]},&quot;_downloadImage&quot;:[(function (options){return this.Plotly.downloadImage(this.plotElem,options)})],&quot;_commands&quot;:[(function (args){var fn=args.shift(); var elem=this.plotElem; var Plotly=this.Plotly; args.unshift(elem); return Plotly[fn].apply(this,args)})]},&quot;systemjs_options&quot;:null,&quot;observables&quot;:{&quot;_toImage&quot;:{&quot;sync&quot;:false,&quot;id&quot;:&quot;ob_538&quot;,&quot;value&quot;:{}},&quot;hover&quot;:{&quot;sync&quot;:false,&quot;id&quot;:&quot;ob_531&quot;,&quot;value&quot;:{}},&quot;selected&quot;:{&quot;sync&quot;:false,&quot;id&quot;:&quot;ob_532&quot;,&quot;value&quot;:{}},&quot;__gd_contents&quot;:{&quot;sync&quot;:false,&quot;id&quot;:&quot;ob_536&quot;,&quot;value&quot;:{}},&quot;click&quot;:{&quot;sync&quot;:false,&quot;id&quot;:&quot;ob_533&quot;,&quot;value&quot;:{}},&quot;image&quot;:{&quot;sync&quot;:true,&quot;id&quot;:&quot;ob_535&quot;,&quot;value&quot;:&quot;&quot;},&quot;__get_gd_contents&quot;:{&quot;sync&quot;:false,&quot;id&quot;:&quot;ob_540&quot;,&quot;value&quot;:&quot;&quot;},&quot;_downloadImage&quot;:{&quot;sync&quot;:false,&quot;id&quot;:&quot;ob_539&quot;,&quot;value&quot;:{}},&quot;relayout&quot;:{&quot;sync&quot;:false,&quot;id&quot;:&quot;ob_534&quot;,&quot;value&quot;:{}},&quot;_commands&quot;:{&quot;sync&quot;:false,&quot;id&quot;:&quot;ob_537&quot;,&quot;value&quot;:[]}}},&quot;children&quot;:[{&quot;props&quot;:{&quot;id&quot;:&quot;plot-3f136448-b6f8-4654-b7f6-22b5638bb8d3&quot;},&quot;nodeType&quot;:&quot;DOM&quot;,&quot;type&quot;:&quot;node&quot;,&quot;instanceArgs&quot;:{&quot;namespace&quot;:&quot;html&quot;,&quot;tag&quot;:&quot;div&quot;},&quot;children&quot;:[]}]})</unsafe-script>"
      ],
      "text/plain": [
       "data: [\n",
       "  \"scatter with fields name, type, x, and y\",\n",
       "  \"scatter with fields marker, name, type, x, and y\"\n",
       "]\n",
       "\n",
       "layout: \"layout with field margin\"\n",
       "\n"
      ]
     },
     "execution_count": 85,
     "metadata": {},
     "output_type": "execute_result"
    }
   ],
   "source": [
    "# Start from randomness again\n",
    "w_tracked.data[:] = randn(3)\n",
    "\n",
    "# Try to fit the step function:\n",
    "u(x) = Float64(x > 0)\n",
    "\n",
    "# Run training loop, keeping track of losses\n",
    "losses = Float64[]\n",
    "for epoch in 1:500\n",
    "    l = training_epoch(u, f_tracked)\n",
    "    push!(losses, l)\n",
    "end\n",
    "\n",
    "x = collect(-10:.1:10)\n",
    "plot([\n",
    "    scatter(;x=x, y=u.(x), name=\"step(x)\"),\n",
    "    scatter(;x=x, y=Flux.Tracker.data.(f_tracked.(x)), name=\"f(x)\", marker_color=\"green\"),\n",
    "])\n",
    "# Plot function and tracked loss\n",
    "#display(p)\n",
    "#p = lineplot(losses; title=\"Loss versus training epochs\")\n",
    "#display(p)"
   ]
  },
  {
   "cell_type": "code",
   "execution_count": null,
   "metadata": {},
   "outputs": [],
   "source": [
    "plot(losses; name=\"Training epochs\")"
   ]
  },
  {
   "cell_type": "markdown",
   "metadata": {},
   "source": [
    "### Fitting a piecewise linear function"
   ]
  },
  {
   "cell_type": "code",
   "execution_count": 17,
   "metadata": {},
   "outputs": [
    {
     "data": {
      "text/plain": [
       "\u001b[37m           ┌────────────────────────────────────────┐\u001b[39m                  \n",
       "        \u001b[37m10\u001b[39m\u001b[37m │\u001b[39m\u001b[37m⠀\u001b[39m\u001b[37m⠀\u001b[39m\u001b[37m⠀\u001b[39m\u001b[37m⠀\u001b[39m\u001b[37m⠀\u001b[39m\u001b[37m⠀\u001b[39m\u001b[37m⠀\u001b[39m\u001b[37m⠀\u001b[39m\u001b[37m⠀\u001b[39m\u001b[37m⠀\u001b[39m\u001b[37m⠀\u001b[39m\u001b[37m⠀\u001b[39m\u001b[37m⠀\u001b[39m\u001b[37m⠀\u001b[39m\u001b[37m⠀\u001b[39m\u001b[37m⠀\u001b[39m\u001b[37m⠀\u001b[39m\u001b[37m⠀\u001b[39m\u001b[37m⠀\u001b[39m\u001b[37m⠀\u001b[39m\u001b[37m⡆\u001b[39m\u001b[37m⠀\u001b[39m\u001b[37m⠀\u001b[39m\u001b[37m⠀\u001b[39m\u001b[37m⠀\u001b[39m\u001b[37m⠀\u001b[39m\u001b[37m⠀\u001b[39m\u001b[37m⠀\u001b[39m\u001b[37m⠀\u001b[39m\u001b[37m⠀\u001b[39m\u001b[37m⠀\u001b[39m\u001b[37m⠀\u001b[39m\u001b[37m⠀\u001b[39m\u001b[37m⠀\u001b[39m\u001b[37m⠀\u001b[39m\u001b[37m⠀\u001b[39m\u001b[37m⠀\u001b[39m\u001b[37m⠀\u001b[39m\u001b[37m⠀\u001b[39m\u001b[35m⡜\u001b[39m\u001b[37m│\u001b[39m \u001b[34mNNlib.relu(x)\u001b[39m    \n",
       "          \u001b[37m │\u001b[39m\u001b[37m⠀\u001b[39m\u001b[37m⠀\u001b[39m\u001b[37m⠀\u001b[39m\u001b[37m⠀\u001b[39m\u001b[37m⠀\u001b[39m\u001b[37m⠀\u001b[39m\u001b[37m⠀\u001b[39m\u001b[37m⠀\u001b[39m\u001b[37m⠀\u001b[39m\u001b[37m⠀\u001b[39m\u001b[37m⠀\u001b[39m\u001b[37m⠀\u001b[39m\u001b[37m⠀\u001b[39m\u001b[37m⠀\u001b[39m\u001b[37m⠀\u001b[39m\u001b[37m⠀\u001b[39m\u001b[37m⠀\u001b[39m\u001b[37m⠀\u001b[39m\u001b[37m⠀\u001b[39m\u001b[37m⠀\u001b[39m\u001b[37m⡇\u001b[39m\u001b[37m⠀\u001b[39m\u001b[37m⠀\u001b[39m\u001b[37m⠀\u001b[39m\u001b[37m⠀\u001b[39m\u001b[37m⠀\u001b[39m\u001b[37m⠀\u001b[39m\u001b[37m⠀\u001b[39m\u001b[37m⠀\u001b[39m\u001b[37m⠀\u001b[39m\u001b[37m⠀\u001b[39m\u001b[37m⠀\u001b[39m\u001b[37m⠀\u001b[39m\u001b[37m⠀\u001b[39m\u001b[37m⠀\u001b[39m\u001b[37m⠀\u001b[39m\u001b[37m⠀\u001b[39m\u001b[34m⢠\u001b[39m\u001b[35m⡾\u001b[39m\u001b[31m⠁\u001b[39m\u001b[37m│\u001b[39m \u001b[31mf_tracked_data(x)\u001b[39m\n",
       "          \u001b[37m │\u001b[39m\u001b[37m⠀\u001b[39m\u001b[37m⠀\u001b[39m\u001b[37m⠀\u001b[39m\u001b[37m⠀\u001b[39m\u001b[37m⠀\u001b[39m\u001b[37m⠀\u001b[39m\u001b[37m⠀\u001b[39m\u001b[37m⠀\u001b[39m\u001b[37m⠀\u001b[39m\u001b[37m⠀\u001b[39m\u001b[37m⠀\u001b[39m\u001b[37m⠀\u001b[39m\u001b[37m⠀\u001b[39m\u001b[37m⠀\u001b[39m\u001b[37m⠀\u001b[39m\u001b[37m⠀\u001b[39m\u001b[37m⠀\u001b[39m\u001b[37m⠀\u001b[39m\u001b[37m⠀\u001b[39m\u001b[37m⠀\u001b[39m\u001b[37m⡇\u001b[39m\u001b[37m⠀\u001b[39m\u001b[37m⠀\u001b[39m\u001b[37m⠀\u001b[39m\u001b[37m⠀\u001b[39m\u001b[37m⠀\u001b[39m\u001b[37m⠀\u001b[39m\u001b[37m⠀\u001b[39m\u001b[37m⠀\u001b[39m\u001b[37m⠀\u001b[39m\u001b[37m⠀\u001b[39m\u001b[37m⠀\u001b[39m\u001b[37m⠀\u001b[39m\u001b[37m⠀\u001b[39m\u001b[37m⠀\u001b[39m\u001b[37m⠀\u001b[39m\u001b[34m⡠\u001b[39m\u001b[35m⡳\u001b[39m\u001b[31m⠁\u001b[39m\u001b[37m⠀\u001b[39m\u001b[37m│\u001b[39m                  \n",
       "          \u001b[37m │\u001b[39m\u001b[37m⠀\u001b[39m\u001b[37m⠀\u001b[39m\u001b[37m⠀\u001b[39m\u001b[37m⠀\u001b[39m\u001b[37m⠀\u001b[39m\u001b[37m⠀\u001b[39m\u001b[37m⠀\u001b[39m\u001b[37m⠀\u001b[39m\u001b[37m⠀\u001b[39m\u001b[37m⠀\u001b[39m\u001b[37m⠀\u001b[39m\u001b[37m⠀\u001b[39m\u001b[37m⠀\u001b[39m\u001b[37m⠀\u001b[39m\u001b[37m⠀\u001b[39m\u001b[37m⠀\u001b[39m\u001b[37m⠀\u001b[39m\u001b[37m⠀\u001b[39m\u001b[37m⠀\u001b[39m\u001b[37m⠀\u001b[39m\u001b[37m⡇\u001b[39m\u001b[37m⠀\u001b[39m\u001b[37m⠀\u001b[39m\u001b[37m⠀\u001b[39m\u001b[37m⠀\u001b[39m\u001b[37m⠀\u001b[39m\u001b[37m⠀\u001b[39m\u001b[37m⠀\u001b[39m\u001b[37m⠀\u001b[39m\u001b[37m⠀\u001b[39m\u001b[37m⠀\u001b[39m\u001b[37m⠀\u001b[39m\u001b[37m⠀\u001b[39m\u001b[37m⠀\u001b[39m\u001b[37m⠀\u001b[39m\u001b[34m⡔\u001b[39m\u001b[35m⡱\u001b[39m\u001b[31m⠁\u001b[39m\u001b[37m⠀\u001b[39m\u001b[37m⠀\u001b[39m\u001b[37m│\u001b[39m                  \n",
       "          \u001b[37m │\u001b[39m\u001b[37m⠀\u001b[39m\u001b[37m⠀\u001b[39m\u001b[37m⠀\u001b[39m\u001b[37m⠀\u001b[39m\u001b[37m⠀\u001b[39m\u001b[37m⠀\u001b[39m\u001b[37m⠀\u001b[39m\u001b[37m⠀\u001b[39m\u001b[37m⠀\u001b[39m\u001b[37m⠀\u001b[39m\u001b[37m⠀\u001b[39m\u001b[37m⠀\u001b[39m\u001b[37m⠀\u001b[39m\u001b[37m⠀\u001b[39m\u001b[37m⠀\u001b[39m\u001b[37m⠀\u001b[39m\u001b[37m⠀\u001b[39m\u001b[37m⠀\u001b[39m\u001b[37m⠀\u001b[39m\u001b[37m⠀\u001b[39m\u001b[37m⡇\u001b[39m\u001b[37m⠀\u001b[39m\u001b[37m⠀\u001b[39m\u001b[37m⠀\u001b[39m\u001b[37m⠀\u001b[39m\u001b[37m⠀\u001b[39m\u001b[37m⠀\u001b[39m\u001b[37m⠀\u001b[39m\u001b[37m⠀\u001b[39m\u001b[37m⠀\u001b[39m\u001b[37m⠀\u001b[39m\u001b[37m⠀\u001b[39m\u001b[37m⠀\u001b[39m\u001b[34m⣀\u001b[39m\u001b[34m⠎\u001b[39m\u001b[31m⡰\u001b[39m\u001b[31m⠁\u001b[39m\u001b[37m⠀\u001b[39m\u001b[37m⠀\u001b[39m\u001b[37m⠀\u001b[39m\u001b[37m│\u001b[39m                  \n",
       "          \u001b[37m │\u001b[39m\u001b[37m⠀\u001b[39m\u001b[37m⠀\u001b[39m\u001b[37m⠀\u001b[39m\u001b[37m⠀\u001b[39m\u001b[37m⠀\u001b[39m\u001b[37m⠀\u001b[39m\u001b[37m⠀\u001b[39m\u001b[37m⠀\u001b[39m\u001b[37m⠀\u001b[39m\u001b[37m⠀\u001b[39m\u001b[37m⠀\u001b[39m\u001b[37m⠀\u001b[39m\u001b[37m⠀\u001b[39m\u001b[37m⠀\u001b[39m\u001b[37m⠀\u001b[39m\u001b[37m⠀\u001b[39m\u001b[37m⠀\u001b[39m\u001b[37m⠀\u001b[39m\u001b[37m⠀\u001b[39m\u001b[37m⠀\u001b[39m\u001b[37m⡇\u001b[39m\u001b[37m⠀\u001b[39m\u001b[37m⠀\u001b[39m\u001b[37m⠀\u001b[39m\u001b[37m⠀\u001b[39m\u001b[37m⠀\u001b[39m\u001b[37m⠀\u001b[39m\u001b[37m⠀\u001b[39m\u001b[37m⠀\u001b[39m\u001b[37m⠀\u001b[39m\u001b[37m⠀\u001b[39m\u001b[37m⠀\u001b[39m\u001b[34m⡠\u001b[39m\u001b[34m⠃\u001b[39m\u001b[31m⡜\u001b[39m\u001b[31m⠁\u001b[39m\u001b[37m⠀\u001b[39m\u001b[37m⠀\u001b[39m\u001b[37m⠀\u001b[39m\u001b[37m⠀\u001b[39m\u001b[37m│\u001b[39m                  \n",
       "          \u001b[37m │\u001b[39m\u001b[37m⠀\u001b[39m\u001b[37m⠀\u001b[39m\u001b[37m⠀\u001b[39m\u001b[37m⠀\u001b[39m\u001b[37m⠀\u001b[39m\u001b[37m⠀\u001b[39m\u001b[37m⠀\u001b[39m\u001b[37m⠀\u001b[39m\u001b[37m⠀\u001b[39m\u001b[37m⠀\u001b[39m\u001b[37m⠀\u001b[39m\u001b[37m⠀\u001b[39m\u001b[37m⠀\u001b[39m\u001b[37m⠀\u001b[39m\u001b[37m⠀\u001b[39m\u001b[37m⠀\u001b[39m\u001b[37m⠀\u001b[39m\u001b[37m⠀\u001b[39m\u001b[37m⠀\u001b[39m\u001b[37m⠀\u001b[39m\u001b[37m⡇\u001b[39m\u001b[37m⠀\u001b[39m\u001b[37m⠀\u001b[39m\u001b[37m⠀\u001b[39m\u001b[37m⠀\u001b[39m\u001b[37m⠀\u001b[39m\u001b[37m⠀\u001b[39m\u001b[37m⠀\u001b[39m\u001b[37m⠀\u001b[39m\u001b[37m⠀\u001b[39m\u001b[37m⠀\u001b[39m\u001b[34m⡜\u001b[39m\u001b[35m⢁\u001b[39m\u001b[31m⡜\u001b[39m\u001b[31m⠁\u001b[39m\u001b[37m⠀\u001b[39m\u001b[37m⠀\u001b[39m\u001b[37m⠀\u001b[39m\u001b[37m⠀\u001b[39m\u001b[37m⠀\u001b[39m\u001b[37m│\u001b[39m                  \n",
       "   \u001b[37mf(x)\u001b[39m   \u001b[37m │\u001b[39m\u001b[37m⠀\u001b[39m\u001b[37m⠀\u001b[39m\u001b[37m⠀\u001b[39m\u001b[37m⠀\u001b[39m\u001b[37m⠀\u001b[39m\u001b[37m⠀\u001b[39m\u001b[37m⠀\u001b[39m\u001b[37m⠀\u001b[39m\u001b[37m⠀\u001b[39m\u001b[37m⠀\u001b[39m\u001b[37m⠀\u001b[39m\u001b[37m⠀\u001b[39m\u001b[37m⠀\u001b[39m\u001b[37m⠀\u001b[39m\u001b[37m⠀\u001b[39m\u001b[37m⠀\u001b[39m\u001b[37m⠀\u001b[39m\u001b[37m⠀\u001b[39m\u001b[37m⠀\u001b[39m\u001b[37m⠀\u001b[39m\u001b[37m⡇\u001b[39m\u001b[37m⠀\u001b[39m\u001b[37m⠀\u001b[39m\u001b[37m⠀\u001b[39m\u001b[37m⠀\u001b[39m\u001b[37m⠀\u001b[39m\u001b[37m⠀\u001b[39m\u001b[37m⠀\u001b[39m\u001b[37m⠀\u001b[39m\u001b[34m⢀\u001b[39m\u001b[34m⠏\u001b[39m\u001b[31m⢠\u001b[39m\u001b[31m⠎\u001b[39m\u001b[37m⠀\u001b[39m\u001b[37m⠀\u001b[39m\u001b[37m⠀\u001b[39m\u001b[37m⠀\u001b[39m\u001b[37m⠀\u001b[39m\u001b[37m⠀\u001b[39m\u001b[37m⠀\u001b[39m\u001b[37m│\u001b[39m                  \n",
       "          \u001b[37m │\u001b[39m\u001b[37m⠀\u001b[39m\u001b[37m⠀\u001b[39m\u001b[37m⠀\u001b[39m\u001b[37m⠀\u001b[39m\u001b[37m⠀\u001b[39m\u001b[37m⠀\u001b[39m\u001b[37m⠀\u001b[39m\u001b[37m⠀\u001b[39m\u001b[37m⠀\u001b[39m\u001b[37m⠀\u001b[39m\u001b[37m⠀\u001b[39m\u001b[37m⠀\u001b[39m\u001b[37m⠀\u001b[39m\u001b[37m⠀\u001b[39m\u001b[37m⠀\u001b[39m\u001b[37m⠀\u001b[39m\u001b[37m⠀\u001b[39m\u001b[37m⠀\u001b[39m\u001b[37m⠀\u001b[39m\u001b[37m⠀\u001b[39m\u001b[37m⡇\u001b[39m\u001b[37m⠀\u001b[39m\u001b[37m⠀\u001b[39m\u001b[37m⠀\u001b[39m\u001b[37m⠀\u001b[39m\u001b[37m⠀\u001b[39m\u001b[37m⠀\u001b[39m\u001b[37m⠀\u001b[39m\u001b[34m⡠\u001b[39m\u001b[34m⠃\u001b[39m\u001b[31m⣠\u001b[39m\u001b[31m⠇\u001b[39m\u001b[37m⠀\u001b[39m\u001b[37m⠀\u001b[39m\u001b[37m⠀\u001b[39m\u001b[37m⠀\u001b[39m\u001b[37m⠀\u001b[39m\u001b[37m⠀\u001b[39m\u001b[37m⠀\u001b[39m\u001b[37m⠀\u001b[39m\u001b[37m│\u001b[39m                  \n",
       "          \u001b[37m │\u001b[39m\u001b[37m⠀\u001b[39m\u001b[37m⠀\u001b[39m\u001b[37m⠀\u001b[39m\u001b[37m⠀\u001b[39m\u001b[37m⠀\u001b[39m\u001b[37m⠀\u001b[39m\u001b[37m⠀\u001b[39m\u001b[37m⠀\u001b[39m\u001b[37m⠀\u001b[39m\u001b[37m⠀\u001b[39m\u001b[37m⠀\u001b[39m\u001b[37m⠀\u001b[39m\u001b[37m⠀\u001b[39m\u001b[37m⠀\u001b[39m\u001b[37m⠀\u001b[39m\u001b[37m⠀\u001b[39m\u001b[37m⠀\u001b[39m\u001b[37m⠀\u001b[39m\u001b[37m⠀\u001b[39m\u001b[37m⠀\u001b[39m\u001b[37m⡇\u001b[39m\u001b[37m⠀\u001b[39m\u001b[37m⠀\u001b[39m\u001b[37m⠀\u001b[39m\u001b[37m⠀\u001b[39m\u001b[37m⠀\u001b[39m\u001b[37m⠀\u001b[39m\u001b[34m⡔\u001b[39m\u001b[34m⠁\u001b[39m\u001b[31m⡔\u001b[39m\u001b[31m⠁\u001b[39m\u001b[37m⠀\u001b[39m\u001b[37m⠀\u001b[39m\u001b[37m⠀\u001b[39m\u001b[37m⠀\u001b[39m\u001b[37m⠀\u001b[39m\u001b[37m⠀\u001b[39m\u001b[37m⠀\u001b[39m\u001b[37m⠀\u001b[39m\u001b[37m⠀\u001b[39m\u001b[37m│\u001b[39m                  \n",
       "          \u001b[37m │\u001b[39m\u001b[37m⠀\u001b[39m\u001b[37m⠀\u001b[39m\u001b[37m⠀\u001b[39m\u001b[37m⠀\u001b[39m\u001b[37m⠀\u001b[39m\u001b[37m⠀\u001b[39m\u001b[37m⠀\u001b[39m\u001b[37m⠀\u001b[39m\u001b[37m⠀\u001b[39m\u001b[37m⠀\u001b[39m\u001b[37m⠀\u001b[39m\u001b[37m⠀\u001b[39m\u001b[37m⠀\u001b[39m\u001b[37m⠀\u001b[39m\u001b[37m⠀\u001b[39m\u001b[37m⠀\u001b[39m\u001b[37m⠀\u001b[39m\u001b[37m⠀\u001b[39m\u001b[37m⠀\u001b[39m\u001b[37m⠀\u001b[39m\u001b[37m⡇\u001b[39m\u001b[37m⠀\u001b[39m\u001b[37m⠀\u001b[39m\u001b[37m⠀\u001b[39m\u001b[37m⠀\u001b[39m\u001b[34m⢀\u001b[39m\u001b[34m⠎\u001b[39m\u001b[31m⣀\u001b[39m\u001b[31m⠎\u001b[39m\u001b[37m⠀\u001b[39m\u001b[37m⠀\u001b[39m\u001b[37m⠀\u001b[39m\u001b[37m⠀\u001b[39m\u001b[37m⠀\u001b[39m\u001b[37m⠀\u001b[39m\u001b[37m⠀\u001b[39m\u001b[37m⠀\u001b[39m\u001b[37m⠀\u001b[39m\u001b[37m⠀\u001b[39m\u001b[37m⠀\u001b[39m\u001b[37m│\u001b[39m                  \n",
       "          \u001b[37m │\u001b[39m\u001b[31m⣄\u001b[39m\u001b[37m⠀\u001b[39m\u001b[37m⠀\u001b[39m\u001b[37m⠀\u001b[39m\u001b[37m⠀\u001b[39m\u001b[37m⠀\u001b[39m\u001b[37m⠀\u001b[39m\u001b[37m⠀\u001b[39m\u001b[37m⠀\u001b[39m\u001b[37m⠀\u001b[39m\u001b[37m⠀\u001b[39m\u001b[37m⠀\u001b[39m\u001b[37m⠀\u001b[39m\u001b[37m⠀\u001b[39m\u001b[37m⠀\u001b[39m\u001b[37m⠀\u001b[39m\u001b[37m⠀\u001b[39m\u001b[37m⠀\u001b[39m\u001b[37m⠀\u001b[39m\u001b[37m⠀\u001b[39m\u001b[37m⡇\u001b[39m\u001b[37m⠀\u001b[39m\u001b[37m⠀\u001b[39m\u001b[37m⠀\u001b[39m\u001b[34m⡠\u001b[39m\u001b[35m⢃\u001b[39m\u001b[31m⡔\u001b[39m\u001b[31m⠁\u001b[39m\u001b[37m⠀\u001b[39m\u001b[37m⠀\u001b[39m\u001b[37m⠀\u001b[39m\u001b[37m⠀\u001b[39m\u001b[37m⠀\u001b[39m\u001b[37m⠀\u001b[39m\u001b[37m⠀\u001b[39m\u001b[37m⠀\u001b[39m\u001b[37m⠀\u001b[39m\u001b[37m⠀\u001b[39m\u001b[37m⠀\u001b[39m\u001b[37m⠀\u001b[39m\u001b[37m│\u001b[39m                  \n",
       "          \u001b[37m │\u001b[39m\u001b[37m⠀\u001b[39m\u001b[31m⠓\u001b[39m\u001b[31m⣄\u001b[39m\u001b[37m⠀\u001b[39m\u001b[37m⠀\u001b[39m\u001b[37m⠀\u001b[39m\u001b[37m⠀\u001b[39m\u001b[37m⠀\u001b[39m\u001b[37m⠀\u001b[39m\u001b[37m⠀\u001b[39m\u001b[37m⠀\u001b[39m\u001b[37m⠀\u001b[39m\u001b[37m⠀\u001b[39m\u001b[37m⠀\u001b[39m\u001b[37m⠀\u001b[39m\u001b[37m⠀\u001b[39m\u001b[37m⠀\u001b[39m\u001b[37m⠀\u001b[39m\u001b[37m⠀\u001b[39m\u001b[37m⠀\u001b[39m\u001b[37m⡇\u001b[39m\u001b[37m⠀\u001b[39m\u001b[37m⠀\u001b[39m\u001b[35m⣔\u001b[39m\u001b[35m⡕\u001b[39m\u001b[31m⠃\u001b[39m\u001b[37m⠀\u001b[39m\u001b[37m⠀\u001b[39m\u001b[37m⠀\u001b[39m\u001b[37m⠀\u001b[39m\u001b[37m⠀\u001b[39m\u001b[37m⠀\u001b[39m\u001b[37m⠀\u001b[39m\u001b[37m⠀\u001b[39m\u001b[37m⠀\u001b[39m\u001b[37m⠀\u001b[39m\u001b[37m⠀\u001b[39m\u001b[37m⠀\u001b[39m\u001b[37m⠀\u001b[39m\u001b[37m⠀\u001b[39m\u001b[37m│\u001b[39m                  \n",
       "          \u001b[37m │\u001b[39m\u001b[37m⠀\u001b[39m\u001b[37m⠀\u001b[39m\u001b[37m⠀\u001b[39m\u001b[31m⠑\u001b[39m\u001b[31m⢄\u001b[39m\u001b[31m⡀\u001b[39m\u001b[37m⠀\u001b[39m\u001b[37m⠀\u001b[39m\u001b[37m⠀\u001b[39m\u001b[37m⠀\u001b[39m\u001b[37m⠀\u001b[39m\u001b[37m⠀\u001b[39m\u001b[37m⠀\u001b[39m\u001b[37m⠀\u001b[39m\u001b[37m⠀\u001b[39m\u001b[37m⠀\u001b[39m\u001b[37m⠀\u001b[39m\u001b[37m⠀\u001b[39m\u001b[37m⠀\u001b[39m\u001b[37m⠀\u001b[39m\u001b[37m⡇\u001b[39m\u001b[35m⣠\u001b[39m\u001b[35m⠞\u001b[39m\u001b[31m⠁\u001b[39m\u001b[37m⠀\u001b[39m\u001b[37m⠀\u001b[39m\u001b[37m⠀\u001b[39m\u001b[37m⠀\u001b[39m\u001b[37m⠀\u001b[39m\u001b[37m⠀\u001b[39m\u001b[37m⠀\u001b[39m\u001b[37m⠀\u001b[39m\u001b[37m⠀\u001b[39m\u001b[37m⠀\u001b[39m\u001b[37m⠀\u001b[39m\u001b[37m⠀\u001b[39m\u001b[37m⠀\u001b[39m\u001b[37m⠀\u001b[39m\u001b[37m⠀\u001b[39m\u001b[37m⠀\u001b[39m\u001b[37m│\u001b[39m                  \n",
       "         \u001b[37m0\u001b[39m\u001b[37m │\u001b[39m\u001b[34m⣀\u001b[39m\u001b[34m⣀\u001b[39m\u001b[34m⣀\u001b[39m\u001b[34m⣀\u001b[39m\u001b[34m⣀\u001b[39m\u001b[35m⣈\u001b[39m\u001b[35m⣓\u001b[39m\u001b[35m⣦\u001b[39m\u001b[35m⣄\u001b[39m\u001b[35m⣀\u001b[39m\u001b[34m⣀\u001b[39m\u001b[34m⣀\u001b[39m\u001b[34m⣀\u001b[39m\u001b[34m⣀\u001b[39m\u001b[34m⣀\u001b[39m\u001b[34m⣀\u001b[39m\u001b[35m⣀\u001b[39m\u001b[35m⣀\u001b[39m\u001b[35m⣤\u001b[39m\u001b[35m⣖\u001b[39m\u001b[35m⡯\u001b[39m\u001b[34m⠃\u001b[39m\u001b[37m⠀\u001b[39m\u001b[37m⠀\u001b[39m\u001b[37m⠀\u001b[39m\u001b[37m⠀\u001b[39m\u001b[37m⠀\u001b[39m\u001b[37m⠀\u001b[39m\u001b[37m⠀\u001b[39m\u001b[37m⠀\u001b[39m\u001b[37m⠀\u001b[39m\u001b[37m⠀\u001b[39m\u001b[37m⠀\u001b[39m\u001b[37m⠀\u001b[39m\u001b[37m⠀\u001b[39m\u001b[37m⠀\u001b[39m\u001b[37m⠀\u001b[39m\u001b[37m⠀\u001b[39m\u001b[37m⠀\u001b[39m\u001b[37m⠀\u001b[39m\u001b[37m│\u001b[39m                  \n",
       "\u001b[37m           └────────────────────────────────────────┘\u001b[39m                  \n",
       "\u001b[37m           -10\u001b[39m\u001b[37m                 \u001b[39m\u001b[37m                    10\u001b[39m\n",
       "\u001b[37m                               x\u001b[39m\n"
      ]
     },
     "metadata": {},
     "output_type": "display_data"
    },
    {
     "data": {
      "text/plain": [
       "\u001b[37m             Loss versus training epochs\u001b[39m\n",
       "\u001b[37m      ┌────────────────────────────────────────┐\u001b[39m \n",
       "   \u001b[37m40\u001b[39m\u001b[37m │\u001b[39m\u001b[37m⠀\u001b[39m\u001b[37m⠀\u001b[39m\u001b[37m⠀\u001b[39m\u001b[37m⠀\u001b[39m\u001b[37m⠀\u001b[39m\u001b[37m⠀\u001b[39m\u001b[37m⠀\u001b[39m\u001b[37m⠀\u001b[39m\u001b[37m⠀\u001b[39m\u001b[37m⠀\u001b[39m\u001b[37m⠀\u001b[39m\u001b[37m⠀\u001b[39m\u001b[37m⠀\u001b[39m\u001b[37m⠀\u001b[39m\u001b[37m⠀\u001b[39m\u001b[37m⠀\u001b[39m\u001b[37m⠀\u001b[39m\u001b[37m⠀\u001b[39m\u001b[37m⠀\u001b[39m\u001b[37m⠀\u001b[39m\u001b[37m⠀\u001b[39m\u001b[37m⠀\u001b[39m\u001b[37m⠀\u001b[39m\u001b[37m⠀\u001b[39m\u001b[37m⠀\u001b[39m\u001b[37m⠀\u001b[39m\u001b[37m⠀\u001b[39m\u001b[37m⠀\u001b[39m\u001b[37m⠀\u001b[39m\u001b[37m⠀\u001b[39m\u001b[37m⠀\u001b[39m\u001b[37m⠀\u001b[39m\u001b[37m⠀\u001b[39m\u001b[37m⠀\u001b[39m\u001b[37m⠀\u001b[39m\u001b[37m⠀\u001b[39m\u001b[37m⠀\u001b[39m\u001b[37m⠀\u001b[39m\u001b[37m⠀\u001b[39m\u001b[37m⠀\u001b[39m\u001b[37m│\u001b[39m \n",
       "     \u001b[37m │\u001b[39m\u001b[37m⠀\u001b[39m\u001b[37m⠀\u001b[39m\u001b[37m⠀\u001b[39m\u001b[37m⠀\u001b[39m\u001b[37m⠀\u001b[39m\u001b[37m⠀\u001b[39m\u001b[37m⠀\u001b[39m\u001b[37m⠀\u001b[39m\u001b[37m⠀\u001b[39m\u001b[37m⠀\u001b[39m\u001b[37m⠀\u001b[39m\u001b[37m⠀\u001b[39m\u001b[37m⠀\u001b[39m\u001b[37m⠀\u001b[39m\u001b[37m⠀\u001b[39m\u001b[37m⠀\u001b[39m\u001b[37m⠀\u001b[39m\u001b[37m⠀\u001b[39m\u001b[37m⠀\u001b[39m\u001b[37m⠀\u001b[39m\u001b[37m⠀\u001b[39m\u001b[37m⠀\u001b[39m\u001b[37m⠀\u001b[39m\u001b[37m⠀\u001b[39m\u001b[37m⠀\u001b[39m\u001b[37m⠀\u001b[39m\u001b[37m⠀\u001b[39m\u001b[37m⠀\u001b[39m\u001b[37m⠀\u001b[39m\u001b[37m⠀\u001b[39m\u001b[37m⠀\u001b[39m\u001b[37m⠀\u001b[39m\u001b[37m⠀\u001b[39m\u001b[37m⠀\u001b[39m\u001b[37m⠀\u001b[39m\u001b[37m⠀\u001b[39m\u001b[37m⠀\u001b[39m\u001b[37m⠀\u001b[39m\u001b[37m⠀\u001b[39m\u001b[37m⠀\u001b[39m\u001b[37m│\u001b[39m \n",
       "     \u001b[37m │\u001b[39m\u001b[37m⠀\u001b[39m\u001b[37m⠀\u001b[39m\u001b[37m⠀\u001b[39m\u001b[37m⠀\u001b[39m\u001b[37m⠀\u001b[39m\u001b[37m⠀\u001b[39m\u001b[37m⠀\u001b[39m\u001b[37m⠀\u001b[39m\u001b[37m⠀\u001b[39m\u001b[37m⠀\u001b[39m\u001b[37m⠀\u001b[39m\u001b[37m⠀\u001b[39m\u001b[37m⠀\u001b[39m\u001b[37m⠀\u001b[39m\u001b[37m⠀\u001b[39m\u001b[37m⠀\u001b[39m\u001b[37m⠀\u001b[39m\u001b[37m⠀\u001b[39m\u001b[37m⠀\u001b[39m\u001b[37m⠀\u001b[39m\u001b[37m⠀\u001b[39m\u001b[37m⠀\u001b[39m\u001b[37m⠀\u001b[39m\u001b[37m⠀\u001b[39m\u001b[37m⠀\u001b[39m\u001b[37m⠀\u001b[39m\u001b[37m⠀\u001b[39m\u001b[37m⠀\u001b[39m\u001b[37m⠀\u001b[39m\u001b[37m⠀\u001b[39m\u001b[37m⠀\u001b[39m\u001b[37m⠀\u001b[39m\u001b[37m⠀\u001b[39m\u001b[37m⠀\u001b[39m\u001b[37m⠀\u001b[39m\u001b[37m⠀\u001b[39m\u001b[37m⠀\u001b[39m\u001b[37m⠀\u001b[39m\u001b[37m⠀\u001b[39m\u001b[37m⠀\u001b[39m\u001b[37m│\u001b[39m \n",
       "     \u001b[37m │\u001b[39m\u001b[34m⡄\u001b[39m\u001b[37m⠀\u001b[39m\u001b[37m⠀\u001b[39m\u001b[37m⠀\u001b[39m\u001b[37m⠀\u001b[39m\u001b[37m⠀\u001b[39m\u001b[37m⠀\u001b[39m\u001b[37m⠀\u001b[39m\u001b[37m⠀\u001b[39m\u001b[37m⠀\u001b[39m\u001b[37m⠀\u001b[39m\u001b[37m⠀\u001b[39m\u001b[37m⠀\u001b[39m\u001b[37m⠀\u001b[39m\u001b[37m⠀\u001b[39m\u001b[37m⠀\u001b[39m\u001b[37m⠀\u001b[39m\u001b[37m⠀\u001b[39m\u001b[37m⠀\u001b[39m\u001b[37m⠀\u001b[39m\u001b[37m⠀\u001b[39m\u001b[37m⠀\u001b[39m\u001b[37m⠀\u001b[39m\u001b[37m⠀\u001b[39m\u001b[37m⠀\u001b[39m\u001b[37m⠀\u001b[39m\u001b[37m⠀\u001b[39m\u001b[37m⠀\u001b[39m\u001b[37m⠀\u001b[39m\u001b[37m⠀\u001b[39m\u001b[37m⠀\u001b[39m\u001b[37m⠀\u001b[39m\u001b[37m⠀\u001b[39m\u001b[37m⠀\u001b[39m\u001b[37m⠀\u001b[39m\u001b[37m⠀\u001b[39m\u001b[37m⠀\u001b[39m\u001b[37m⠀\u001b[39m\u001b[37m⠀\u001b[39m\u001b[37m⠀\u001b[39m\u001b[37m│\u001b[39m \n",
       "     \u001b[37m │\u001b[39m\u001b[34m⡇\u001b[39m\u001b[37m⠀\u001b[39m\u001b[37m⠀\u001b[39m\u001b[37m⠀\u001b[39m\u001b[37m⠀\u001b[39m\u001b[37m⠀\u001b[39m\u001b[37m⠀\u001b[39m\u001b[37m⠀\u001b[39m\u001b[37m⠀\u001b[39m\u001b[37m⠀\u001b[39m\u001b[37m⠀\u001b[39m\u001b[37m⠀\u001b[39m\u001b[37m⠀\u001b[39m\u001b[37m⠀\u001b[39m\u001b[37m⠀\u001b[39m\u001b[37m⠀\u001b[39m\u001b[37m⠀\u001b[39m\u001b[37m⠀\u001b[39m\u001b[37m⠀\u001b[39m\u001b[37m⠀\u001b[39m\u001b[37m⠀\u001b[39m\u001b[37m⠀\u001b[39m\u001b[37m⠀\u001b[39m\u001b[37m⠀\u001b[39m\u001b[37m⠀\u001b[39m\u001b[37m⠀\u001b[39m\u001b[37m⠀\u001b[39m\u001b[37m⠀\u001b[39m\u001b[37m⠀\u001b[39m\u001b[37m⠀\u001b[39m\u001b[37m⠀\u001b[39m\u001b[37m⠀\u001b[39m\u001b[37m⠀\u001b[39m\u001b[37m⠀\u001b[39m\u001b[37m⠀\u001b[39m\u001b[37m⠀\u001b[39m\u001b[37m⠀\u001b[39m\u001b[37m⠀\u001b[39m\u001b[37m⠀\u001b[39m\u001b[37m⠀\u001b[39m\u001b[37m│\u001b[39m \n",
       "     \u001b[37m │\u001b[39m\u001b[34m⡇\u001b[39m\u001b[37m⠀\u001b[39m\u001b[37m⠀\u001b[39m\u001b[37m⠀\u001b[39m\u001b[37m⠀\u001b[39m\u001b[37m⠀\u001b[39m\u001b[37m⠀\u001b[39m\u001b[37m⠀\u001b[39m\u001b[37m⠀\u001b[39m\u001b[37m⠀\u001b[39m\u001b[37m⠀\u001b[39m\u001b[37m⠀\u001b[39m\u001b[37m⠀\u001b[39m\u001b[37m⠀\u001b[39m\u001b[37m⠀\u001b[39m\u001b[37m⠀\u001b[39m\u001b[37m⠀\u001b[39m\u001b[37m⠀\u001b[39m\u001b[37m⠀\u001b[39m\u001b[37m⠀\u001b[39m\u001b[37m⠀\u001b[39m\u001b[37m⠀\u001b[39m\u001b[37m⠀\u001b[39m\u001b[37m⠀\u001b[39m\u001b[37m⠀\u001b[39m\u001b[37m⠀\u001b[39m\u001b[37m⠀\u001b[39m\u001b[37m⠀\u001b[39m\u001b[37m⠀\u001b[39m\u001b[37m⠀\u001b[39m\u001b[37m⠀\u001b[39m\u001b[37m⠀\u001b[39m\u001b[37m⠀\u001b[39m\u001b[37m⠀\u001b[39m\u001b[37m⠀\u001b[39m\u001b[37m⠀\u001b[39m\u001b[37m⠀\u001b[39m\u001b[37m⠀\u001b[39m\u001b[37m⠀\u001b[39m\u001b[37m⠀\u001b[39m\u001b[37m│\u001b[39m \n",
       "     \u001b[37m │\u001b[39m\u001b[34m⡇\u001b[39m\u001b[37m⠀\u001b[39m\u001b[37m⠀\u001b[39m\u001b[37m⠀\u001b[39m\u001b[37m⠀\u001b[39m\u001b[37m⠀\u001b[39m\u001b[37m⠀\u001b[39m\u001b[37m⠀\u001b[39m\u001b[37m⠀\u001b[39m\u001b[37m⠀\u001b[39m\u001b[37m⠀\u001b[39m\u001b[37m⠀\u001b[39m\u001b[37m⠀\u001b[39m\u001b[37m⠀\u001b[39m\u001b[37m⠀\u001b[39m\u001b[37m⠀\u001b[39m\u001b[37m⠀\u001b[39m\u001b[37m⠀\u001b[39m\u001b[37m⠀\u001b[39m\u001b[37m⠀\u001b[39m\u001b[37m⠀\u001b[39m\u001b[37m⠀\u001b[39m\u001b[37m⠀\u001b[39m\u001b[37m⠀\u001b[39m\u001b[37m⠀\u001b[39m\u001b[37m⠀\u001b[39m\u001b[37m⠀\u001b[39m\u001b[37m⠀\u001b[39m\u001b[37m⠀\u001b[39m\u001b[37m⠀\u001b[39m\u001b[37m⠀\u001b[39m\u001b[37m⠀\u001b[39m\u001b[37m⠀\u001b[39m\u001b[37m⠀\u001b[39m\u001b[37m⠀\u001b[39m\u001b[37m⠀\u001b[39m\u001b[37m⠀\u001b[39m\u001b[37m⠀\u001b[39m\u001b[37m⠀\u001b[39m\u001b[37m⠀\u001b[39m\u001b[37m│\u001b[39m \n",
       "     \u001b[37m │\u001b[39m\u001b[34m⡇\u001b[39m\u001b[37m⠀\u001b[39m\u001b[37m⠀\u001b[39m\u001b[37m⠀\u001b[39m\u001b[37m⠀\u001b[39m\u001b[37m⠀\u001b[39m\u001b[37m⠀\u001b[39m\u001b[37m⠀\u001b[39m\u001b[37m⠀\u001b[39m\u001b[37m⠀\u001b[39m\u001b[37m⠀\u001b[39m\u001b[37m⠀\u001b[39m\u001b[37m⠀\u001b[39m\u001b[37m⠀\u001b[39m\u001b[37m⠀\u001b[39m\u001b[37m⠀\u001b[39m\u001b[37m⠀\u001b[39m\u001b[37m⠀\u001b[39m\u001b[37m⠀\u001b[39m\u001b[37m⠀\u001b[39m\u001b[37m⠀\u001b[39m\u001b[37m⠀\u001b[39m\u001b[37m⠀\u001b[39m\u001b[37m⠀\u001b[39m\u001b[37m⠀\u001b[39m\u001b[37m⠀\u001b[39m\u001b[37m⠀\u001b[39m\u001b[37m⠀\u001b[39m\u001b[37m⠀\u001b[39m\u001b[37m⠀\u001b[39m\u001b[37m⠀\u001b[39m\u001b[37m⠀\u001b[39m\u001b[37m⠀\u001b[39m\u001b[37m⠀\u001b[39m\u001b[37m⠀\u001b[39m\u001b[37m⠀\u001b[39m\u001b[37m⠀\u001b[39m\u001b[37m⠀\u001b[39m\u001b[37m⠀\u001b[39m\u001b[37m⠀\u001b[39m\u001b[37m│\u001b[39m \n",
       "     \u001b[37m │\u001b[39m\u001b[34m⢸\u001b[39m\u001b[37m⠀\u001b[39m\u001b[37m⠀\u001b[39m\u001b[37m⠀\u001b[39m\u001b[37m⠀\u001b[39m\u001b[37m⠀\u001b[39m\u001b[37m⠀\u001b[39m\u001b[37m⠀\u001b[39m\u001b[37m⠀\u001b[39m\u001b[37m⠀\u001b[39m\u001b[37m⠀\u001b[39m\u001b[37m⠀\u001b[39m\u001b[37m⠀\u001b[39m\u001b[37m⠀\u001b[39m\u001b[37m⠀\u001b[39m\u001b[37m⠀\u001b[39m\u001b[37m⠀\u001b[39m\u001b[37m⠀\u001b[39m\u001b[37m⠀\u001b[39m\u001b[37m⠀\u001b[39m\u001b[37m⠀\u001b[39m\u001b[37m⠀\u001b[39m\u001b[37m⠀\u001b[39m\u001b[37m⠀\u001b[39m\u001b[37m⠀\u001b[39m\u001b[37m⠀\u001b[39m\u001b[37m⠀\u001b[39m\u001b[37m⠀\u001b[39m\u001b[37m⠀\u001b[39m\u001b[37m⠀\u001b[39m\u001b[37m⠀\u001b[39m\u001b[37m⠀\u001b[39m\u001b[37m⠀\u001b[39m\u001b[37m⠀\u001b[39m\u001b[37m⠀\u001b[39m\u001b[37m⠀\u001b[39m\u001b[37m⠀\u001b[39m\u001b[37m⠀\u001b[39m\u001b[37m⠀\u001b[39m\u001b[37m⠀\u001b[39m\u001b[37m│\u001b[39m \n",
       "     \u001b[37m │\u001b[39m\u001b[34m⢸\u001b[39m\u001b[37m⠀\u001b[39m\u001b[37m⠀\u001b[39m\u001b[37m⠀\u001b[39m\u001b[37m⠀\u001b[39m\u001b[37m⠀\u001b[39m\u001b[37m⠀\u001b[39m\u001b[37m⠀\u001b[39m\u001b[37m⠀\u001b[39m\u001b[37m⠀\u001b[39m\u001b[37m⠀\u001b[39m\u001b[37m⠀\u001b[39m\u001b[37m⠀\u001b[39m\u001b[37m⠀\u001b[39m\u001b[37m⠀\u001b[39m\u001b[37m⠀\u001b[39m\u001b[37m⠀\u001b[39m\u001b[37m⠀\u001b[39m\u001b[37m⠀\u001b[39m\u001b[37m⠀\u001b[39m\u001b[37m⠀\u001b[39m\u001b[37m⠀\u001b[39m\u001b[37m⠀\u001b[39m\u001b[37m⠀\u001b[39m\u001b[37m⠀\u001b[39m\u001b[37m⠀\u001b[39m\u001b[37m⠀\u001b[39m\u001b[37m⠀\u001b[39m\u001b[37m⠀\u001b[39m\u001b[37m⠀\u001b[39m\u001b[37m⠀\u001b[39m\u001b[37m⠀\u001b[39m\u001b[37m⠀\u001b[39m\u001b[37m⠀\u001b[39m\u001b[37m⠀\u001b[39m\u001b[37m⠀\u001b[39m\u001b[37m⠀\u001b[39m\u001b[37m⠀\u001b[39m\u001b[37m⠀\u001b[39m\u001b[37m⠀\u001b[39m\u001b[37m│\u001b[39m \n",
       "     \u001b[37m │\u001b[39m\u001b[34m⢸\u001b[39m\u001b[37m⠀\u001b[39m\u001b[37m⠀\u001b[39m\u001b[37m⠀\u001b[39m\u001b[37m⠀\u001b[39m\u001b[37m⠀\u001b[39m\u001b[37m⠀\u001b[39m\u001b[37m⠀\u001b[39m\u001b[37m⠀\u001b[39m\u001b[37m⠀\u001b[39m\u001b[37m⠀\u001b[39m\u001b[37m⠀\u001b[39m\u001b[37m⠀\u001b[39m\u001b[37m⠀\u001b[39m\u001b[37m⠀\u001b[39m\u001b[37m⠀\u001b[39m\u001b[37m⠀\u001b[39m\u001b[37m⠀\u001b[39m\u001b[37m⠀\u001b[39m\u001b[37m⠀\u001b[39m\u001b[37m⠀\u001b[39m\u001b[37m⠀\u001b[39m\u001b[37m⠀\u001b[39m\u001b[37m⠀\u001b[39m\u001b[37m⠀\u001b[39m\u001b[37m⠀\u001b[39m\u001b[37m⠀\u001b[39m\u001b[37m⠀\u001b[39m\u001b[37m⠀\u001b[39m\u001b[37m⠀\u001b[39m\u001b[37m⠀\u001b[39m\u001b[37m⠀\u001b[39m\u001b[37m⠀\u001b[39m\u001b[37m⠀\u001b[39m\u001b[37m⠀\u001b[39m\u001b[37m⠀\u001b[39m\u001b[37m⠀\u001b[39m\u001b[37m⠀\u001b[39m\u001b[37m⠀\u001b[39m\u001b[37m⠀\u001b[39m\u001b[37m│\u001b[39m \n",
       "     \u001b[37m │\u001b[39m\u001b[34m⢸\u001b[39m\u001b[37m⠀\u001b[39m\u001b[37m⠀\u001b[39m\u001b[37m⠀\u001b[39m\u001b[37m⠀\u001b[39m\u001b[37m⠀\u001b[39m\u001b[37m⠀\u001b[39m\u001b[37m⠀\u001b[39m\u001b[37m⠀\u001b[39m\u001b[37m⠀\u001b[39m\u001b[37m⠀\u001b[39m\u001b[37m⠀\u001b[39m\u001b[37m⠀\u001b[39m\u001b[37m⠀\u001b[39m\u001b[37m⠀\u001b[39m\u001b[37m⠀\u001b[39m\u001b[37m⠀\u001b[39m\u001b[37m⠀\u001b[39m\u001b[37m⠀\u001b[39m\u001b[37m⠀\u001b[39m\u001b[37m⠀\u001b[39m\u001b[37m⠀\u001b[39m\u001b[37m⠀\u001b[39m\u001b[37m⠀\u001b[39m\u001b[37m⠀\u001b[39m\u001b[37m⠀\u001b[39m\u001b[37m⠀\u001b[39m\u001b[37m⠀\u001b[39m\u001b[37m⠀\u001b[39m\u001b[37m⠀\u001b[39m\u001b[37m⠀\u001b[39m\u001b[37m⠀\u001b[39m\u001b[37m⠀\u001b[39m\u001b[37m⠀\u001b[39m\u001b[37m⠀\u001b[39m\u001b[37m⠀\u001b[39m\u001b[37m⠀\u001b[39m\u001b[37m⠀\u001b[39m\u001b[37m⠀\u001b[39m\u001b[37m⠀\u001b[39m\u001b[37m│\u001b[39m \n",
       "     \u001b[37m │\u001b[39m\u001b[34m⢸\u001b[39m\u001b[37m⠀\u001b[39m\u001b[37m⠀\u001b[39m\u001b[37m⠀\u001b[39m\u001b[37m⠀\u001b[39m\u001b[37m⠀\u001b[39m\u001b[37m⠀\u001b[39m\u001b[37m⠀\u001b[39m\u001b[37m⠀\u001b[39m\u001b[37m⠀\u001b[39m\u001b[37m⠀\u001b[39m\u001b[37m⠀\u001b[39m\u001b[37m⠀\u001b[39m\u001b[37m⠀\u001b[39m\u001b[37m⠀\u001b[39m\u001b[37m⠀\u001b[39m\u001b[37m⠀\u001b[39m\u001b[37m⠀\u001b[39m\u001b[37m⠀\u001b[39m\u001b[37m⠀\u001b[39m\u001b[37m⠀\u001b[39m\u001b[37m⠀\u001b[39m\u001b[37m⠀\u001b[39m\u001b[37m⠀\u001b[39m\u001b[37m⠀\u001b[39m\u001b[37m⠀\u001b[39m\u001b[37m⠀\u001b[39m\u001b[37m⠀\u001b[39m\u001b[37m⠀\u001b[39m\u001b[37m⠀\u001b[39m\u001b[37m⠀\u001b[39m\u001b[37m⠀\u001b[39m\u001b[37m⠀\u001b[39m\u001b[37m⠀\u001b[39m\u001b[37m⠀\u001b[39m\u001b[37m⠀\u001b[39m\u001b[37m⠀\u001b[39m\u001b[37m⠀\u001b[39m\u001b[37m⠀\u001b[39m\u001b[37m⠀\u001b[39m\u001b[37m│\u001b[39m \n",
       "     \u001b[37m │\u001b[39m\u001b[34m⠈\u001b[39m\u001b[34m⡆\u001b[39m\u001b[37m⠀\u001b[39m\u001b[37m⠀\u001b[39m\u001b[37m⠀\u001b[39m\u001b[37m⠀\u001b[39m\u001b[37m⠀\u001b[39m\u001b[37m⠀\u001b[39m\u001b[37m⠀\u001b[39m\u001b[37m⠀\u001b[39m\u001b[37m⠀\u001b[39m\u001b[37m⠀\u001b[39m\u001b[37m⠀\u001b[39m\u001b[37m⠀\u001b[39m\u001b[37m⠀\u001b[39m\u001b[37m⠀\u001b[39m\u001b[37m⠀\u001b[39m\u001b[37m⠀\u001b[39m\u001b[37m⠀\u001b[39m\u001b[37m⠀\u001b[39m\u001b[37m⠀\u001b[39m\u001b[37m⠀\u001b[39m\u001b[37m⠀\u001b[39m\u001b[37m⠀\u001b[39m\u001b[37m⠀\u001b[39m\u001b[37m⠀\u001b[39m\u001b[37m⠀\u001b[39m\u001b[37m⠀\u001b[39m\u001b[37m⠀\u001b[39m\u001b[37m⠀\u001b[39m\u001b[37m⠀\u001b[39m\u001b[37m⠀\u001b[39m\u001b[37m⠀\u001b[39m\u001b[37m⠀\u001b[39m\u001b[37m⠀\u001b[39m\u001b[37m⠀\u001b[39m\u001b[37m⠀\u001b[39m\u001b[37m⠀\u001b[39m\u001b[37m⠀\u001b[39m\u001b[37m⠀\u001b[39m\u001b[37m│\u001b[39m \n",
       "    \u001b[37m0\u001b[39m\u001b[37m │\u001b[39m\u001b[37m⠀\u001b[39m\u001b[34m⠙\u001b[39m\u001b[34m⠒\u001b[39m\u001b[34m⠤\u001b[39m\u001b[34m⠤\u001b[39m\u001b[34m⢤\u001b[39m\u001b[34m⣀\u001b[39m\u001b[34m⣀\u001b[39m\u001b[34m⣀\u001b[39m\u001b[34m⣀\u001b[39m\u001b[34m⣀\u001b[39m\u001b[34m⣀\u001b[39m\u001b[34m⣀\u001b[39m\u001b[34m⣀\u001b[39m\u001b[34m⣀\u001b[39m\u001b[34m⣀\u001b[39m\u001b[34m⣀\u001b[39m\u001b[34m⣀\u001b[39m\u001b[34m⣀\u001b[39m\u001b[34m⣀\u001b[39m\u001b[34m⣀\u001b[39m\u001b[34m⣀\u001b[39m\u001b[34m⣀\u001b[39m\u001b[34m⣀\u001b[39m\u001b[34m⣀\u001b[39m\u001b[34m⣀\u001b[39m\u001b[34m⣀\u001b[39m\u001b[34m⣀\u001b[39m\u001b[34m⣀\u001b[39m\u001b[34m⣀\u001b[39m\u001b[34m⣀\u001b[39m\u001b[34m⣀\u001b[39m\u001b[34m⣀\u001b[39m\u001b[34m⣀\u001b[39m\u001b[34m⣀\u001b[39m\u001b[34m⣀\u001b[39m\u001b[34m⣀\u001b[39m\u001b[34m⣀\u001b[39m\u001b[34m⣀\u001b[39m\u001b[34m⣀\u001b[39m\u001b[37m│\u001b[39m \n",
       "\u001b[37m      └────────────────────────────────────────┘\u001b[39m \n",
       "\u001b[37m      0\u001b[39m\u001b[37m                   \u001b[39m\u001b[37m                   500\u001b[39m\n"
      ]
     },
     "metadata": {},
     "output_type": "display_data"
    }
   ],
   "source": [
    "# Start from randomness again\n",
    "w_tracked.data[:] = randn(3)\n",
    "\n",
    "# Run training loop, keeping track of losses\n",
    "losses = Float64[]\n",
    "for epoch in 1:500\n",
    "    l = training_epoch(relu, f_tracked)\n",
    "    push!(losses, l)\n",
    "end\n",
    "\n",
    "# Plot function and tracked loss\n",
    "p = lineplot([relu, f_tracked_data], -10, 10)\n",
    "display(p)\n",
    "p = lineplot(losses; title=\"Loss versus training epochs\")\n",
    "display(p)"
   ]
  }
 ],
 "metadata": {
  "kernelspec": {
   "display_name": "Julia 1.0.0",
   "language": "julia",
   "name": "julia-1.0"
  },
  "language_info": {
   "file_extension": ".jl",
   "mimetype": "application/julia",
   "name": "julia",
   "version": "1.0.0"
  }
 },
 "nbformat": 4,
 "nbformat_minor": 2
}
